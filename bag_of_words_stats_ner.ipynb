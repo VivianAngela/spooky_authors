{
 "cells": [
  {
   "cell_type": "code",
   "execution_count": 81,
   "metadata": {
    "collapsed": true
   },
   "outputs": [],
   "source": [
    "import pandas as pd\n",
    "import numpy as np\n",
    "from sklearn.feature_extraction.text import CountVectorizer\n",
    "from sklearn.feature_extraction.text import TfidfTransformer\n",
    "from sklearn.feature_extraction import DictVectorizer\n",
    "from sklearn.model_selection import train_test_split\n",
    "from sklearn.linear_model import LogisticRegression\n",
    "from sklearn.naive_bayes import MultinomialNB\n",
    "from sklearn.linear_model import SGDClassifier\n",
    "from sklearn.metrics import classification_report\n",
    "from sklearn.pipeline import Pipeline\n",
    "from sklearn.pipeline import make_pipeline\n",
    "from sklearn.pipeline import make_union\n",
    "from sklearn.pipeline import FeatureUnion\n",
    "from sklearn.pipeline import Pipeline\n",
    "from sklearn import svm\n",
    "from sklearn.model_selection import StratifiedKFold\n",
    "from sklearn.metrics import precision_recall_fscore_support\n",
    "from sklearn.base import BaseEstimator, TransformerMixin\n",
    "from sklearn.model_selection import GridSearchCV\n",
    "import time\n",
    "import spacy\n",
    "from sklearn import preprocessing\n",
    "import warnings\n",
    "warnings.filterwarnings('ignore')\n",
    "%matplotlib inline\n",
    "import utils"
   ]
  },
  {
   "cell_type": "code",
   "execution_count": 2,
   "metadata": {
    "collapsed": true
   },
   "outputs": [],
   "source": [
    "nlp = spacy.load(\"en_core_web_md\")"
   ]
  },
  {
   "cell_type": "code",
   "execution_count": 3,
   "metadata": {
    "collapsed": true
   },
   "outputs": [],
   "source": [
    "train = pd.read_csv('data/train.csv')\n",
    "test  = pd.read_csv('data/test.csv')"
   ]
  },
  {
   "cell_type": "code",
   "execution_count": 4,
   "metadata": {},
   "outputs": [
    {
     "data": {
      "text/html": [
       "<div>\n",
       "<style>\n",
       "    .dataframe thead tr:only-child th {\n",
       "        text-align: right;\n",
       "    }\n",
       "\n",
       "    .dataframe thead th {\n",
       "        text-align: left;\n",
       "    }\n",
       "\n",
       "    .dataframe tbody tr th {\n",
       "        vertical-align: top;\n",
       "    }\n",
       "</style>\n",
       "<table border=\"1\" class=\"dataframe\">\n",
       "  <thead>\n",
       "    <tr style=\"text-align: right;\">\n",
       "      <th></th>\n",
       "      <th>id</th>\n",
       "      <th>text</th>\n",
       "      <th>author</th>\n",
       "    </tr>\n",
       "  </thead>\n",
       "  <tbody>\n",
       "    <tr>\n",
       "      <th>0</th>\n",
       "      <td>id26305</td>\n",
       "      <td>This process, however, afforded me no means of...</td>\n",
       "      <td>EAP</td>\n",
       "    </tr>\n",
       "    <tr>\n",
       "      <th>1</th>\n",
       "      <td>id17569</td>\n",
       "      <td>It never once occurred to me that the fumbling...</td>\n",
       "      <td>HPL</td>\n",
       "    </tr>\n",
       "  </tbody>\n",
       "</table>\n",
       "</div>"
      ],
      "text/plain": [
       "        id                                               text author\n",
       "0  id26305  This process, however, afforded me no means of...    EAP\n",
       "1  id17569  It never once occurred to me that the fumbling...    HPL"
      ]
     },
     "execution_count": 4,
     "metadata": {},
     "output_type": "execute_result"
    }
   ],
   "source": [
    "train.head(2)"
   ]
  },
  {
   "cell_type": "code",
   "execution_count": 5,
   "metadata": {},
   "outputs": [
    {
     "data": {
      "text/html": [
       "<div>\n",
       "<style>\n",
       "    .dataframe thead tr:only-child th {\n",
       "        text-align: right;\n",
       "    }\n",
       "\n",
       "    .dataframe thead th {\n",
       "        text-align: left;\n",
       "    }\n",
       "\n",
       "    .dataframe tbody tr th {\n",
       "        vertical-align: top;\n",
       "    }\n",
       "</style>\n",
       "<table border=\"1\" class=\"dataframe\">\n",
       "  <thead>\n",
       "    <tr style=\"text-align: right;\">\n",
       "      <th></th>\n",
       "      <th>id</th>\n",
       "      <th>text</th>\n",
       "    </tr>\n",
       "  </thead>\n",
       "  <tbody>\n",
       "    <tr>\n",
       "      <th>0</th>\n",
       "      <td>id02310</td>\n",
       "      <td>Still, as I urged our leaving Ireland with suc...</td>\n",
       "    </tr>\n",
       "    <tr>\n",
       "      <th>1</th>\n",
       "      <td>id24541</td>\n",
       "      <td>If a fire wanted fanning, it could readily be ...</td>\n",
       "    </tr>\n",
       "  </tbody>\n",
       "</table>\n",
       "</div>"
      ],
      "text/plain": [
       "        id                                               text\n",
       "0  id02310  Still, as I urged our leaving Ireland with suc...\n",
       "1  id24541  If a fire wanted fanning, it could readily be ..."
      ]
     },
     "execution_count": 5,
     "metadata": {},
     "output_type": "execute_result"
    }
   ],
   "source": [
    "test.head(2)"
   ]
  },
  {
   "cell_type": "code",
   "execution_count": 6,
   "metadata": {},
   "outputs": [
    {
     "name": "stdout",
     "output_type": "stream",
     "text": [
      "Number of labelled training examples: 19579\n"
     ]
    }
   ],
   "source": [
    "print(\"Number of labelled training examples: {}\".format(train.shape[0]))"
   ]
  },
  {
   "cell_type": "code",
   "execution_count": 7,
   "metadata": {},
   "outputs": [
    {
     "name": "stdout",
     "output_type": "stream",
     "text": [
      "Distribution of training data for the three authors\n"
     ]
    },
    {
     "data": {
      "text/plain": [
       "<matplotlib.axes._subplots.AxesSubplot at 0x1abca8358>"
      ]
     },
     "execution_count": 7,
     "metadata": {},
     "output_type": "execute_result"
    },
    {
     "data": {
      "image/png": "[encoded data removed]",
      "text/plain": [
       "<matplotlib.figure.Figure at 0x1ab8a5ef0>"
      ]
     },
     "metadata": {},
     "output_type": "display_data"
    }
   ],
   "source": [
    "print(\"Distribution of training data for the three authors\")\n",
    "train['author'].value_counts().plot(kind=\"barh\", color='brg')"
   ]
  },
  {
   "cell_type": "code",
   "execution_count": 8,
   "metadata": {},
   "outputs": [
    {
     "name": "stdout",
     "output_type": "stream",
     "text": [
      "Number of unlabelled test examples: 8392\n"
     ]
    }
   ],
   "source": [
    "print(\"Number of unlabelled test examples: {}\".format(test.shape[0]))"
   ]
  },
  {
   "cell_type": "code",
   "execution_count": 9,
   "metadata": {
    "collapsed": true
   },
   "outputs": [],
   "source": [
    "# simple split for screening model performance\n",
    "X_train, X_test, y_train, y_test = train_test_split(train, train.author, test_size=0.20, random_state=42)"
   ]
  },
  {
   "cell_type": "code",
   "execution_count": 10,
   "metadata": {},
   "outputs": [],
   "source": [
    "# n-fold stratified CV for robust model performance\n",
    "X = train\n",
    "y = train.author"
   ]
  },
  {
   "cell_type": "code",
   "execution_count": 11,
   "metadata": {},
   "outputs": [
    {
     "data": {
      "text/plain": [
       "LabelEncoder()"
      ]
     },
     "execution_count": 11,
     "metadata": {},
     "output_type": "execute_result"
    }
   ],
   "source": [
    "le = preprocessing.LabelEncoder()\n",
    "le.fit(y)"
   ]
  },
  {
   "cell_type": "code",
   "execution_count": 12,
   "metadata": {},
   "outputs": [
    {
     "data": {
      "text/plain": [
       "array(['EAP', 'HPL', 'MWS'], dtype=object)"
      ]
     },
     "execution_count": 12,
     "metadata": {},
     "output_type": "execute_result"
    }
   ],
   "source": [
    "le.classes_"
   ]
  },
  {
   "cell_type": "code",
   "execution_count": 13,
   "metadata": {
    "collapsed": true
   },
   "outputs": [],
   "source": [
    "# sanity check for label ordering\n",
    "# 0: EAP, 1: HPL, 2: MWS"
   ]
  },
  {
   "cell_type": "code",
   "execution_count": 14,
   "metadata": {},
   "outputs": [
    {
     "data": {
      "text/plain": [
       "0    EAP\n",
       "1    HPL\n",
       "2    EAP\n",
       "3    MWS\n",
       "4    HPL\n",
       "Name: author, dtype: object"
      ]
     },
     "execution_count": 14,
     "metadata": {},
     "output_type": "execute_result"
    }
   ],
   "source": [
    "y[:5]"
   ]
  },
  {
   "cell_type": "code",
   "execution_count": 15,
   "metadata": {},
   "outputs": [
    {
     "data": {
      "text/plain": [
       "array([0, 1, 0, 2, 1])"
      ]
     },
     "execution_count": 15,
     "metadata": {},
     "output_type": "execute_result"
    }
   ],
   "source": [
    "le.transform(y)[:5]"
   ]
  },
  {
   "cell_type": "markdown",
   "metadata": {},
   "source": [
    "## Author-specific Named Entities"
   ]
  },
  {
   "cell_type": "code",
   "execution_count": 16,
   "metadata": {},
   "outputs": [],
   "source": [
    "ner_EAP = pd.read_csv('data/ner_EAP.csv', header=None)\n",
    "ner_EAP = ner_EAP[0].tolist()\n",
    "ner_HPL = pd.read_csv('data/ner_HPL.csv', header=None)\n",
    "ner_HPL = ner_HPL[0].tolist()\n",
    "ner_MWS = pd.read_csv('data/ner_MWS.csv', header=None)\n",
    "ner_MWS = ner_MWS[0].tolist()"
   ]
  },
  {
   "cell_type": "code",
   "execution_count": 17,
   "metadata": {},
   "outputs": [
    {
     "data": {
      "text/plain": [
       "['Epicurus', \"Von Kempelen's\", 'Underduk', 'Ellison', 'Mein Gott']"
      ]
     },
     "execution_count": 17,
     "metadata": {},
     "output_type": "execute_result"
    }
   ],
   "source": [
    "ner_EAP[:5]"
   ]
  },
  {
   "cell_type": "code",
   "execution_count": 18,
   "metadata": {
    "collapsed": true
   },
   "outputs": [],
   "source": [
    "def kfold_CV(clf, X, y, folds, transform=True):\n",
    "    \"\"\" Run a stratified k-fold Cross Validation on the training set and print the results.\n",
    "        \n",
    "        Args:\n",
    "            clf (Pipeline): sklearn Pipeline\n",
    "            X    (pandas df): data points, here: novel snippets\n",
    "            y    (pandas df): class labels, here: authors\n",
    "            folds      (int): number of folds\n",
    "            transform (bool): if True, use .fit_transform(); if False, use .fit()\n",
    "    \"\"\"\n",
    "\n",
    "    kf = StratifiedKFold(n_splits=folds, shuffle=True)\n",
    "    \n",
    "    precision, recall, f1 = [], [], []\n",
    "\n",
    "    fold_cntr = 1\n",
    "    for train_index, test_index in kf.split(X,y):\n",
    "        \n",
    "        X_train, X_test = X[train_index], X[test_index]\n",
    "        y_train, y_test = y[train_index], y[test_index]\n",
    "        \n",
    "        if transform == True:\n",
    "            clf.fit_transform(X_train, y_train)\n",
    "        else:\n",
    "            clf.fit(X_train, y_train)\n",
    "        \n",
    "        predicted = text_clf.predict(X_test)\n",
    "        prec_, rec_, f1_ = precision_recall_fscore_support(y_test, predicted, average='macro')[:3]\n",
    "        \n",
    "        precision.append(prec_)\n",
    "        recall.append(rec_)\n",
    "        f1.append(f1_)\n",
    "        \n",
    "        print(\"FOLD: {} Precision: {}, Recall: {}, F1: {}\".format(fold_cntr, round(prec_,3), round(rec_,3), round(f1_,3)))\n",
    "        fold_cntr += 1\n",
    "        \n",
    "    print(\"\\nAverage results of {}-fold stratified CV\\n\".format(folds))\n",
    "    print(\"Precision: {}, Standard deviation: {}\".format(np.mean(precision), np.std(precision)))\n",
    "    print(\"Recall:    {}, Standard deviation: {}\".format(np.mean(recall), np.std(recall)))\n",
    "    print(\"Macro f1:  {}, Standard deviation: {}\".format(np.mean(f1), np.std(f1)))"
   ]
  },
  {
   "cell_type": "code",
   "execution_count": 70,
   "metadata": {
    "collapsed": true
   },
   "outputs": [],
   "source": [
    "class DataFrameColumnExtracter(BaseEstimator, TransformerMixin):\n",
    "\n",
    "    def __init__(self, column):\n",
    "        self.column = column\n",
    "\n",
    "    def fit(self, X, y=None):\n",
    "        return self\n",
    "\n",
    "    def transform(self, X, y=None):\n",
    "        return X[self.column]"
   ]
  },
  {
   "cell_type": "code",
   "execution_count": 72,
   "metadata": {},
   "outputs": [],
   "source": [
    "class TextStats(BaseEstimator, TransformerMixin):\n",
    "    \"\"\"Extract features from each document for DictVectorizer\"\"\"\n",
    "\n",
    "    def fit(self, x, y=None):\n",
    "        return self\n",
    "\n",
    "    def transform(self, posts):\n",
    "\n",
    "        return [{'length':len(nlp(text)),\n",
    "                 'num_sentences': len([sent for sent in nlp(text).sents]),\n",
    "                 'num_punctuations': len([token for token in nlp(text) if token.pos_ == \"PUNCT\"]),\n",
    "                 'num_descript_words': len([token for token in nlp(text) if token.pos_ == \"ADJ\" or token.pos_ == \"ADV\"])\n",
    "                } for text in posts]"
   ]
  },
  {
   "cell_type": "code",
   "execution_count": 73,
   "metadata": {},
   "outputs": [],
   "source": [
    "class NER_extractor(BaseEstimator, TransformerMixin):\n",
    "    \n",
    "    def fit(self, x, y=None):\n",
    "        return self\n",
    "\n",
    "    def transform(self, posts):\n",
    "        \"\"\"The workhorse of this feature extractor\"\"\"\n",
    "        ner_list = []\n",
    "        for text in posts:\n",
    "            doc = nlp(text)\n",
    "            eap_ners = 0\n",
    "            hpl_ners = 0\n",
    "            mws_ners = 0\n",
    "            if doc.ents:\n",
    "                for ent in doc.ents:\n",
    "                    if ent.text in ner_EAP:\n",
    "                        eap_ners += 1\n",
    "                    elif ent.text in ner_HPL:\n",
    "                        hpl_ners += 1\n",
    "                    elif ent.text in ner_MWS:\n",
    "                        mws_ners += 1\n",
    "                    \n",
    "            # print({'eap_ners':eap_ners, 'hpl_ners':hpl_ners, 'mws_ner':mws_ners})\n",
    "            ner_list.append({'eap_ners':eap_ners, 'hpl_ners':hpl_ners, 'mws_ner':mws_ners})\n",
    "        return ner_list"
   ]
  },
  {
   "cell_type": "code",
   "execution_count": 74,
   "metadata": {},
   "outputs": [],
   "source": [
    "# Use FeatureUnion to combine the features\n",
    "featureunionvect = FeatureUnion(\n",
    "    transformer_list=[\n",
    "\n",
    "        # Pipeline for pulling features from the text snippet\n",
    "        ('text_snippet', Pipeline([\n",
    "            ('selector', DataFrameColumnExtracter('text')),\n",
    "            ('vec', CountVectorizer()),\n",
    "            ('tfidf', TfidfTransformer()),\n",
    "        ])),\n",
    "\n",
    "        # Pipeline for pulling ad hoc features text snippet\n",
    "        ('text_stats', Pipeline([\n",
    "            ('selector', DataFrameColumnExtracter('text')),\n",
    "            ('stats', TextStats()),  # returns a list of dicts\n",
    "            ('stats_vec', DictVectorizer()),  # list of dicts -> feature matrix\n",
    "        ])),\n",
    "\n",
    "        # Pipeline for pulling NER features text snippet\n",
    "        ('text_ner', Pipeline([\n",
    "            ('selector', DataFrameColumnExtracter('text')),\n",
    "            ('ner', NER_extractor()),  # returns a list of dicts\n",
    "            ('ner_vect', DictVectorizer()),  # list of dicts -> feature matrix\n",
    "        ])),\n",
    "\n",
    "    ],\n",
    "\n",
    "    # weight components in FeatureUnion\n",
    "    transformer_weights=None,\n",
    ")"
   ]
  },
  {
   "cell_type": "code",
   "execution_count": 75,
   "metadata": {
    "collapsed": true
   },
   "outputs": [],
   "source": [
    "classifier = LogisticRegression()"
   ]
  },
  {
   "cell_type": "code",
   "execution_count": 76,
   "metadata": {},
   "outputs": [],
   "source": [
    "pipeline = Pipeline([('vect', featureunionvect), ('classifier', classifier)])"
   ]
  },
  {
   "cell_type": "code",
   "execution_count": 77,
   "metadata": {},
   "outputs": [],
   "source": [
    "X_train_sample = X_train#.head(10)\n",
    "y_train_sample = y_train#.head(10)"
   ]
  },
  {
   "cell_type": "code",
   "execution_count": 78,
   "metadata": {},
   "outputs": [
    {
     "data": {
      "text/plain": [
       "Pipeline(steps=[('vect', FeatureUnion(n_jobs=1,\n",
       "       transformer_list=[('text_snippet', Pipeline(steps=[('selector', DataFrameColumnExtracter(column='text')), ('vec', CountVectorizer(analyzer='word', binary=False, decode_error='strict',\n",
       "        dtype=<class 'numpy.int64'>, encoding='utf-8', input='content'...ty='l2', random_state=None, solver='liblinear', tol=0.0001,\n",
       "          verbose=0, warm_start=False))])"
      ]
     },
     "execution_count": 78,
     "metadata": {},
     "output_type": "execute_result"
    }
   ],
   "source": [
    "pipeline.fit(X_train_sample, y_train_sample)"
   ]
  },
  {
   "cell_type": "code",
   "execution_count": 79,
   "metadata": {
    "collapsed": true
   },
   "outputs": [],
   "source": [
    "predicted = pipeline.predict(X_test)"
   ]
  },
  {
   "cell_type": "code",
   "execution_count": 80,
   "metadata": {},
   "outputs": [
    {
     "name": "stdout",
     "output_type": "stream",
     "text": [
      "             precision    recall  f1-score   support\n",
      "\n",
      "        EAP       0.88      0.79      0.83      1754\n",
      "        HPL       0.78      0.85      0.82       982\n",
      "        MWS       0.80      0.86      0.83      1180\n",
      "\n",
      "avg / total       0.83      0.83      0.83      3916\n",
      "\n"
     ]
    }
   ],
   "source": [
    "print(classification_report(predicted, y_test))"
   ]
  },
  {
   "cell_type": "code",
   "execution_count": 67,
   "metadata": {},
   "outputs": [],
   "source": [
    "parameters = {\n",
    "    'vect__text_snippet__vec__max_df': (0.5, 1.0), #0.625, 0.75, 0.875, \n",
    "    'vect__text_snippet__vec__max_features': (None, 5000, 10000, 20000),\n",
    "    'vect__text_snippet__vec__min_df': (1, 5, 10), #, 20, 50), \n",
    "    'vect__text_snippet__tfidf__use_idf': (True, False),\n",
    "    'vect__text_snippet__tfidf__sublinear_tf': (True, False),\n",
    "    'vect__text_snippet__vec__binary': (True, False),\n",
    "    'vect__text_snippet__tfidf__norm': ('l1', 'l2'),\n",
    "    'classifier': (MultinomialNB(), LogisticRegression(), LogisticRegression(), svm.LinearSVC(), svm.SVC())\n",
    "    }  "
   ]
  },
  {
   "cell_type": "code",
   "execution_count": 68,
   "metadata": {},
   "outputs": [],
   "source": [
    "grid_search = GridSearchCV(pipeline, parameters, verbose=2, n_jobs=-1)"
   ]
  },
  {
   "cell_type": "code",
   "execution_count": 69,
   "metadata": {},
   "outputs": [
    {
     "name": "stdout",
     "output_type": "stream",
     "text": [
      "Fitting 3 folds for each of 768 candidates, totalling 2304 fits\n",
      "[CV] vect__text_snippet__tfidf__use_idf=True, vect__text_snippet__vec__max_df=0.5, vect__text_snippet__tfidf__norm=l1, vect__text_snippet__tfidf__sublinear_tf=True, vect__text_snippet__vec__min_df=1, vect__text_snippet__vec__max_features=None, classifier=MultinomialNB(alpha=1.0, class_prior=None, fit_prior=True), vect__text_snippet__vec__binary=True \n",
      "[CV] vect__text_snippet__tfidf__use_idf=True, vect__text_snippet__vec__max_df=0.5, vect__text_snippet__tfidf__norm=l1, vect__text_snippet__tfidf__sublinear_tf=True, vect__text_snippet__vec__min_df=1, vect__text_snippet__vec__max_features=None, classifier=MultinomialNB(alpha=1.0, class_prior=None, fit_prior=True), vect__text_snippet__vec__binary=True \n",
      "[CV] vect__text_snippet__tfidf__use_idf=True, vect__text_snippet__vec__max_df=0.5, vect__text_snippet__tfidf__norm=l1, vect__text_snippet__tfidf__sublinear_tf=True, vect__text_snippet__vec__min_df=1, vect__text_snippet__vec__max_features=None, classifier=MultinomialNB(alpha=1.0, class_prior=None, fit_prior=True), vect__text_snippet__vec__binary=True \n",
      "[CV] vect__text_snippet__tfidf__use_idf=True, vect__text_snippet__vec__max_df=0.5, vect__text_snippet__tfidf__norm=l1, vect__text_snippet__tfidf__sublinear_tf=True, vect__text_snippet__vec__min_df=5, vect__text_snippet__vec__max_features=None, classifier=MultinomialNB(alpha=1.0, class_prior=None, fit_prior=True), vect__text_snippet__vec__binary=True \n"
     ]
    },
    {
     "ename": "TypeError",
     "evalue": "catching classes that do not inherit from BaseException is not allowed",
     "output_type": "error",
     "traceback": [
      "\u001b[0;31m---------------------------------------------------------------------------\u001b[0m",
      "\u001b[0;31mRemoteTraceback\u001b[0m                           Traceback (most recent call last)",
      "\u001b[0;31mRemoteTraceback\u001b[0m: \n\"\"\"\nTraceback (most recent call last):\n  File \"/Users/jasperbrandes/anaconda/lib/python3.5/site-packages/sklearn/externals/joblib/_parallel_backends.py\", line 344, in __call__\n    return self.func(*args, **kwargs)\n  File \"/Users/jasperbrandes/anaconda/lib/python3.5/site-packages/sklearn/externals/joblib/parallel.py\", line 131, in __call__\n    return [func(*args, **kwargs) for func, args, kwargs in self.items]\n  File \"/Users/jasperbrandes/anaconda/lib/python3.5/site-packages/sklearn/externals/joblib/parallel.py\", line 131, in <listcomp>\n    return [func(*args, **kwargs) for func, args, kwargs in self.items]\n  File \"/Users/jasperbrandes/anaconda/lib/python3.5/site-packages/sklearn/model_selection/_validation.py\", line 227, in _fit_and_score\n    estimator.set_params(**parameters)\n  File \"/Users/jasperbrandes/anaconda/lib/python3.5/site-packages/sklearn/pipeline.py\", line 180, in set_params\n    self._set_params('steps', **kwargs)\n  File \"/Users/jasperbrandes/anaconda/lib/python3.5/site-packages/sklearn/pipeline.py\", line 69, in _set_params\n    super(_BasePipeline, self).set_params(**params)\n  File \"/Users/jasperbrandes/anaconda/lib/python3.5/site-packages/sklearn/base.py\", line 284, in set_params\n    sub_object.set_params(**{sub_name: value})\n  File \"/Users/jasperbrandes/anaconda/lib/python3.5/site-packages/sklearn/pipeline.py\", line 645, in set_params\n    self._set_params('transformer_list', **kwargs)\n  File \"/Users/jasperbrandes/anaconda/lib/python3.5/site-packages/sklearn/pipeline.py\", line 69, in _set_params\n    super(_BasePipeline, self).set_params(**params)\n  File \"/Users/jasperbrandes/anaconda/lib/python3.5/site-packages/sklearn/base.py\", line 284, in set_params\n    sub_object.set_params(**{sub_name: value})\n  File \"/Users/jasperbrandes/anaconda/lib/python3.5/site-packages/sklearn/pipeline.py\", line 180, in set_params\n    self._set_params('steps', **kwargs)\n  File \"/Users/jasperbrandes/anaconda/lib/python3.5/site-packages/sklearn/pipeline.py\", line 69, in _set_params\n    super(_BasePipeline, self).set_params(**params)\n  File \"/Users/jasperbrandes/anaconda/lib/python3.5/site-packages/sklearn/base.py\", line 282, in set_params\n    (name, self))\nValueError: Invalid parameter tfidf for estimator Pipeline(steps=[('selector', DataFrameColumnExtracter(column='text')), ('vec', CountVectorizer(analyzer='word', binary=False, decode_error='strict',\n        dtype=<class 'numpy.int64'>, encoding='utf-8', input='content',\n        lowercase=True, max_df=1.0, max_features=None, min_df=1,\n        ngram_range=(1, 1), preprocessor=None, stop_words=None,\n        strip_accents=None, token_pattern='(?u)\\\\b\\\\w\\\\w+\\\\b',\n        tokenizer=None, vocabulary=None))]). Check the list of available parameters with `estimator.get_params().keys()`.\n\nDuring handling of the above exception, another exception occurred:\n\nTraceback (most recent call last):\n  File \"/Users/jasperbrandes/anaconda/lib/python3.5/multiprocessing/pool.py\", line 119, in worker\n    result = (True, func(*args, **kwds))\n  File \"/Users/jasperbrandes/anaconda/lib/python3.5/site-packages/sklearn/externals/joblib/_parallel_backends.py\", line 353, in __call__\n    raise TransportableException(text, e_type)\nsklearn.externals.joblib.my_exceptions.TransportableException: TransportableException\n___________________________________________________________________________\nValueError                                         Sun Nov  5 17:19:01 2017\nPID: 17935           Python 3.5.2: /Users/jasperbrandes/anaconda/bin/python\n...........................................................................\n/Users/jasperbrandes/anaconda/lib/python3.5/site-packages/sklearn/externals/joblib/parallel.py in __call__(self=<sklearn.externals.joblib.parallel.BatchedCalls object>)\n    126     def __init__(self, iterator_slice):\n    127         self.items = list(iterator_slice)\n    128         self._size = len(self.items)\n    129 \n    130     def __call__(self):\n--> 131         return [func(*args, **kwargs) for func, args, kwargs in self.items]\n        self.items = [(<function _fit_and_score>, (Pipeline(steps=[('vect', FeatureUnion(n_jobs=1,\n...B(alpha=1.0, class_prior=None, fit_prior=True))]),             id                                  ...cture is gone, and was doubtless the te...    MWS, 5107     EAP\n5465     MWS\n15443    MWS\n9737     ...0    EAP\n6562     MWS\nName: author, dtype: object, <function _passthrough_scorer>, array([3, 5, 6, 7, 8, 9]), array([0, 1, 2, 4]), 2, {'classifier': MultinomialNB(alpha=1.0, class_prior=None, fit_prior=True), 'vect__text_snippet__tfidf__norm': 'l1', 'vect__text_snippet__tfidf__sublinear_tf': True, 'vect__text_snippet__tfidf__use_idf': True, 'vect__text_snippet__vec__binary': True, 'vect__text_snippet__vec__max_df': 0.5, 'vect__text_snippet__vec__max_features': None, 'vect__text_snippet__vec__min_df': 1}), {'error_score': 'raise', 'fit_params': {}, 'return_n_test_samples': True, 'return_parameters': True, 'return_times': True, 'return_train_score': True})]\n    132 \n    133     def __len__(self):\n    134         return self._size\n    135 \n\n...........................................................................\n/Users/jasperbrandes/anaconda/lib/python3.5/site-packages/sklearn/externals/joblib/parallel.py in <listcomp>(.0=<list_iterator object>)\n    126     def __init__(self, iterator_slice):\n    127         self.items = list(iterator_slice)\n    128         self._size = len(self.items)\n    129 \n    130     def __call__(self):\n--> 131         return [func(*args, **kwargs) for func, args, kwargs in self.items]\n        func = <function _fit_and_score>\n        args = (Pipeline(steps=[('vect', FeatureUnion(n_jobs=1,\n...B(alpha=1.0, class_prior=None, fit_prior=True))]),             id                                  ...cture is gone, and was doubtless the te...    MWS, 5107     EAP\n5465     MWS\n15443    MWS\n9737     ...0    EAP\n6562     MWS\nName: author, dtype: object, <function _passthrough_scorer>, array([3, 5, 6, 7, 8, 9]), array([0, 1, 2, 4]), 2, {'classifier': MultinomialNB(alpha=1.0, class_prior=None, fit_prior=True), 'vect__text_snippet__tfidf__norm': 'l1', 'vect__text_snippet__tfidf__sublinear_tf': True, 'vect__text_snippet__tfidf__use_idf': True, 'vect__text_snippet__vec__binary': True, 'vect__text_snippet__vec__max_df': 0.5, 'vect__text_snippet__vec__max_features': None, 'vect__text_snippet__vec__min_df': 1})\n        kwargs = {'error_score': 'raise', 'fit_params': {}, 'return_n_test_samples': True, 'return_parameters': True, 'return_times': True, 'return_train_score': True}\n    132 \n    133     def __len__(self):\n    134         return self._size\n    135 \n\n...........................................................................\n/Users/jasperbrandes/anaconda/lib/python3.5/site-packages/sklearn/model_selection/_validation.py in _fit_and_score(estimator=Pipeline(steps=[('vect', FeatureUnion(n_jobs=1,\n...B(alpha=1.0, class_prior=None, fit_prior=True))]), X=            id                                  ...cture is gone, and was doubtless the te...    MWS, y=5107     EAP\n5465     MWS\n15443    MWS\n9737     ...0    EAP\n6562     MWS\nName: author, dtype: object, scorer=<function _passthrough_scorer>, train=array([3, 5, 6, 7, 8, 9]), test=array([0, 1, 2, 4]), verbose=2, parameters={'classifier': MultinomialNB(alpha=1.0, class_prior=None, fit_prior=True), 'vect__text_snippet__tfidf__norm': 'l1', 'vect__text_snippet__tfidf__sublinear_tf': True, 'vect__text_snippet__tfidf__use_idf': True, 'vect__text_snippet__vec__binary': True, 'vect__text_snippet__vec__max_df': 0.5, 'vect__text_snippet__vec__max_features': None, 'vect__text_snippet__vec__min_df': 1}, fit_params={}, return_train_score=True, return_parameters=True, return_n_test_samples=True, return_times=True, error_score='raise')\n    222     fit_params = fit_params if fit_params is not None else {}\n    223     fit_params = dict([(k, _index_param_value(X, v, train))\n    224                       for k, v in fit_params.items()])\n    225 \n    226     if parameters is not None:\n--> 227         estimator.set_params(**parameters)\n        estimator.set_params = <bound method Pipeline.set_params of Pipeline(st...(alpha=1.0, class_prior=None, fit_prior=True))])>\n        parameters = {'classifier': MultinomialNB(alpha=1.0, class_prior=None, fit_prior=True), 'vect__text_snippet__tfidf__norm': 'l1', 'vect__text_snippet__tfidf__sublinear_tf': True, 'vect__text_snippet__tfidf__use_idf': True, 'vect__text_snippet__vec__binary': True, 'vect__text_snippet__vec__max_df': 0.5, 'vect__text_snippet__vec__max_features': None, 'vect__text_snippet__vec__min_df': 1}\n    228 \n    229     start_time = time.time()\n    230 \n    231     X_train, y_train = _safe_split(estimator, X, y, train)\n\n...........................................................................\n/Users/jasperbrandes/anaconda/lib/python3.5/site-packages/sklearn/pipeline.py in set_params(self=Pipeline(steps=[('vect', FeatureUnion(n_jobs=1,\n...B(alpha=1.0, class_prior=None, fit_prior=True))]), **kwargs={'classifier': MultinomialNB(alpha=1.0, class_prior=None, fit_prior=True), 'vect__text_snippet__tfidf__norm': 'l1', 'vect__text_snippet__tfidf__sublinear_tf': True, 'vect__text_snippet__tfidf__use_idf': True, 'vect__text_snippet__vec__binary': True, 'vect__text_snippet__vec__max_df': 0.5, 'vect__text_snippet__vec__max_features': None, 'vect__text_snippet__vec__min_df': 1})\n    175 \n    176         Returns\n    177         -------\n    178         self\n    179         \"\"\"\n--> 180         self._set_params('steps', **kwargs)\n        self._set_params = <bound method _BasePipeline._set_params of Pipel...(alpha=1.0, class_prior=None, fit_prior=True))])>\n        kwargs = {'classifier': MultinomialNB(alpha=1.0, class_prior=None, fit_prior=True), 'vect__text_snippet__tfidf__norm': 'l1', 'vect__text_snippet__tfidf__sublinear_tf': True, 'vect__text_snippet__tfidf__use_idf': True, 'vect__text_snippet__vec__binary': True, 'vect__text_snippet__vec__max_df': 0.5, 'vect__text_snippet__vec__max_features': None, 'vect__text_snippet__vec__min_df': 1}\n    181         return self\n    182 \n    183     def _validate_steps(self):\n    184         names, estimators = zip(*self.steps)\n\n...........................................................................\n/Users/jasperbrandes/anaconda/lib/python3.5/site-packages/sklearn/pipeline.py in _set_params(self=Pipeline(steps=[('vect', FeatureUnion(n_jobs=1,\n...B(alpha=1.0, class_prior=None, fit_prior=True))]), steps_attr='steps', **params={'vect__text_snippet__tfidf__norm': 'l1', 'vect__text_snippet__tfidf__sublinear_tf': True, 'vect__text_snippet__tfidf__use_idf': True, 'vect__text_snippet__vec__binary': True, 'vect__text_snippet__vec__max_df': 0.5, 'vect__text_snippet__vec__max_features': None, 'vect__text_snippet__vec__min_df': 1})\n     64         step_names, _ = zip(*getattr(self, steps_attr))\n     65         for name in list(six.iterkeys(params)):\n     66             if '__' not in name and name in step_names:\n     67                 self._replace_step(steps_attr, name, params.pop(name))\n     68         # 3. Step parameters and other initilisation arguments\n---> 69         super(_BasePipeline, self).set_params(**params)\n        self.set_params = <bound method Pipeline.set_params of Pipeline(st...(alpha=1.0, class_prior=None, fit_prior=True))])>\n        params = {'vect__text_snippet__tfidf__norm': 'l1', 'vect__text_snippet__tfidf__sublinear_tf': True, 'vect__text_snippet__tfidf__use_idf': True, 'vect__text_snippet__vec__binary': True, 'vect__text_snippet__vec__max_df': 0.5, 'vect__text_snippet__vec__max_features': None, 'vect__text_snippet__vec__min_df': 1}\n     70         return self\n     71 \n     72     def _validate_names(self, names):\n     73         if len(set(names)) != len(names):\n\n...........................................................................\n/Users/jasperbrandes/anaconda/lib/python3.5/site-packages/sklearn/base.py in set_params(self=Pipeline(steps=[('vect', FeatureUnion(n_jobs=1,\n...B(alpha=1.0, class_prior=None, fit_prior=True))]), **params={'vect__text_snippet__tfidf__norm': 'l1', 'vect__text_snippet__tfidf__sublinear_tf': True, 'vect__text_snippet__tfidf__use_idf': True, 'vect__text_snippet__vec__binary': True, 'vect__text_snippet__vec__max_df': 0.5, 'vect__text_snippet__vec__max_features': None, 'vect__text_snippet__vec__min_df': 1})\n    279                     raise ValueError('Invalid parameter %s for estimator %s. '\n    280                                      'Check the list of available parameters '\n    281                                      'with `estimator.get_params().keys()`.' %\n    282                                      (name, self))\n    283                 sub_object = valid_params[name]\n--> 284                 sub_object.set_params(**{sub_name: value})\n        sub_object.set_params = <bound method FeatureUnion.set_params of Feature...rse=True))]))],\n       transformer_weights=None)>\n        sub_name = 'text_snippet__tfidf__use_idf'\n        value = True\n    285             else:\n    286                 # simple objects case\n    287                 if key not in valid_params:\n    288                     raise ValueError('Invalid parameter %s for estimator %s. '\n\n...........................................................................\n/Users/jasperbrandes/anaconda/lib/python3.5/site-packages/sklearn/pipeline.py in set_params(self=FeatureUnion(n_jobs=1,\n       transformer_list=[...arse=True))]))],\n       transformer_weights=None), **kwargs={'text_snippet__tfidf__use_idf': True})\n    640 \n    641         Returns\n    642         -------\n    643         self\n    644         \"\"\"\n--> 645         self._set_params('transformer_list', **kwargs)\n        self._set_params = <bound method _BasePipeline._set_params of Featu...rse=True))]))],\n       transformer_weights=None)>\n        kwargs = {'text_snippet__tfidf__use_idf': True}\n    646         return self\n    647 \n    648     def _validate_transformers(self):\n    649         names, transformers = zip(*self.transformer_list)\n\n...........................................................................\n/Users/jasperbrandes/anaconda/lib/python3.5/site-packages/sklearn/pipeline.py in _set_params(self=FeatureUnion(n_jobs=1,\n       transformer_list=[...arse=True))]))],\n       transformer_weights=None), steps_attr='transformer_list', **params={'text_snippet__tfidf__use_idf': True})\n     64         step_names, _ = zip(*getattr(self, steps_attr))\n     65         for name in list(six.iterkeys(params)):\n     66             if '__' not in name and name in step_names:\n     67                 self._replace_step(steps_attr, name, params.pop(name))\n     68         # 3. Step parameters and other initilisation arguments\n---> 69         super(_BasePipeline, self).set_params(**params)\n        self.set_params = <bound method FeatureUnion.set_params of Feature...rse=True))]))],\n       transformer_weights=None)>\n        params = {'text_snippet__tfidf__use_idf': True}\n     70         return self\n     71 \n     72     def _validate_names(self, names):\n     73         if len(set(names)) != len(names):\n\n...........................................................................\n/Users/jasperbrandes/anaconda/lib/python3.5/site-packages/sklearn/base.py in set_params(self=FeatureUnion(n_jobs=1,\n       transformer_list=[...arse=True))]))],\n       transformer_weights=None), **params={'text_snippet__tfidf__use_idf': True})\n    279                     raise ValueError('Invalid parameter %s for estimator %s. '\n    280                                      'Check the list of available parameters '\n    281                                      'with `estimator.get_params().keys()`.' %\n    282                                      (name, self))\n    283                 sub_object = valid_params[name]\n--> 284                 sub_object.set_params(**{sub_name: value})\n        sub_object.set_params = <bound method Pipeline.set_params of Pipeline(st...\\b',\n        tokenizer=None, vocabulary=None))])>\n        sub_name = 'tfidf__use_idf'\n        value = True\n    285             else:\n    286                 # simple objects case\n    287                 if key not in valid_params:\n    288                     raise ValueError('Invalid parameter %s for estimator %s. '\n\n...........................................................................\n/Users/jasperbrandes/anaconda/lib/python3.5/site-packages/sklearn/pipeline.py in set_params(self=Pipeline(steps=[('selector', DataFrameColumnExtr...\\\\b',\n        tokenizer=None, vocabulary=None))]), **kwargs={'tfidf__use_idf': True})\n    175 \n    176         Returns\n    177         -------\n    178         self\n    179         \"\"\"\n--> 180         self._set_params('steps', **kwargs)\n        self._set_params = <bound method _BasePipeline._set_params of Pipel...\\b',\n        tokenizer=None, vocabulary=None))])>\n        kwargs = {'tfidf__use_idf': True}\n    181         return self\n    182 \n    183     def _validate_steps(self):\n    184         names, estimators = zip(*self.steps)\n\n...........................................................................\n/Users/jasperbrandes/anaconda/lib/python3.5/site-packages/sklearn/pipeline.py in _set_params(self=Pipeline(steps=[('selector', DataFrameColumnExtr...\\\\b',\n        tokenizer=None, vocabulary=None))]), steps_attr='steps', **params={'tfidf__use_idf': True})\n     64         step_names, _ = zip(*getattr(self, steps_attr))\n     65         for name in list(six.iterkeys(params)):\n     66             if '__' not in name and name in step_names:\n     67                 self._replace_step(steps_attr, name, params.pop(name))\n     68         # 3. Step parameters and other initilisation arguments\n---> 69         super(_BasePipeline, self).set_params(**params)\n        self.set_params = <bound method Pipeline.set_params of Pipeline(st...\\b',\n        tokenizer=None, vocabulary=None))])>\n        params = {'tfidf__use_idf': True}\n     70         return self\n     71 \n     72     def _validate_names(self, names):\n     73         if len(set(names)) != len(names):\n\n...........................................................................\n/Users/jasperbrandes/anaconda/lib/python3.5/site-packages/sklearn/base.py in set_params(self=Pipeline(steps=[('selector', DataFrameColumnExtr...\\\\b',\n        tokenizer=None, vocabulary=None))]), **params={'tfidf__use_idf': True})\n    277                 name, sub_name = split\n    278                 if name not in valid_params:\n    279                     raise ValueError('Invalid parameter %s for estimator %s. '\n    280                                      'Check the list of available parameters '\n    281                                      'with `estimator.get_params().keys()`.' %\n--> 282                                      (name, self))\n        name = 'tfidf'\n        self = Pipeline(steps=[('selector', DataFrameColumnExtr...\\\\b',\n        tokenizer=None, vocabulary=None))])\n    283                 sub_object = valid_params[name]\n    284                 sub_object.set_params(**{sub_name: value})\n    285             else:\n    286                 # simple objects case\n\nValueError: Invalid parameter tfidf for estimator Pipeline(steps=[('selector', DataFrameColumnExtracter(column='text')), ('vec', CountVectorizer(analyzer='word', binary=False, decode_error='strict',\n        dtype=<class 'numpy.int64'>, encoding='utf-8', input='content',\n        lowercase=True, max_df=1.0, max_features=None, min_df=1,\n        ngram_range=(1, 1), preprocessor=None, stop_words=None,\n        strip_accents=None, token_pattern='(?u)\\\\b\\\\w\\\\w+\\\\b',\n        tokenizer=None, vocabulary=None))]). Check the list of available parameters with `estimator.get_params().keys()`.\n___________________________________________________________________________\n\"\"\"",
      "\nThe above exception was the direct cause of the following exception:\n",
      "\u001b[0;31mTransportableException\u001b[0m                    Traceback (most recent call last)",
      "\u001b[0;32m/Users/jasperbrandes/anaconda/lib/python3.5/site-packages/sklearn/externals/joblib/parallel.py\u001b[0m in \u001b[0;36mretrieve\u001b[0;34m(self)\u001b[0m\n\u001b[1;32m    681\u001b[0m                 \u001b[0;32mif\u001b[0m \u001b[0;34m'timeout'\u001b[0m \u001b[0;32min\u001b[0m \u001b[0mgetfullargspec\u001b[0m\u001b[0;34m(\u001b[0m\u001b[0mjob\u001b[0m\u001b[0;34m.\u001b[0m\u001b[0mget\u001b[0m\u001b[0;34m)\u001b[0m\u001b[0;34m.\u001b[0m\u001b[0margs\u001b[0m\u001b[0;34m:\u001b[0m\u001b[0;34m\u001b[0m\u001b[0m\n\u001b[0;32m--> 682\u001b[0;31m                     \u001b[0mself\u001b[0m\u001b[0;34m.\u001b[0m\u001b[0m_output\u001b[0m\u001b[0;34m.\u001b[0m\u001b[0mextend\u001b[0m\u001b[0;34m(\u001b[0m\u001b[0mjob\u001b[0m\u001b[0;34m.\u001b[0m\u001b[0mget\u001b[0m\u001b[0;34m(\u001b[0m\u001b[0mtimeout\u001b[0m\u001b[0;34m=\u001b[0m\u001b[0mself\u001b[0m\u001b[0;34m.\u001b[0m\u001b[0mtimeout\u001b[0m\u001b[0;34m)\u001b[0m\u001b[0;34m)\u001b[0m\u001b[0;34m\u001b[0m\u001b[0m\n\u001b[0m\u001b[1;32m    683\u001b[0m                 \u001b[0;32melse\u001b[0m\u001b[0;34m:\u001b[0m\u001b[0;34m\u001b[0m\u001b[0m\n",
      "\u001b[0;32m/Users/jasperbrandes/anaconda/lib/python3.5/multiprocessing/pool.py\u001b[0m in \u001b[0;36mget\u001b[0;34m(self, timeout)\u001b[0m\n\u001b[1;32m    607\u001b[0m         \u001b[0;32melse\u001b[0m\u001b[0;34m:\u001b[0m\u001b[0;34m\u001b[0m\u001b[0m\n\u001b[0;32m--> 608\u001b[0;31m             \u001b[0;32mraise\u001b[0m \u001b[0mself\u001b[0m\u001b[0;34m.\u001b[0m\u001b[0m_value\u001b[0m\u001b[0;34m\u001b[0m\u001b[0m\n\u001b[0m\u001b[1;32m    609\u001b[0m \u001b[0;34m\u001b[0m\u001b[0m\n",
      "\u001b[0;31mTransportableException\u001b[0m: TransportableException\n___________________________________________________________________________\nValueError                                         Sun Nov  5 17:19:01 2017\nPID: 17935           Python 3.5.2: /Users/jasperbrandes/anaconda/bin/python\n...........................................................................\n/Users/jasperbrandes/anaconda/lib/python3.5/site-packages/sklearn/externals/joblib/parallel.py in __call__(self=<sklearn.externals.joblib.parallel.BatchedCalls object>)\n    126     def __init__(self, iterator_slice):\n    127         self.items = list(iterator_slice)\n    128         self._size = len(self.items)\n    129 \n    130     def __call__(self):\n--> 131         return [func(*args, **kwargs) for func, args, kwargs in self.items]\n        self.items = [(<function _fit_and_score>, (Pipeline(steps=[('vect', FeatureUnion(n_jobs=1,\n...B(alpha=1.0, class_prior=None, fit_prior=True))]),             id                                  ...cture is gone, and was doubtless the te...    MWS, 5107     EAP\n5465     MWS\n15443    MWS\n9737     ...0    EAP\n6562     MWS\nName: author, dtype: object, <function _passthrough_scorer>, array([3, 5, 6, 7, 8, 9]), array([0, 1, 2, 4]), 2, {'classifier': MultinomialNB(alpha=1.0, class_prior=None, fit_prior=True), 'vect__text_snippet__tfidf__norm': 'l1', 'vect__text_snippet__tfidf__sublinear_tf': True, 'vect__text_snippet__tfidf__use_idf': True, 'vect__text_snippet__vec__binary': True, 'vect__text_snippet__vec__max_df': 0.5, 'vect__text_snippet__vec__max_features': None, 'vect__text_snippet__vec__min_df': 1}), {'error_score': 'raise', 'fit_params': {}, 'return_n_test_samples': True, 'return_parameters': True, 'return_times': True, 'return_train_score': True})]\n    132 \n    133     def __len__(self):\n    134         return self._size\n    135 \n\n...........................................................................\n/Users/jasperbrandes/anaconda/lib/python3.5/site-packages/sklearn/externals/joblib/parallel.py in <listcomp>(.0=<list_iterator object>)\n    126     def __init__(self, iterator_slice):\n    127         self.items = list(iterator_slice)\n    128         self._size = len(self.items)\n    129 \n    130     def __call__(self):\n--> 131         return [func(*args, **kwargs) for func, args, kwargs in self.items]\n        func = <function _fit_and_score>\n        args = (Pipeline(steps=[('vect', FeatureUnion(n_jobs=1,\n...B(alpha=1.0, class_prior=None, fit_prior=True))]),             id                                  ...cture is gone, and was doubtless the te...    MWS, 5107     EAP\n5465     MWS\n15443    MWS\n9737     ...0    EAP\n6562     MWS\nName: author, dtype: object, <function _passthrough_scorer>, array([3, 5, 6, 7, 8, 9]), array([0, 1, 2, 4]), 2, {'classifier': MultinomialNB(alpha=1.0, class_prior=None, fit_prior=True), 'vect__text_snippet__tfidf__norm': 'l1', 'vect__text_snippet__tfidf__sublinear_tf': True, 'vect__text_snippet__tfidf__use_idf': True, 'vect__text_snippet__vec__binary': True, 'vect__text_snippet__vec__max_df': 0.5, 'vect__text_snippet__vec__max_features': None, 'vect__text_snippet__vec__min_df': 1})\n        kwargs = {'error_score': 'raise', 'fit_params': {}, 'return_n_test_samples': True, 'return_parameters': True, 'return_times': True, 'return_train_score': True}\n    132 \n    133     def __len__(self):\n    134         return self._size\n    135 \n\n...........................................................................\n/Users/jasperbrandes/anaconda/lib/python3.5/site-packages/sklearn/model_selection/_validation.py in _fit_and_score(estimator=Pipeline(steps=[('vect', FeatureUnion(n_jobs=1,\n...B(alpha=1.0, class_prior=None, fit_prior=True))]), X=            id                                  ...cture is gone, and was doubtless the te...    MWS, y=5107     EAP\n5465     MWS\n15443    MWS\n9737     ...0    EAP\n6562     MWS\nName: author, dtype: object, scorer=<function _passthrough_scorer>, train=array([3, 5, 6, 7, 8, 9]), test=array([0, 1, 2, 4]), verbose=2, parameters={'classifier': MultinomialNB(alpha=1.0, class_prior=None, fit_prior=True), 'vect__text_snippet__tfidf__norm': 'l1', 'vect__text_snippet__tfidf__sublinear_tf': True, 'vect__text_snippet__tfidf__use_idf': True, 'vect__text_snippet__vec__binary': True, 'vect__text_snippet__vec__max_df': 0.5, 'vect__text_snippet__vec__max_features': None, 'vect__text_snippet__vec__min_df': 1}, fit_params={}, return_train_score=True, return_parameters=True, return_n_test_samples=True, return_times=True, error_score='raise')\n    222     fit_params = fit_params if fit_params is not None else {}\n    223     fit_params = dict([(k, _index_param_value(X, v, train))\n    224                       for k, v in fit_params.items()])\n    225 \n    226     if parameters is not None:\n--> 227         estimator.set_params(**parameters)\n        estimator.set_params = <bound method Pipeline.set_params of Pipeline(st...(alpha=1.0, class_prior=None, fit_prior=True))])>\n        parameters = {'classifier': MultinomialNB(alpha=1.0, class_prior=None, fit_prior=True), 'vect__text_snippet__tfidf__norm': 'l1', 'vect__text_snippet__tfidf__sublinear_tf': True, 'vect__text_snippet__tfidf__use_idf': True, 'vect__text_snippet__vec__binary': True, 'vect__text_snippet__vec__max_df': 0.5, 'vect__text_snippet__vec__max_features': None, 'vect__text_snippet__vec__min_df': 1}\n    228 \n    229     start_time = time.time()\n    230 \n    231     X_train, y_train = _safe_split(estimator, X, y, train)\n\n...........................................................................\n/Users/jasperbrandes/anaconda/lib/python3.5/site-packages/sklearn/pipeline.py in set_params(self=Pipeline(steps=[('vect', FeatureUnion(n_jobs=1,\n...B(alpha=1.0, class_prior=None, fit_prior=True))]), **kwargs={'classifier': MultinomialNB(alpha=1.0, class_prior=None, fit_prior=True), 'vect__text_snippet__tfidf__norm': 'l1', 'vect__text_snippet__tfidf__sublinear_tf': True, 'vect__text_snippet__tfidf__use_idf': True, 'vect__text_snippet__vec__binary': True, 'vect__text_snippet__vec__max_df': 0.5, 'vect__text_snippet__vec__max_features': None, 'vect__text_snippet__vec__min_df': 1})\n    175 \n    176         Returns\n    177         -------\n    178         self\n    179         \"\"\"\n--> 180         self._set_params('steps', **kwargs)\n        self._set_params = <bound method _BasePipeline._set_params of Pipel...(alpha=1.0, class_prior=None, fit_prior=True))])>\n        kwargs = {'classifier': MultinomialNB(alpha=1.0, class_prior=None, fit_prior=True), 'vect__text_snippet__tfidf__norm': 'l1', 'vect__text_snippet__tfidf__sublinear_tf': True, 'vect__text_snippet__tfidf__use_idf': True, 'vect__text_snippet__vec__binary': True, 'vect__text_snippet__vec__max_df': 0.5, 'vect__text_snippet__vec__max_features': None, 'vect__text_snippet__vec__min_df': 1}\n    181         return self\n    182 \n    183     def _validate_steps(self):\n    184         names, estimators = zip(*self.steps)\n\n...........................................................................\n/Users/jasperbrandes/anaconda/lib/python3.5/site-packages/sklearn/pipeline.py in _set_params(self=Pipeline(steps=[('vect', FeatureUnion(n_jobs=1,\n...B(alpha=1.0, class_prior=None, fit_prior=True))]), steps_attr='steps', **params={'vect__text_snippet__tfidf__norm': 'l1', 'vect__text_snippet__tfidf__sublinear_tf': True, 'vect__text_snippet__tfidf__use_idf': True, 'vect__text_snippet__vec__binary': True, 'vect__text_snippet__vec__max_df': 0.5, 'vect__text_snippet__vec__max_features': None, 'vect__text_snippet__vec__min_df': 1})\n     64         step_names, _ = zip(*getattr(self, steps_attr))\n     65         for name in list(six.iterkeys(params)):\n     66             if '__' not in name and name in step_names:\n     67                 self._replace_step(steps_attr, name, params.pop(name))\n     68         # 3. Step parameters and other initilisation arguments\n---> 69         super(_BasePipeline, self).set_params(**params)\n        self.set_params = <bound method Pipeline.set_params of Pipeline(st...(alpha=1.0, class_prior=None, fit_prior=True))])>\n        params = {'vect__text_snippet__tfidf__norm': 'l1', 'vect__text_snippet__tfidf__sublinear_tf': True, 'vect__text_snippet__tfidf__use_idf': True, 'vect__text_snippet__vec__binary': True, 'vect__text_snippet__vec__max_df': 0.5, 'vect__text_snippet__vec__max_features': None, 'vect__text_snippet__vec__min_df': 1}\n     70         return self\n     71 \n     72     def _validate_names(self, names):\n     73         if len(set(names)) != len(names):\n\n...........................................................................\n/Users/jasperbrandes/anaconda/lib/python3.5/site-packages/sklearn/base.py in set_params(self=Pipeline(steps=[('vect', FeatureUnion(n_jobs=1,\n...B(alpha=1.0, class_prior=None, fit_prior=True))]), **params={'vect__text_snippet__tfidf__norm': 'l1', 'vect__text_snippet__tfidf__sublinear_tf': True, 'vect__text_snippet__tfidf__use_idf': True, 'vect__text_snippet__vec__binary': True, 'vect__text_snippet__vec__max_df': 0.5, 'vect__text_snippet__vec__max_features': None, 'vect__text_snippet__vec__min_df': 1})\n    279                     raise ValueError('Invalid parameter %s for estimator %s. '\n    280                                      'Check the list of available parameters '\n    281                                      'with `estimator.get_params().keys()`.' %\n    282                                      (name, self))\n    283                 sub_object = valid_params[name]\n--> 284                 sub_object.set_params(**{sub_name: value})\n        sub_object.set_params = <bound method FeatureUnion.set_params of Feature...rse=True))]))],\n       transformer_weights=None)>\n        sub_name = 'text_snippet__tfidf__use_idf'\n        value = True\n    285             else:\n    286                 # simple objects case\n    287                 if key not in valid_params:\n    288                     raise ValueError('Invalid parameter %s for estimator %s. '\n\n...........................................................................\n/Users/jasperbrandes/anaconda/lib/python3.5/site-packages/sklearn/pipeline.py in set_params(self=FeatureUnion(n_jobs=1,\n       transformer_list=[...arse=True))]))],\n       transformer_weights=None), **kwargs={'text_snippet__tfidf__use_idf': True})\n    640 \n    641         Returns\n    642         -------\n    643         self\n    644         \"\"\"\n--> 645         self._set_params('transformer_list', **kwargs)\n        self._set_params = <bound method _BasePipeline._set_params of Featu...rse=True))]))],\n       transformer_weights=None)>\n        kwargs = {'text_snippet__tfidf__use_idf': True}\n    646         return self\n    647 \n    648     def _validate_transformers(self):\n    649         names, transformers = zip(*self.transformer_list)\n\n...........................................................................\n/Users/jasperbrandes/anaconda/lib/python3.5/site-packages/sklearn/pipeline.py in _set_params(self=FeatureUnion(n_jobs=1,\n       transformer_list=[...arse=True))]))],\n       transformer_weights=None), steps_attr='transformer_list', **params={'text_snippet__tfidf__use_idf': True})\n     64         step_names, _ = zip(*getattr(self, steps_attr))\n     65         for name in list(six.iterkeys(params)):\n     66             if '__' not in name and name in step_names:\n     67                 self._replace_step(steps_attr, name, params.pop(name))\n     68         # 3. Step parameters and other initilisation arguments\n---> 69         super(_BasePipeline, self).set_params(**params)\n        self.set_params = <bound method FeatureUnion.set_params of Feature...rse=True))]))],\n       transformer_weights=None)>\n        params = {'text_snippet__tfidf__use_idf': True}\n     70         return self\n     71 \n     72     def _validate_names(self, names):\n     73         if len(set(names)) != len(names):\n\n...........................................................................\n/Users/jasperbrandes/anaconda/lib/python3.5/site-packages/sklearn/base.py in set_params(self=FeatureUnion(n_jobs=1,\n       transformer_list=[...arse=True))]))],\n       transformer_weights=None), **params={'text_snippet__tfidf__use_idf': True})\n    279                     raise ValueError('Invalid parameter %s for estimator %s. '\n    280                                      'Check the list of available parameters '\n    281                                      'with `estimator.get_params().keys()`.' %\n    282                                      (name, self))\n    283                 sub_object = valid_params[name]\n--> 284                 sub_object.set_params(**{sub_name: value})\n        sub_object.set_params = <bound method Pipeline.set_params of Pipeline(st...\\b',\n        tokenizer=None, vocabulary=None))])>\n        sub_name = 'tfidf__use_idf'\n        value = True\n    285             else:\n    286                 # simple objects case\n    287                 if key not in valid_params:\n    288                     raise ValueError('Invalid parameter %s for estimator %s. '\n\n...........................................................................\n/Users/jasperbrandes/anaconda/lib/python3.5/site-packages/sklearn/pipeline.py in set_params(self=Pipeline(steps=[('selector', DataFrameColumnExtr...\\\\b',\n        tokenizer=None, vocabulary=None))]), **kwargs={'tfidf__use_idf': True})\n    175 \n    176         Returns\n    177         -------\n    178         self\n    179         \"\"\"\n--> 180         self._set_params('steps', **kwargs)\n        self._set_params = <bound method _BasePipeline._set_params of Pipel...\\b',\n        tokenizer=None, vocabulary=None))])>\n        kwargs = {'tfidf__use_idf': True}\n    181         return self\n    182 \n    183     def _validate_steps(self):\n    184         names, estimators = zip(*self.steps)\n\n...........................................................................\n/Users/jasperbrandes/anaconda/lib/python3.5/site-packages/sklearn/pipeline.py in _set_params(self=Pipeline(steps=[('selector', DataFrameColumnExtr...\\\\b',\n        tokenizer=None, vocabulary=None))]), steps_attr='steps', **params={'tfidf__use_idf': True})\n     64         step_names, _ = zip(*getattr(self, steps_attr))\n     65         for name in list(six.iterkeys(params)):\n     66             if '__' not in name and name in step_names:\n     67                 self._replace_step(steps_attr, name, params.pop(name))\n     68         # 3. Step parameters and other initilisation arguments\n---> 69         super(_BasePipeline, self).set_params(**params)\n        self.set_params = <bound method Pipeline.set_params of Pipeline(st...\\b',\n        tokenizer=None, vocabulary=None))])>\n        params = {'tfidf__use_idf': True}\n     70         return self\n     71 \n     72     def _validate_names(self, names):\n     73         if len(set(names)) != len(names):\n\n...........................................................................\n/Users/jasperbrandes/anaconda/lib/python3.5/site-packages/sklearn/base.py in set_params(self=Pipeline(steps=[('selector', DataFrameColumnExtr...\\\\b',\n        tokenizer=None, vocabulary=None))]), **params={'tfidf__use_idf': True})\n    277                 name, sub_name = split\n    278                 if name not in valid_params:\n    279                     raise ValueError('Invalid parameter %s for estimator %s. '\n    280                                      'Check the list of available parameters '\n    281                                      'with `estimator.get_params().keys()`.' %\n--> 282                                      (name, self))\n        name = 'tfidf'\n        self = Pipeline(steps=[('selector', DataFrameColumnExtr...\\\\b',\n        tokenizer=None, vocabulary=None))])\n    283                 sub_object = valid_params[name]\n    284                 sub_object.set_params(**{sub_name: value})\n    285             else:\n    286                 # simple objects case\n\nValueError: Invalid parameter tfidf for estimator Pipeline(steps=[('selector', DataFrameColumnExtracter(column='text')), ('vec', CountVectorizer(analyzer='word', binary=False, decode_error='strict',\n        dtype=<class 'numpy.int64'>, encoding='utf-8', input='content',\n        lowercase=True, max_df=1.0, max_features=None, min_df=1,\n        ngram_range=(1, 1), preprocessor=None, stop_words=None,\n        strip_accents=None, token_pattern='(?u)\\\\b\\\\w\\\\w+\\\\b',\n        tokenizer=None, vocabulary=None))]). Check the list of available parameters with `estimator.get_params().keys()`.\n___________________________________________________________________________",
      "\nDuring handling of the above exception, another exception occurred:\n",
      "\u001b[0;31mKeyboardInterrupt\u001b[0m                         Traceback (most recent call last)",
      "\u001b[0;32m/Users/jasperbrandes/anaconda/lib/python3.5/site-packages/sklearn/externals/joblib/pool.py\u001b[0m in \u001b[0;36mterminate\u001b[0;34m(self)\u001b[0m\n\u001b[1;32m    605\u001b[0m             \u001b[0;32mtry\u001b[0m\u001b[0;34m:\u001b[0m\u001b[0;34m\u001b[0m\u001b[0m\n\u001b[0;32m--> 606\u001b[0;31m                 \u001b[0msuper\u001b[0m\u001b[0;34m(\u001b[0m\u001b[0mMemmapingPool\u001b[0m\u001b[0;34m,\u001b[0m \u001b[0mself\u001b[0m\u001b[0;34m)\u001b[0m\u001b[0;34m.\u001b[0m\u001b[0mterminate\u001b[0m\u001b[0;34m(\u001b[0m\u001b[0;34m)\u001b[0m\u001b[0;34m\u001b[0m\u001b[0m\n\u001b[0m\u001b[1;32m    607\u001b[0m                 \u001b[0;32mbreak\u001b[0m\u001b[0;34m\u001b[0m\u001b[0m\n",
      "\u001b[0;32m/Users/jasperbrandes/anaconda/lib/python3.5/multiprocessing/pool.py\u001b[0m in \u001b[0;36mterminate\u001b[0;34m(self)\u001b[0m\n\u001b[1;32m    504\u001b[0m         \u001b[0mself\u001b[0m\u001b[0;34m.\u001b[0m\u001b[0m_worker_handler\u001b[0m\u001b[0;34m.\u001b[0m\u001b[0m_state\u001b[0m \u001b[0;34m=\u001b[0m \u001b[0mTERMINATE\u001b[0m\u001b[0;34m\u001b[0m\u001b[0m\n\u001b[0;32m--> 505\u001b[0;31m         \u001b[0mself\u001b[0m\u001b[0;34m.\u001b[0m\u001b[0m_terminate\u001b[0m\u001b[0;34m(\u001b[0m\u001b[0;34m)\u001b[0m\u001b[0;34m\u001b[0m\u001b[0m\n\u001b[0m\u001b[1;32m    506\u001b[0m \u001b[0;34m\u001b[0m\u001b[0m\n",
      "\u001b[0;32m/Users/jasperbrandes/anaconda/lib/python3.5/multiprocessing/util.py\u001b[0m in \u001b[0;36m__call__\u001b[0;34m(self, wr, _finalizer_registry, sub_debug, getpid)\u001b[0m\n\u001b[1;32m    185\u001b[0m                           self._callback, self._args, self._kwargs)\n\u001b[0;32m--> 186\u001b[0;31m                 \u001b[0mres\u001b[0m \u001b[0;34m=\u001b[0m \u001b[0mself\u001b[0m\u001b[0;34m.\u001b[0m\u001b[0m_callback\u001b[0m\u001b[0;34m(\u001b[0m\u001b[0;34m*\u001b[0m\u001b[0mself\u001b[0m\u001b[0;34m.\u001b[0m\u001b[0m_args\u001b[0m\u001b[0;34m,\u001b[0m \u001b[0;34m**\u001b[0m\u001b[0mself\u001b[0m\u001b[0;34m.\u001b[0m\u001b[0m_kwargs\u001b[0m\u001b[0;34m)\u001b[0m\u001b[0;34m\u001b[0m\u001b[0m\n\u001b[0m\u001b[1;32m    187\u001b[0m             \u001b[0mself\u001b[0m\u001b[0;34m.\u001b[0m\u001b[0m_weakref\u001b[0m \u001b[0;34m=\u001b[0m \u001b[0mself\u001b[0m\u001b[0;34m.\u001b[0m\u001b[0m_callback\u001b[0m \u001b[0;34m=\u001b[0m \u001b[0mself\u001b[0m\u001b[0;34m.\u001b[0m\u001b[0m_args\u001b[0m \u001b[0;34m=\u001b[0m\u001b[0;31m \u001b[0m\u001b[0;31m\\\u001b[0m\u001b[0;34m\u001b[0m\u001b[0m\n",
      "\u001b[0;32m/Users/jasperbrandes/anaconda/lib/python3.5/multiprocessing/pool.py\u001b[0m in \u001b[0;36m_terminate_pool\u001b[0;34m(cls, taskqueue, inqueue, outqueue, pool, worker_handler, task_handler, result_handler, cache)\u001b[0m\n\u001b[1;32m    556\u001b[0m         \u001b[0;32mif\u001b[0m \u001b[0mthreading\u001b[0m\u001b[0;34m.\u001b[0m\u001b[0mcurrent_thread\u001b[0m\u001b[0;34m(\u001b[0m\u001b[0;34m)\u001b[0m \u001b[0;32mis\u001b[0m \u001b[0;32mnot\u001b[0m \u001b[0mtask_handler\u001b[0m\u001b[0;34m:\u001b[0m\u001b[0;34m\u001b[0m\u001b[0m\n\u001b[0;32m--> 557\u001b[0;31m             \u001b[0mtask_handler\u001b[0m\u001b[0;34m.\u001b[0m\u001b[0mjoin\u001b[0m\u001b[0;34m(\u001b[0m\u001b[0;34m)\u001b[0m\u001b[0;34m\u001b[0m\u001b[0m\n\u001b[0m\u001b[1;32m    558\u001b[0m \u001b[0;34m\u001b[0m\u001b[0m\n",
      "\u001b[0;32m/Users/jasperbrandes/anaconda/lib/python3.5/threading.py\u001b[0m in \u001b[0;36mjoin\u001b[0;34m(self, timeout)\u001b[0m\n\u001b[1;32m   1053\u001b[0m         \u001b[0;32mif\u001b[0m \u001b[0mtimeout\u001b[0m \u001b[0;32mis\u001b[0m \u001b[0;32mNone\u001b[0m\u001b[0;34m:\u001b[0m\u001b[0;34m\u001b[0m\u001b[0m\n\u001b[0;32m-> 1054\u001b[0;31m             \u001b[0mself\u001b[0m\u001b[0;34m.\u001b[0m\u001b[0m_wait_for_tstate_lock\u001b[0m\u001b[0;34m(\u001b[0m\u001b[0;34m)\u001b[0m\u001b[0;34m\u001b[0m\u001b[0m\n\u001b[0m\u001b[1;32m   1055\u001b[0m         \u001b[0;32melse\u001b[0m\u001b[0;34m:\u001b[0m\u001b[0;34m\u001b[0m\u001b[0m\n",
      "\u001b[0;32m/Users/jasperbrandes/anaconda/lib/python3.5/threading.py\u001b[0m in \u001b[0;36m_wait_for_tstate_lock\u001b[0;34m(self, block, timeout)\u001b[0m\n\u001b[1;32m   1069\u001b[0m             \u001b[0;32massert\u001b[0m \u001b[0mself\u001b[0m\u001b[0;34m.\u001b[0m\u001b[0m_is_stopped\u001b[0m\u001b[0;34m\u001b[0m\u001b[0m\n\u001b[0;32m-> 1070\u001b[0;31m         \u001b[0;32melif\u001b[0m \u001b[0mlock\u001b[0m\u001b[0;34m.\u001b[0m\u001b[0macquire\u001b[0m\u001b[0;34m(\u001b[0m\u001b[0mblock\u001b[0m\u001b[0;34m,\u001b[0m \u001b[0mtimeout\u001b[0m\u001b[0;34m)\u001b[0m\u001b[0;34m:\u001b[0m\u001b[0;34m\u001b[0m\u001b[0m\n\u001b[0m\u001b[1;32m   1071\u001b[0m             \u001b[0mlock\u001b[0m\u001b[0;34m.\u001b[0m\u001b[0mrelease\u001b[0m\u001b[0;34m(\u001b[0m\u001b[0;34m)\u001b[0m\u001b[0;34m\u001b[0m\u001b[0m\n",
      "\u001b[0;31mKeyboardInterrupt\u001b[0m: ",
      "\nDuring handling of the above exception, another exception occurred:\n",
      "\u001b[0;31mTypeError\u001b[0m                                 Traceback (most recent call last)",
      "\u001b[0;32m<ipython-input-69-c083e67a68ed>\u001b[0m in \u001b[0;36m<module>\u001b[0;34m()\u001b[0m\n\u001b[1;32m      1\u001b[0m \u001b[0mt0\u001b[0m \u001b[0;34m=\u001b[0m \u001b[0mtime\u001b[0m\u001b[0;34m.\u001b[0m\u001b[0mtime\u001b[0m\u001b[0;34m(\u001b[0m\u001b[0;34m)\u001b[0m\u001b[0;34m\u001b[0m\u001b[0m\n\u001b[0;32m----> 2\u001b[0;31m \u001b[0mgrid_search\u001b[0m\u001b[0;34m.\u001b[0m\u001b[0mfit\u001b[0m\u001b[0;34m(\u001b[0m\u001b[0mX_train_sample\u001b[0m\u001b[0;34m,\u001b[0m \u001b[0my_train_sample\u001b[0m\u001b[0;34m)\u001b[0m\u001b[0;34m\u001b[0m\u001b[0m\n\u001b[0m\u001b[1;32m      3\u001b[0m \u001b[0mprint\u001b[0m\u001b[0;34m(\u001b[0m\u001b[0;34m\"done in {0}s\"\u001b[0m\u001b[0;34m.\u001b[0m\u001b[0mformat\u001b[0m\u001b[0;34m(\u001b[0m\u001b[0mtime\u001b[0m\u001b[0;34m.\u001b[0m\u001b[0mtime\u001b[0m\u001b[0;34m(\u001b[0m\u001b[0;34m)\u001b[0m \u001b[0;34m-\u001b[0m \u001b[0mt0\u001b[0m\u001b[0;34m)\u001b[0m\u001b[0;34m)\u001b[0m\u001b[0;34m\u001b[0m\u001b[0m\n\u001b[1;32m      4\u001b[0m \u001b[0mprint\u001b[0m\u001b[0;34m(\u001b[0m\u001b[0;34m\"Best score: {0}\"\u001b[0m\u001b[0;34m.\u001b[0m\u001b[0mformat\u001b[0m\u001b[0;34m(\u001b[0m\u001b[0mgrid_search\u001b[0m\u001b[0;34m.\u001b[0m\u001b[0mbest_score_\u001b[0m\u001b[0;34m)\u001b[0m\u001b[0;34m)\u001b[0m\u001b[0;34m\u001b[0m\u001b[0m\n\u001b[1;32m      5\u001b[0m \u001b[0mprint\u001b[0m\u001b[0;34m(\u001b[0m\u001b[0;34m\"Best parameters set:\"\u001b[0m\u001b[0;34m)\u001b[0m\u001b[0;34m\u001b[0m\u001b[0m\n",
      "\u001b[0;32m/Users/jasperbrandes/anaconda/lib/python3.5/site-packages/sklearn/model_selection/_search.py\u001b[0m in \u001b[0;36mfit\u001b[0;34m(self, X, y, groups)\u001b[0m\n\u001b[1;32m    943\u001b[0m             \u001b[0mtrain\u001b[0m\u001b[0;34m/\u001b[0m\u001b[0mtest\u001b[0m \u001b[0mset\u001b[0m\u001b[0;34m.\u001b[0m\u001b[0;34m\u001b[0m\u001b[0m\n\u001b[1;32m    944\u001b[0m         \"\"\"\n\u001b[0;32m--> 945\u001b[0;31m         \u001b[0;32mreturn\u001b[0m \u001b[0mself\u001b[0m\u001b[0;34m.\u001b[0m\u001b[0m_fit\u001b[0m\u001b[0;34m(\u001b[0m\u001b[0mX\u001b[0m\u001b[0;34m,\u001b[0m \u001b[0my\u001b[0m\u001b[0;34m,\u001b[0m \u001b[0mgroups\u001b[0m\u001b[0;34m,\u001b[0m \u001b[0mParameterGrid\u001b[0m\u001b[0;34m(\u001b[0m\u001b[0mself\u001b[0m\u001b[0;34m.\u001b[0m\u001b[0mparam_grid\u001b[0m\u001b[0;34m)\u001b[0m\u001b[0;34m)\u001b[0m\u001b[0;34m\u001b[0m\u001b[0m\n\u001b[0m\u001b[1;32m    946\u001b[0m \u001b[0;34m\u001b[0m\u001b[0m\n\u001b[1;32m    947\u001b[0m \u001b[0;34m\u001b[0m\u001b[0m\n",
      "\u001b[0;32m/Users/jasperbrandes/anaconda/lib/python3.5/site-packages/sklearn/model_selection/_search.py\u001b[0m in \u001b[0;36m_fit\u001b[0;34m(self, X, y, groups, parameter_iterable)\u001b[0m\n\u001b[1;32m    562\u001b[0m                                   \u001b[0mreturn_times\u001b[0m\u001b[0;34m=\u001b[0m\u001b[0;32mTrue\u001b[0m\u001b[0;34m,\u001b[0m \u001b[0mreturn_parameters\u001b[0m\u001b[0;34m=\u001b[0m\u001b[0;32mTrue\u001b[0m\u001b[0;34m,\u001b[0m\u001b[0;34m\u001b[0m\u001b[0m\n\u001b[1;32m    563\u001b[0m                                   error_score=self.error_score)\n\u001b[0;32m--> 564\u001b[0;31m           \u001b[0;32mfor\u001b[0m \u001b[0mparameters\u001b[0m \u001b[0;32min\u001b[0m \u001b[0mparameter_iterable\u001b[0m\u001b[0;34m\u001b[0m\u001b[0m\n\u001b[0m\u001b[1;32m    565\u001b[0m           for train, test in cv_iter)\n\u001b[1;32m    566\u001b[0m \u001b[0;34m\u001b[0m\u001b[0m\n",
      "\u001b[0;32m/Users/jasperbrandes/anaconda/lib/python3.5/site-packages/sklearn/externals/joblib/parallel.py\u001b[0m in \u001b[0;36m__call__\u001b[0;34m(self, iterable)\u001b[0m\n\u001b[1;32m    766\u001b[0m                 \u001b[0;31m# consumption.\u001b[0m\u001b[0;34m\u001b[0m\u001b[0;34m\u001b[0m\u001b[0m\n\u001b[1;32m    767\u001b[0m                 \u001b[0mself\u001b[0m\u001b[0;34m.\u001b[0m\u001b[0m_iterating\u001b[0m \u001b[0;34m=\u001b[0m \u001b[0;32mFalse\u001b[0m\u001b[0;34m\u001b[0m\u001b[0m\n\u001b[0;32m--> 768\u001b[0;31m             \u001b[0mself\u001b[0m\u001b[0;34m.\u001b[0m\u001b[0mretrieve\u001b[0m\u001b[0;34m(\u001b[0m\u001b[0;34m)\u001b[0m\u001b[0;34m\u001b[0m\u001b[0m\n\u001b[0m\u001b[1;32m    769\u001b[0m             \u001b[0;31m# Make sure that we get a last message telling us we are done\u001b[0m\u001b[0;34m\u001b[0m\u001b[0;34m\u001b[0m\u001b[0m\n\u001b[1;32m    770\u001b[0m             \u001b[0melapsed_time\u001b[0m \u001b[0;34m=\u001b[0m \u001b[0mtime\u001b[0m\u001b[0;34m.\u001b[0m\u001b[0mtime\u001b[0m\u001b[0;34m(\u001b[0m\u001b[0;34m)\u001b[0m \u001b[0;34m-\u001b[0m \u001b[0mself\u001b[0m\u001b[0;34m.\u001b[0m\u001b[0m_start_time\u001b[0m\u001b[0;34m\u001b[0m\u001b[0m\n",
      "\u001b[0;32m/Users/jasperbrandes/anaconda/lib/python3.5/site-packages/sklearn/externals/joblib/parallel.py\u001b[0m in \u001b[0;36mretrieve\u001b[0;34m(self)\u001b[0m\n\u001b[1;32m    716\u001b[0m                     \u001b[0;31m# scheduling.\u001b[0m\u001b[0;34m\u001b[0m\u001b[0;34m\u001b[0m\u001b[0m\n\u001b[1;32m    717\u001b[0m                     \u001b[0mensure_ready\u001b[0m \u001b[0;34m=\u001b[0m \u001b[0mself\u001b[0m\u001b[0;34m.\u001b[0m\u001b[0m_managed_backend\u001b[0m\u001b[0;34m\u001b[0m\u001b[0m\n\u001b[0;32m--> 718\u001b[0;31m                     \u001b[0mbackend\u001b[0m\u001b[0;34m.\u001b[0m\u001b[0mabort_everything\u001b[0m\u001b[0;34m(\u001b[0m\u001b[0mensure_ready\u001b[0m\u001b[0;34m=\u001b[0m\u001b[0mensure_ready\u001b[0m\u001b[0;34m)\u001b[0m\u001b[0;34m\u001b[0m\u001b[0m\n\u001b[0m\u001b[1;32m    719\u001b[0m                 \u001b[0;32mraise\u001b[0m \u001b[0mexception\u001b[0m\u001b[0;34m\u001b[0m\u001b[0m\n\u001b[1;32m    720\u001b[0m \u001b[0;34m\u001b[0m\u001b[0m\n",
      "\u001b[0;32m/Users/jasperbrandes/anaconda/lib/python3.5/site-packages/sklearn/externals/joblib/_parallel_backends.py\u001b[0m in \u001b[0;36mabort_everything\u001b[0;34m(self, ensure_ready)\u001b[0m\n\u001b[1;32m    141\u001b[0m     \u001b[0;32mdef\u001b[0m \u001b[0mabort_everything\u001b[0m\u001b[0;34m(\u001b[0m\u001b[0mself\u001b[0m\u001b[0;34m,\u001b[0m \u001b[0mensure_ready\u001b[0m\u001b[0;34m=\u001b[0m\u001b[0;32mTrue\u001b[0m\u001b[0;34m)\u001b[0m\u001b[0;34m:\u001b[0m\u001b[0;34m\u001b[0m\u001b[0m\n\u001b[1;32m    142\u001b[0m         \u001b[0;34m\"\"\"Shutdown the pool and restart a new one with the same parameters\"\"\"\u001b[0m\u001b[0;34m\u001b[0m\u001b[0m\n\u001b[0;32m--> 143\u001b[0;31m         \u001b[0mself\u001b[0m\u001b[0;34m.\u001b[0m\u001b[0mterminate\u001b[0m\u001b[0;34m(\u001b[0m\u001b[0;34m)\u001b[0m\u001b[0;34m\u001b[0m\u001b[0m\n\u001b[0m\u001b[1;32m    144\u001b[0m         \u001b[0;32mif\u001b[0m \u001b[0mensure_ready\u001b[0m\u001b[0;34m:\u001b[0m\u001b[0;34m\u001b[0m\u001b[0m\n\u001b[1;32m    145\u001b[0m             self.configure(n_jobs=self.parallel.n_jobs, parallel=self.parallel,\n",
      "\u001b[0;32m/Users/jasperbrandes/anaconda/lib/python3.5/site-packages/sklearn/externals/joblib/_parallel_backends.py\u001b[0m in \u001b[0;36mterminate\u001b[0;34m(self)\u001b[0m\n\u001b[1;32m    315\u001b[0m     \u001b[0;32mdef\u001b[0m \u001b[0mterminate\u001b[0m\u001b[0;34m(\u001b[0m\u001b[0mself\u001b[0m\u001b[0;34m)\u001b[0m\u001b[0;34m:\u001b[0m\u001b[0;34m\u001b[0m\u001b[0m\n\u001b[1;32m    316\u001b[0m         \u001b[0;34m\"\"\"Shutdown the process or thread pool\"\"\"\u001b[0m\u001b[0;34m\u001b[0m\u001b[0m\n\u001b[0;32m--> 317\u001b[0;31m         \u001b[0msuper\u001b[0m\u001b[0;34m(\u001b[0m\u001b[0mMultiprocessingBackend\u001b[0m\u001b[0;34m,\u001b[0m \u001b[0mself\u001b[0m\u001b[0;34m)\u001b[0m\u001b[0;34m.\u001b[0m\u001b[0mterminate\u001b[0m\u001b[0;34m(\u001b[0m\u001b[0;34m)\u001b[0m\u001b[0;34m\u001b[0m\u001b[0m\n\u001b[0m\u001b[1;32m    318\u001b[0m         \u001b[0;32mif\u001b[0m \u001b[0mself\u001b[0m\u001b[0;34m.\u001b[0m\u001b[0mJOBLIB_SPAWNED_PROCESS\u001b[0m \u001b[0;32min\u001b[0m \u001b[0mos\u001b[0m\u001b[0;34m.\u001b[0m\u001b[0menviron\u001b[0m\u001b[0;34m:\u001b[0m\u001b[0;34m\u001b[0m\u001b[0m\n\u001b[1;32m    319\u001b[0m             \u001b[0;32mdel\u001b[0m \u001b[0mos\u001b[0m\u001b[0;34m.\u001b[0m\u001b[0menviron\u001b[0m\u001b[0;34m[\u001b[0m\u001b[0mself\u001b[0m\u001b[0;34m.\u001b[0m\u001b[0mJOBLIB_SPAWNED_PROCESS\u001b[0m\u001b[0;34m]\u001b[0m\u001b[0;34m\u001b[0m\u001b[0m\n",
      "\u001b[0;32m/Users/jasperbrandes/anaconda/lib/python3.5/site-packages/sklearn/externals/joblib/_parallel_backends.py\u001b[0m in \u001b[0;36mterminate\u001b[0;34m(self)\u001b[0m\n\u001b[1;32m    132\u001b[0m         \u001b[0;32mif\u001b[0m \u001b[0mself\u001b[0m\u001b[0;34m.\u001b[0m\u001b[0m_pool\u001b[0m \u001b[0;32mis\u001b[0m \u001b[0;32mnot\u001b[0m \u001b[0;32mNone\u001b[0m\u001b[0;34m:\u001b[0m\u001b[0;34m\u001b[0m\u001b[0m\n\u001b[1;32m    133\u001b[0m             \u001b[0mself\u001b[0m\u001b[0;34m.\u001b[0m\u001b[0m_pool\u001b[0m\u001b[0;34m.\u001b[0m\u001b[0mclose\u001b[0m\u001b[0;34m(\u001b[0m\u001b[0;34m)\u001b[0m\u001b[0;34m\u001b[0m\u001b[0m\n\u001b[0;32m--> 134\u001b[0;31m             \u001b[0mself\u001b[0m\u001b[0;34m.\u001b[0m\u001b[0m_pool\u001b[0m\u001b[0;34m.\u001b[0m\u001b[0mterminate\u001b[0m\u001b[0;34m(\u001b[0m\u001b[0;34m)\u001b[0m  \u001b[0;31m# terminate does a join()\u001b[0m\u001b[0;34m\u001b[0m\u001b[0m\n\u001b[0m\u001b[1;32m    135\u001b[0m             \u001b[0mself\u001b[0m\u001b[0;34m.\u001b[0m\u001b[0m_pool\u001b[0m \u001b[0;34m=\u001b[0m \u001b[0;32mNone\u001b[0m\u001b[0;34m\u001b[0m\u001b[0m\n\u001b[1;32m    136\u001b[0m \u001b[0;34m\u001b[0m\u001b[0m\n",
      "\u001b[0;32m/Users/jasperbrandes/anaconda/lib/python3.5/site-packages/sklearn/externals/joblib/pool.py\u001b[0m in \u001b[0;36mterminate\u001b[0;34m(self)\u001b[0m\n\u001b[1;32m    606\u001b[0m                 \u001b[0msuper\u001b[0m\u001b[0;34m(\u001b[0m\u001b[0mMemmapingPool\u001b[0m\u001b[0;34m,\u001b[0m \u001b[0mself\u001b[0m\u001b[0;34m)\u001b[0m\u001b[0;34m.\u001b[0m\u001b[0mterminate\u001b[0m\u001b[0;34m(\u001b[0m\u001b[0;34m)\u001b[0m\u001b[0;34m\u001b[0m\u001b[0m\n\u001b[1;32m    607\u001b[0m                 \u001b[0;32mbreak\u001b[0m\u001b[0;34m\u001b[0m\u001b[0m\n\u001b[0;32m--> 608\u001b[0;31m             \u001b[0;32mexcept\u001b[0m \u001b[0mWindowsError\u001b[0m \u001b[0;32mas\u001b[0m \u001b[0me\u001b[0m\u001b[0;34m:\u001b[0m\u001b[0;34m\u001b[0m\u001b[0m\n\u001b[0m\u001b[1;32m    609\u001b[0m                 \u001b[0;31m# Workaround  occasional \"[Error 5] Access is denied\" issue\u001b[0m\u001b[0;34m\u001b[0m\u001b[0;34m\u001b[0m\u001b[0m\n\u001b[1;32m    610\u001b[0m                 \u001b[0;31m# when trying to terminate a process under windows.\u001b[0m\u001b[0;34m\u001b[0m\u001b[0;34m\u001b[0m\u001b[0m\n",
      "\u001b[0;31mTypeError\u001b[0m: catching classes that do not inherit from BaseException is not allowed"
     ]
    }
   ],
   "source": [
    "t0 = time.time()\n",
    "grid_search.fit(X_train_sample, y_train_sample)\n",
    "print(\"done in {0}s\".format(time.time() - t0))\n",
    "print(\"Best score: {0}\".format(grid_search.best_score_))\n",
    "print(\"Best parameters set:\")\n",
    "best_parameters = grid_search.best_estimator_.get_params()\n",
    "for param_name in sorted(list(parameters.keys())):\n",
    "    print(\"\\t{0}: {1}\".format(param_name, best_parameters[param_name]))"
   ]
  },
  {
   "cell_type": "code",
   "execution_count": null,
   "metadata": {
    "collapsed": true
   },
   "outputs": [],
   "source": []
  }
 ],
 "metadata": {
  "kernelspec": {
   "display_name": "Python 3",
   "language": "python",
   "name": "python3"
  },
  "language_info": {
   "codemirror_mode": {
    "name": "ipython",
    "version": 3
   },
   "file_extension": ".py",
   "mimetype": "text/x-python",
   "name": "python",
   "nbconvert_exporter": "python",
   "pygments_lexer": "ipython3",
   "version": "3.5.2"
  }
 },
 "nbformat": 4,
 "nbformat_minor": 2
}
