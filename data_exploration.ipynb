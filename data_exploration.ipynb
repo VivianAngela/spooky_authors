{
 "cells": [
  {
   "cell_type": "code",
   "execution_count": 1,
   "metadata": {
    "collapsed": true
   },
   "outputs": [],
   "source": [
    "import pandas as pd\n",
    "pd.options.display.max_colwidth = 5000\n",
    "import matplotlib.pyplot as plt\n",
    "%matplotlib inline\n",
    "import seaborn as sns"
   ]
  },
  {
   "cell_type": "code",
   "execution_count": 2,
   "metadata": {
    "collapsed": true
   },
   "outputs": [],
   "source": [
    "train = pd.read_csv('data/train.csv')\n",
    "test  = pd.read_csv('data/test.csv')"
   ]
  },
  {
   "cell_type": "code",
   "execution_count": 3,
   "metadata": {},
   "outputs": [
    {
     "data": {
      "text/html": [
       "<div>\n",
       "<style>\n",
       "    .dataframe thead tr:only-child th {\n",
       "        text-align: right;\n",
       "    }\n",
       "\n",
       "    .dataframe thead th {\n",
       "        text-align: left;\n",
       "    }\n",
       "\n",
       "    .dataframe tbody tr th {\n",
       "        vertical-align: top;\n",
       "    }\n",
       "</style>\n",
       "<table border=\"1\" class=\"dataframe\">\n",
       "  <thead>\n",
       "    <tr style=\"text-align: right;\">\n",
       "      <th></th>\n",
       "      <th>id</th>\n",
       "      <th>text</th>\n",
       "      <th>author</th>\n",
       "    </tr>\n",
       "  </thead>\n",
       "  <tbody>\n",
       "    <tr>\n",
       "      <th>0</th>\n",
       "      <td>id26305</td>\n",
       "      <td>This process, however, afforded me no means of ascertaining the dimensions of my dungeon; as I might make its circuit, and return to the point whence I set out, without being aware of the fact; so perfectly uniform seemed the wall.</td>\n",
       "      <td>EAP</td>\n",
       "    </tr>\n",
       "    <tr>\n",
       "      <th>1</th>\n",
       "      <td>id17569</td>\n",
       "      <td>It never once occurred to me that the fumbling might be a mere mistake.</td>\n",
       "      <td>HPL</td>\n",
       "    </tr>\n",
       "    <tr>\n",
       "      <th>2</th>\n",
       "      <td>id11008</td>\n",
       "      <td>In his left hand was a gold snuff box, from which, as he capered down the hill, cutting all manner of fantastic steps, he took snuff incessantly with an air of the greatest possible self satisfaction.</td>\n",
       "      <td>EAP</td>\n",
       "    </tr>\n",
       "    <tr>\n",
       "      <th>3</th>\n",
       "      <td>id27763</td>\n",
       "      <td>How lovely is spring As we looked from Windsor Terrace on the sixteen fertile counties spread beneath, speckled by happy cottages and wealthier towns, all looked as in former years, heart cheering and fair.</td>\n",
       "      <td>MWS</td>\n",
       "    </tr>\n",
       "    <tr>\n",
       "      <th>4</th>\n",
       "      <td>id12958</td>\n",
       "      <td>Finding nothing else, not even gold, the Superintendent abandoned his attempts; but a perplexed look occasionally steals over his countenance as he sits thinking at his desk.</td>\n",
       "      <td>HPL</td>\n",
       "    </tr>\n",
       "  </tbody>\n",
       "</table>\n",
       "</div>"
      ],
      "text/plain": [
       "        id  \\\n",
       "0  id26305   \n",
       "1  id17569   \n",
       "2  id11008   \n",
       "3  id27763   \n",
       "4  id12958   \n",
       "\n",
       "                                                                                                                                                                                                                                      text  \\\n",
       "0  This process, however, afforded me no means of ascertaining the dimensions of my dungeon; as I might make its circuit, and return to the point whence I set out, without being aware of the fact; so perfectly uniform seemed the wall.   \n",
       "1                                                                                                                                                                  It never once occurred to me that the fumbling might be a mere mistake.   \n",
       "2                                 In his left hand was a gold snuff box, from which, as he capered down the hill, cutting all manner of fantastic steps, he took snuff incessantly with an air of the greatest possible self satisfaction.   \n",
       "3                           How lovely is spring As we looked from Windsor Terrace on the sixteen fertile counties spread beneath, speckled by happy cottages and wealthier towns, all looked as in former years, heart cheering and fair.   \n",
       "4                                                           Finding nothing else, not even gold, the Superintendent abandoned his attempts; but a perplexed look occasionally steals over his countenance as he sits thinking at his desk.   \n",
       "\n",
       "  author  \n",
       "0    EAP  \n",
       "1    HPL  \n",
       "2    EAP  \n",
       "3    MWS  \n",
       "4    HPL  "
      ]
     },
     "execution_count": 3,
     "metadata": {},
     "output_type": "execute_result"
    }
   ],
   "source": [
    "train.head()"
   ]
  },
  {
   "cell_type": "markdown",
   "metadata": {},
   "source": [
    "# Text length"
   ]
  },
  {
   "cell_type": "code",
   "execution_count": 4,
   "metadata": {
    "collapsed": true
   },
   "outputs": [],
   "source": [
    "# character length of text snippet\n",
    "train['text_length'] = train['text'].apply(len)"
   ]
  },
  {
   "cell_type": "code",
   "execution_count": 5,
   "metadata": {
    "collapsed": true
   },
   "outputs": [],
   "source": [
    "def split_text(x):\n",
    "    return x.split()"
   ]
  },
  {
   "cell_type": "code",
   "execution_count": 6,
   "metadata": {
    "collapsed": true
   },
   "outputs": [],
   "source": [
    "# word count length of text snipped\n",
    "train['word_count'] = train['text'].apply(split_text).apply(len)"
   ]
  },
  {
   "cell_type": "code",
   "execution_count": 7,
   "metadata": {},
   "outputs": [
    {
     "data": {
      "text/html": [
       "<div>\n",
       "<style>\n",
       "    .dataframe thead tr:only-child th {\n",
       "        text-align: right;\n",
       "    }\n",
       "\n",
       "    .dataframe thead th {\n",
       "        text-align: left;\n",
       "    }\n",
       "\n",
       "    .dataframe tbody tr th {\n",
       "        vertical-align: top;\n",
       "    }\n",
       "</style>\n",
       "<table border=\"1\" class=\"dataframe\">\n",
       "  <thead>\n",
       "    <tr style=\"text-align: right;\">\n",
       "      <th></th>\n",
       "      <th>text_length</th>\n",
       "      <th>word_count</th>\n",
       "    </tr>\n",
       "  </thead>\n",
       "  <tbody>\n",
       "    <tr>\n",
       "      <th>count</th>\n",
       "      <td>19579.000000</td>\n",
       "      <td>19579.000000</td>\n",
       "    </tr>\n",
       "    <tr>\n",
       "      <th>mean</th>\n",
       "      <td>149.057408</td>\n",
       "      <td>26.730477</td>\n",
       "    </tr>\n",
       "    <tr>\n",
       "      <th>std</th>\n",
       "      <td>106.800189</td>\n",
       "      <td>19.048353</td>\n",
       "    </tr>\n",
       "    <tr>\n",
       "      <th>min</th>\n",
       "      <td>21.000000</td>\n",
       "      <td>2.000000</td>\n",
       "    </tr>\n",
       "    <tr>\n",
       "      <th>25%</th>\n",
       "      <td>81.000000</td>\n",
       "      <td>15.000000</td>\n",
       "    </tr>\n",
       "    <tr>\n",
       "      <th>50%</th>\n",
       "      <td>128.000000</td>\n",
       "      <td>23.000000</td>\n",
       "    </tr>\n",
       "    <tr>\n",
       "      <th>75%</th>\n",
       "      <td>191.000000</td>\n",
       "      <td>34.000000</td>\n",
       "    </tr>\n",
       "    <tr>\n",
       "      <th>max</th>\n",
       "      <td>4663.000000</td>\n",
       "      <td>861.000000</td>\n",
       "    </tr>\n",
       "  </tbody>\n",
       "</table>\n",
       "</div>"
      ],
      "text/plain": [
       "        text_length    word_count\n",
       "count  19579.000000  19579.000000\n",
       "mean     149.057408     26.730477\n",
       "std      106.800189     19.048353\n",
       "min       21.000000      2.000000\n",
       "25%       81.000000     15.000000\n",
       "50%      128.000000     23.000000\n",
       "75%      191.000000     34.000000\n",
       "max     4663.000000    861.000000"
      ]
     },
     "execution_count": 7,
     "metadata": {},
     "output_type": "execute_result"
    }
   ],
   "source": [
    "train.describe()"
   ]
  },
  {
   "cell_type": "markdown",
   "metadata": {},
   "source": [
    "## Training set\n",
    "\n",
    "- MWS has unusually long text snippets compared to EAP and HPL"
   ]
  },
  {
   "cell_type": "code",
   "execution_count": 8,
   "metadata": {},
   "outputs": [
    {
     "data": {
      "image/png": "[encoded data removed]",
      "text/plain": [
       "<matplotlib.figure.Figure at 0x10b1814a8>"
      ]
     },
     "metadata": {},
     "output_type": "display_data"
    }
   ],
   "source": [
    "ax = sns.stripplot(x=\"author\", y=\"word_count\", data=train, jitter=True)"
   ]
  },
  {
   "cell_type": "code",
   "execution_count": 9,
   "metadata": {},
   "outputs": [
    {
     "data": {
      "image/png": "[encoded data removed]",
      "text/plain": [
       "<matplotlib.figure.Figure at 0x10b1521d0>"
      ]
     },
     "metadata": {},
     "output_type": "display_data"
    }
   ],
   "source": [
    "ax = sns.violinplot(x='author', y='text_length', data=train)"
   ]
  },
  {
   "cell_type": "code",
   "execution_count": 10,
   "metadata": {
    "collapsed": true
   },
   "outputs": [],
   "source": [
    "test['text_length'] = test['text'].apply(len)"
   ]
  },
  {
   "cell_type": "markdown",
   "metadata": {},
   "source": [
    "## Test set\n",
    "\n",
    "- We don't know the author\n",
    "- There are not as many unusually long text snippets in the training set"
   ]
  },
  {
   "cell_type": "code",
   "execution_count": 11,
   "metadata": {},
   "outputs": [
    {
     "data": {
      "image/png": "[encoded data removed]",
      "text/plain": [
       "<matplotlib.figure.Figure at 0x10e063400>"
      ]
     },
     "metadata": {},
     "output_type": "display_data"
    }
   ],
   "source": [
    "ax = sns.stripplot(y='text_length', data=test, jitter=True)"
   ]
  },
  {
   "cell_type": "markdown",
   "metadata": {},
   "source": [
    "# Named Entity Recognition\n",
    "\n",
    "- explore Persons and Places mentioned in the text snippets\n",
    "- check if there is an overlap, otherwise these could be highly informative features"
   ]
  },
  {
   "cell_type": "code",
   "execution_count": 12,
   "metadata": {
    "collapsed": true
   },
   "outputs": [],
   "source": [
    "import spacy"
   ]
  },
  {
   "cell_type": "code",
   "execution_count": 13,
   "metadata": {
    "collapsed": true
   },
   "outputs": [],
   "source": [
    "nlp = spacy.load(\"en_core_web_md\")"
   ]
  },
  {
   "cell_type": "code",
   "execution_count": 14,
   "metadata": {
    "collapsed": true
   },
   "outputs": [],
   "source": [
    "ner = {}"
   ]
  },
  {
   "cell_type": "code",
   "execution_count": 15,
   "metadata": {
    "collapsed": true
   },
   "outputs": [],
   "source": [
    "# loop over text and associated authors\n",
    "for text, author in zip(train.text, train.author):\n",
    "    doc = nlp(text) # spacy pipeline\n",
    "    if doc.ents:    # check for entities\n",
    "        # print(author)\n",
    "        for ent in doc.ents: # for each entity\n",
    "            if ent.label_ in [\"PERSON\", \"GPE\", \"LOC\"]: # focus persons, places\n",
    "                # print(ent.label_, ent.text)\n",
    "                \n",
    "                # populate author dictionary\n",
    "                if author in ner.keys():\n",
    "                    if ent.text not in ner[author]:\n",
    "                        ner[author].append(ent.text)\n",
    "                else:\n",
    "                    ner[author] = [ent.text]"
   ]
  },
  {
   "cell_type": "code",
   "execution_count": 16,
   "metadata": {},
   "outputs": [
    {
     "name": "stdout",
     "output_type": "stream",
     "text": [
      "EAP ['Epicurus', 'California', \"Von Kempelen's\", 'Underduk', 'Ellison', 'Mein Gott', 'Latin', 'Theodore Sinivate', 'Kidd', 'Lofoden', 'Moskoe', 'Pierre Moreau', \"Madame L'Espanaye\", 'Hebrews', 'Athens', 'Epimenides', 'Laertius', 'Alexander', 'John Smith', 'Gazette', 'Thomas Hawk', 'Jupiter', 'Jxhn', 'Perdidit', 'Ferdinand Fitz Fossillus Feltspar', 'Launcelot', 'Cotopaxi', 'Flimen', 'Dupin', 'I. \"Nose and', 'Mark Antony', 'Von Kempelen', 'Valence', 'Marie', 'P.', 'Baron', 'Windenough', 'Paris', 'William Wilson', 'Oxford', 'Keats', 'Oppodeldoc', 'Luchesi', 'Amontillado', 'Sherry', 'Everard Bringhurst', 'Osborne', 'Mason', 'Holland', 'Rotterdam', \"D'Avisson Davidson\", 'Mademoiselle', 'Marston', 'Geneva', 'Eleonora', 'Pompey', 'B.', 'M. St. Eustache', 'M. Beauvais', 'Greece', 'M. Maillardet', 'Rome', 'Eugenie', 'Vell', 'Bobby', 'Edward Stapleton', 'Frederick', 'Helseggen', 'Suky Snobbs', 'Thingum', 'Crab', 'Fortunato', 'Diana', \"Mademoiselle L'Espanaye\", 'Dumas', 'Etienne', 'Gad Fly\" it', 'Aidenn', 'Le Commerciel', 'Una', 'New Holland', 'Bi', 'Pundit', 'morrow', 'Le', 'Duc', 'Smith', 'Christendom', 'Roule', 'Tarr', 'Fether', 'Ebn Zaiat', 'Monsieur Simpson', 'Maelzel', 'Beauvais', 'Wyatt', 'Charleston', 'S. C', 'New York', 'Hardy', 'M. Valdemar', 'Metzengerstein', 'Peter Proffit', 'John A. B. C.?', 'Maillard', 'Addison', 'Thingum Bob', 'Julien', 'Bob', 'Hippocratian', 'Lackobreath', 'Salle', 'Berenice', 'Pascal', 'Turk', 'Chantilly', 'Gruff', 'Simpson', 'Solomon', 'Petit Gaillard', 'Vankirk', 'East', 'Amphitheatre', 'Epidaphne', 'Syria', 'Antiochus Epimanes Antiochus', 'Suky', 'Psyche', 'Fay', 'the Saracen Berlifitzing', 'Thee', 'Parmly', 'Wery', 'V. Yes;', 'Havelius', 'Usher', 'Madame Lalande', 'Vienna', 'Aries Tottle', 'Talbot', 'Ethelred', 'Prefect', 'Archytas', 'Gorgias', 'Grace', 'Frederick Von Metzengerstein', 'Madame L.', 'Vondervotteimittiss', 'Hope', 'Democritus', 'Moses', 'Nopolis', 'Ainsworth', 'North America', 'Le Soleil', 'Greek', 'Rub', 'Madame Deluc', 'Drs', 'Mynheer Hermann', 'St. Eustache', 'Morella', 'Massa Will', 'Le Bon', 'Alcyone', 'Pleiades', 'Maltese', 'America', 'Little', 'Ourang Outang', 'Cimabue', 'Heraclides', 'Count Capricornutti', 'Richmond', 'Virginia', 'M. Maelzel', 'Hogs', 'Logs', 'Marie Rogêt', 'Seine', 'Edward', 'Sluys', 'St. Andrews', 'London', 'Pratt', 'Voissart', 'Berlifitzing', 'India', 'Roman Emperor', 'Heliogabalus', 'Ben Nevis', 'Bessop', \"George Cayley's\", 'Naples', 'Egypt', 'Bransby', 'Slyass', 'Ettrick Shepherd', 'Henson', 'Venice', 'Angel', 'Monsieur Maillard', 'Baron Kempelen', 'Presburg', 'Hungary', 'Libya', 'Zaire', 'Nick', 'Harlaem', 'N.Y.', 'John Randolph', \"Duc De L'Omelette\", 'Rombert', 'L', 'Snap', 'Hans Pfaal', 'Locke', 'Hans Pfaall', 'Earth', 'Le Moniteur', \"L'Etoile\", 'Tarpaulin', 'Marian', 'Vondervotteimittis', 'Shakespeare', 'Templeton', 'Encke', 'Schroeter', 'Lilienthal', 'Kate', 'Lucan', 'West', 'Dick', 'Harry Street', 'Massa', 'Achilles', 'France', 'Mentoni', 'Poisoned', 'Berlin', 'Glad', 'Mudler', 'W.', 'Blackwood', 'Zenobia', 'Snobbs', 'Reason', 'Mademoiselle L.', 'Pole', 'Venus', 'Roderick Usher', 'Atlantic', 'S.C.', 'A.M.', \"Lord Bentinck's\", 'Monck Mason', 'Robert Holland', 'Harrison Ainsworth', 'Jack Sheppard', 'Woolwich', 'Brewster', 'Herschel', \"Madame L'Espanaye's\", 'Nicolino', \"Ninon De L'Enclos\", 'earth', 'Fort Moultrie', 'Hartley', 'Grant', 'Dumbarton', 'Kickapoo', 'Lieutenant G', 'Lombardy', 'Hugh Tarpaulin', 'Abernethy', 'Quitting Talbot', 'Ponte', 'Glendinning', 'Bishop', 'Lafitte', 'Wales', 'Menehoult', 'Clos de Vougeot', 'John', 'Nosology', 'Kickapoos', 'England', 'Mann', 'Napoleon Bonaparte', 'Aurelian', 'Sarmatic', 'Edinburgh', 'Oinos', 'Odenheimer', 'Charles Green', 'Ligeia', 'Smitherton', 'Pierre', 'Madame Eugenie Lalande', 'Excellencies', 'De Kock', \"Ma'm'selle Laplace\", 'Jules Mignaud', 'Rue Deloraine', 'Joyeuse', 'Wilson', 'Otterholm', 'Sandflesen', 'Nantz', 'Madame', 'Froissart', 'Ducrow', 'Elah Gabalah', 'Signor', 'V. Yes no', 'Newton', 'Benares', 'the Holy River', 'Arago', 'Lieutenant Maury', 'Lord Edouard', 'David Brewster', 'Tom Dobson', 'Bobby Tompkins', 'Chevalier', 'M. Camus', 'Louis XIV', 'Monsieur G', 'Lord Cornwallis', 'Baiae', 'Madame Simpson', 'Ariosto Il', 'Nourjahad', 'Fourthly', 'Awe', 'Madame D.', 'Tattle', 'George Cayley', 'George', 'Hermann', 'Madame Rogêt', 'Broadway', 'Paradise', 'Horace', 'Jup', 'LA', 'Marmontel', 'Baconian', 'the Ultima Thule', 'Lasalle', 'Dubble L. Dee', 'Le Mercurie', 'Adolphe Le Bon', 'Moresque', 'Valley', 'Adelaide Curtis', 'Albany', 'KATE', 'Moslemin', 'Mecca', 'Hereupon Legrand', 'Sun', 'Kissam', 'Kempelen', 'Knickerbocker', 'Cape Clear', 'North', 'Ström', 'South', 'Pagan', 'Condor', 'Invisible Wo', 'Sin', 'Damascus', 'Ju Kiao Li', 'Green', 'M.', 'Dieu', 'Montani', 'Talbots', 'Erebus', 'Boston', 'HANS PFAALL', 'Jermyn', 'Kepler', 'John A. B. C. Smith', 'M. Bossieux', 'Milton', 'Recorder Riker', 'John A. B. C.', 'Neapolitans', 'Buffon', 'Hogarth', 'Mare Nubium', 'Mare Tranquillitatis', 'Mare Faecunditatis', 'L.', 'Monos', 'Robert', 'Ravisius Textor', 'Natural Magic', \"Monsieur Jourdain's\", 'Rafaelle', 'Round', 'Ourang Outangs', 'Mary Cecila Rogers', 'Malays', 'Automaton', 'Bluddennuff', 'Divine', 'Antiochia Epidaphne', 'Daphne', 'Teios', 'Cimabué', 'Arpino', 'Carpaccio', 'Argostino of the', 'Caravaggio', 'Albano', 'Titian', 'Rubens', 'Jan Steen', 'Paul Dumas', 'Æschylus', 'Isæus', 'Lysias', 'Theophrastus', 'Apollonius', 'Pindar', 'Homer Junior', 'Humphrey Davy', 'Jovis', 'Phalaris', 'Moneypenny', 'Europe', \"L'Espanaye\", 'Madeline', 'Aeolus', \"Le Commerciel's\", 'Legs', 'Beheld', 'Wilhelm', 'Count Berlifitzing', 'Diodorus', 'Nineveh', 'Latour', 'Markbrünnen', 'Mousseux', 'Chambertin', 'Richbourg', 'St. George', 'Haubrion', 'Leonville', 'Medoc', 'Barac', 'Preignac', 'Grâve', 'Sauterne', 'St. Peray', 'Niagara Falls', 'Monsieur Renelle', 'Pirouette', 'Claude', 'Jonas Ramus', 'Mynheer Superbus Von Underduk', 'Bullethead', 'Ver Vurrgh', 'Amriccan', 'Adam', 'Bossuet', 'Baltimore', 'Windham', 'Allbreath', 'Phiz', 'Rumgudgeon', 'Nassau', 'Thomas Bob', 'Smug', 'Nordland', 'Ocracoke Inlet', 'Rogêt', 'Tom Street', 'Bendis', 'Thrace', 'Bubastis', 'Artemis', 'Jostling King Pest', 'Bedloe', 'Nat Lee', 'Antioch', 'Nature', 'Madame Joyeuse', 'Mercury', 'S.', 'I. \"Pompey', 'Monsieur De Kock', 'Mediterranean', 'Mazurka', 'Landor', 'Great Britain', 'Donner', 'Blitzen', 'South Carolina', 'M. Dumas', 'Nichols', 'Stereotomy', 'Nicholas Klimm', 'Holberg', 'Robert Flud', \"Jean D'Indaginé\", 'De la Chambre', 'the City of', 'Campanella', 'Politian', 'Heraclitus', 'Roanoke Island', 'Cleomenes', 'Persepolis', 'Charlottesville', 'Seabright', 'Isis', 'Mill', 'Kanadaw', 'Baal Zebub', 'Blunderbuzzard \"De Derivationibus', 'Folio', 'Stuffundpuff', 'A. M.', 'P. M.', 'Hogs Logs', 'Sinivate', 'Kickapo', 'Golconda', 'Invention', 'Lewis G. Clarke', 'Penstruthal', 'Malibran', 'Bellini', 'Ritzner', 'Château Jung', 'Leonardo', 'Rubini', 'Florence', 'La Bellissima', 'Bedlo', 'Turgot', 'Price', 'G.', 'WILLIAM LEGRAND', 'Sparta', 'Agathos', 'V. Yes', 'Wellingtons', 'Jeremys', 'Dutch Pagoda', 'Epiphanes', 'Barrière', \"Lord Byron's\", 'Heroded Herod', \"Humphrey Davy'\", 'Cottle', 'Munroe', 'Marchesa', 'Utica', 'the State of New York', 'Hades', 'the United States', 'Stephanie Lalande', 'Genoese', 'Muriton', 'Ermengarde', 'Africa', 'Slang Whang', 'Ashimah', 'Vurrgh', 'Norway', 'Batavia', 'Night', 'Le Blanc', 'Dante', 'Eusebius', 'Arianus', 'Homousios', 'Homouioisios', 'Herodes Atticus', 'Trist', 'Signora Psyche Zenobia', 'Philadelphia', 'Young', 'Belles', 'Lettres', 'Universal', 'Experimental', 'Civilize', 'Pinxit', \"De L'Omelette\", 'JOHANN HERMAN', 'Continent', 'Miss Psyche', 'Chamfort', 'Antares', 'Rhine', 'Bliss', 'Sauerkraut', \"Dirteen o'clock\", 'Madame B', 'Zaire French', 'the Kingdom of Metaphysics', 'Dominic', 'the Anglo Saxon', 'Dresden', 'M. I. F. Freyhere', 'Monsieur Le Blanc', 'Coelius Secundus Curio', \"St. Austin's\", 'Tertullian', 'Brobdignag', 'Timbuctoo', 'the Schiedam Kirschenwasser', 'Thompson', 'Pelion', 'Epidaphne Beasts', 'Cape Horn', 'the Polar Sea', 'P. S. We', 'Preston', 'Madame Pilau', 'Copernicus', 'Equinoctial', 'De Stael', 'Hieronymus', 'Pluto', 'Brunswick', 'Maine', 'Mud Dabbling', 'Yellow', 'Violet', 'Blab', 'Java', 'Croissart', 'Victor Voissart', 'Chiponchipino', 'Muses', 'Bugaboos', 'Juniper', 'Hollands', 'Sieur Hedelin', 'Freyhere', 'Arnheim', 'G.; \"', 'Stapleton', 'Casimir Perier', 'Pedro', 'Kirschenwasser', 'Hebrew', 'Bacon', 'Lord Verulam', 'Monsieur Mignaud', 'Miguel De Cervantes', 'Vanny Buren', 'Query', 'Grandjean', 'Wiggins', 'Ptolemais', 'Ephesus', 'Taba', 'Dick Turpin', \"Daniel O'Connell\", 'Charles', 'Mesmer', 'Porque el', 'Miguel de Cervantes', 'Azrael', 'Sunship', 'Don Stiletto', 'Emmons', 'Tabitha T.', 'Guido', 'Miss Arabella', 'Gothic', \"Und sterb'ich\", 'Schiller', 'Toledo', 'Condorcet', 'Julien Bossuet', 'Trinculo', 'A.M. of the same', 'Mumblethumb', 'J. Goignard', 'Alexandre Etienne', 'Pauline Dubourg', 'Daphnis', 'Cxxl', 'Nxne xf', 'San Marco', 'M. Valz', 'Alma Mater', 'Ponto', 'Babbage', 'the Pacific Islands', 'Day', 'Niagara', 'Law', 'Earl', 'Napoleon Bonaparte Froissart', 'C. Auguste Dupin', 'Rue Dunôt', 'Faubourg St. Germain', 'Monsieur Lalande', 'Moissart', 'Kickapoo Indians', \"M. Valdemar's\", 'M. Ernest Valdemar', 'Issachar Marx', 'Henri Duval', 'Man Friday', 'Man Fred', 'Glover', 'Wilkie', 'Lamartine', 'Barlow', 'Griswold', 'M. Grimm', 'Alpha Lyrae', 'Abbé Gualtier', 'St. Helena', 'Ionia', 'Art', 'Hugh', 'Homer', \"Le Blanc's\", 'Fum Fudge', 'Russia', 'Monsieur Etienne', 'Miller', 'Muses Melete', 'Mneme', 'P. R. E. T. T. Y. B. L. U. E. B. A. T. C. H.', 'Dat', 'Rule', 'Afrasiab', 'Andava', 'Ariosto', 'Cornwallis', 'Monsieur Boullard', 'Rowena', 'King Pest', 'Tim Hurlygurly', 'Somnambula', 'Al', 'Ligeia Ligeia', 'Averni', 'Catalani', 'Coleridge', 'Glanvill', 'Spain', 'Zopyrus', 'Babylon', 'Chapman', \"Bussy D'Ambois\", 'Percival', 'Spallanzani', 'Landaff', 'Alberto Montani', 'Virtu', 'Napoli', 'Le Don', 'Superbus Von Underduk', 'Renelle', 'Providence', 'Rhode Island', 'Jung', 'Concord', 'Demosthenes', 'Channing', 'Hudibras', 'Valdemar', 'Hastings', 'Novalis', \"Peter Wilkins'\", 'Bullet', 'Alex', 'Père Le Brun', 'Barclay', 'Forsyth', 'Polar Gulf', 'Lo', \"Aries Tottle's\", 'Epictetus', 'Assailed', 'Mary Cecilia Rogers', 'John Neal', 'Mademoiselle Moissart', 'Miranda Cognoscenti', \"Madame Deluc's\", 'Madame Moissart', 'Gravitation', 'Hotholm', 'Keildhelm', 'Suarven', 'Buckholm', 'Draper', 'Quizzem', 'Jeremy Bentham', 'Terrible', 'Augustus Bedloe', 'Mademoiselle Voissart', 'Mademoiselle Croissart', 'STUBBS', 'Vaucanson', 'William Godwin', 'Von Underduk', 'Fatquack', 'Snob', 'Esq', 'Chateaubriand', 'Borneo', 'Maisons de Sante', 'Lady Bury', 'the Rue Morgue', 'Humboldt', 'D. U. K.', 'Stale Duck', 'Versailles', 'Froisart', 'Zaffre', 'Francis', 'Frenchwoman', \"Kathleen O'Trump\", 'Tousand', 'Touch', 'Xerxes', 'Crébillon', 'Eugenie Lalande', 'Bremen', 'Mille', 'Decollavimus', 'Brussels', \"Thomas D'Anan\", 'Eccossois', 'Ezekiel', 'Piazetta', 'Junius', 'Robert Jones', 'Washington', 'Ge Henna', 'Edina', 'Flos Aeris', 'Frogpondium', 'Cuvier', 'Cordova', 'Bouffon Le Grand', 'Hollander', 'Avenue', \"Lord Brougham's\", 'Queen Pest', 'V. Hesitating', 'Trotter', 'Hoggishly', 'Archipelago', 'William Bird', 'Madame B.', 'Unhappiness', 'Mennais', 'Dodona', 'Allah', 'Lord Glendinning', 'Apicius A', 'Peru', 'Bantry Bay', 'Archimedean', 'Hock', 'Le Diligence Thursday', 'Fraser', 'Cornelius Wyatt', 'Wolf', 'Newfoundland', 'Dublin', 'Oldeb', 'Calcutta', 'Warren Hastings', 'Quarterly', 'Thomas\" turning', 'Butt', 'Williams', 'Crebillon', 'Seabright Ellison', 'Excellencies Von Underduk', 'Germany', 'Tommy', 'Tommy Hawk', 'Norfolk', \"Monck Mason's\", 'Charlestown', 'Jacques St. Eustache', 'Flatzplatz', 'Mignaud']\n",
      "\n",
      "HPL ['Herbert West', 'Sarnath', 'Mnar', 'Sheehan', 'Innsmouth', 'Wilbur', 'Johnson', 'Nature', 'Gawd', 'Charles Le Sorcier', 'West', 'Galpin', 'Appletonians', 'Tillinghast', 'Boston', 'Harris', 'Satan', 'Lawrence', 'Chicago', 'Devil Reef', 'Mis', 'Corey', 'Rowley', 'Walter', 'Kilderry', 'the North End', 'Erich Zann', 'Johansen', 'Pharaoh', 'Valley', 'Birch', 'Hispanicised', 'Romero', 'Peleg Harris', 'Presbyterian Lane', 'Algol', 'Magnalia', 'Iranon', 'Nithra', 'Ottawa', 'Major', 'Gilman', 'Sidney Sime', 'Clark Ashton Smith', 'Arthur Munroe', 'Castro', \"Wizard Whateley's\", 'Broad', 'Washington', 'Lafayette', 'Bolton', 'Masonic Hall', 'Brown Jenkin', 'Carter', 'Terrible Old Man', 'Halsey', 'Hartwell', 'Thurai', 'Lerion', 'Kalos', 'Musides', 'Arkham', 'Nodens', 'Olney', 'Ossian', 'Tempest Mountain', 'Paine', 'Joe', 'Kuranes', 'Black Winged Ones', 'Pickman', 'Yog Sothoth', 'Zokkar', 'Tyrant', 'Barcelona', 'Bennett', 'Tobey', 'Maple Hill', 'Cone Mountain', 'Trembling', 'Dombrowski', 'Choynski', 'Desrochers', 'Mazurewicz', 'Malkowski', 'Peter Slader', 'South', 'Deneb', 'Vega', 'Altair', 'Fomalhaut', 'Frye', 'Elmer', 'Barnard', 'Dacia', 'New York', 'Thraa', 'Ilarnek', 'Kadatheron', 'Ooth Nargai', 'Kingsport', 'Armitage', 'Zann', 'Slater', 'Dutee', 'Mercy', 'Godfrey', 'King', 'Salem', 'Sally', 'Lavinny', \"Asaph Sawyer's\", 'Street', 'Whateley', 'Joseph Glanvill', 'Lyons', 'Abdul Alhazred', 'Eli Liddeason', 'Rehoboth', 'Mehitabel Pierce', 'Hannah', 'Publick', 'Lavinia', 'William Channing Webb', 'Princeton University', 'Joe Mazurewicz', 'Tegea', 'Cambridge', 'Whilst Barzai', 'Minot', 'Babson', 'Juan Romero', 'Christopher', 'Burke', 'Manner', 'Whateleys', 'Puritan', 'Massachusetts', 'King Kynaratholis', 'Artemis', 'Latona', 'Demeter', 'Persephone', 'Plouton', 'William Harris', 'the Gilman House', 'Cathuria', 'Narg', 'Hatheg Kla', 'Barzai', 'Ulthar', 'Atal', 'L. Cælius Rufus', 'Tarraco', 'Schultz', 'Trever', 'Albany', 'Denys Barry', 'Lomar', 'Aldebaran', 'Esquimaux', 'Asiatic', 'Levantine', 'Necronomicon', 'Theseus', 'Ricci', 'Czanek', 'Silva', 'Eb Holt', 'Scripter', 'Midianites', 'Tartary', 'Michel', 'Zebulon', 'Aylesbury', 'Miskatonic', 'Mercy Dexter', 'Aunt Martha', 'Benijah', 'Rome', 'Ravenna', 'Athens', 'Frank Elwood', 'Herrero', 'Etienne Roulet', 'Virginia', \"St. Paul's\", 'Manton', \"Jan Martense's\", 'Barry', 'Tilton', 'Sona Nyl', 'Alfred Trever', 'Appleton', 'Nis', 'Argo Navis', 'Louder', 'Sentinel Hill', \"St. John's\", 'Klenze', 'Keziah', 'De Bry', 'Mount Aran', 'Geoffrey Hyde', 'Acropolis', 'London', 'Gray', \"New England's\", 'Corinth', 'Parthenon', 'Osborn', 'Flanders', 'Clapham Lee', 'Martense', 'Muñoz', 'Galens', 'Athib', 'Serannian', 'Anzique', 'Karthian', 'East Side', 'Archer Harris', 'Zuro', 'Aurora', 'Taran Ish', 'Joe Slater', 'Wal', 'Phebe Harris', 'Obed', 'Kanaky', 'Elwood', 'Bokrug', 'Petrovitch', 'Liberty Café', 'Belial', \"Olaus Wormius'\", 'Spain', 'Chapman', 'Meadow Hill', 'Teloth', 'Jermyn', 'Iä Iä', 'Angell', 'Emma', 'Auckland', 'Verses', 'Williams', 'Rice', 'Wilbur Whateley', 'Favour', 'Sam Hutchins', 'Fred Farr', 'Earl Sawyer', 'Legrasse', 'Vercellius', 'Rhode Island', 'New Jersey', 'Phebe Hetfield', 'Providence', 'Matt Eliot', 'Mason', 'Juan', 'Canton', 'Naraxa', 'Maurice', 'Sansu', 'Pnakotic Manuscripts', 'Wheeler', 'Nyarlathotep', 'Ibid', 'Barnabas', 'Jermyns', 'Arthur', 'Jack', 'Elam', 'Dagon Hall', 'Robert', 'Nevil', 'Philip Jermyn', 'Brightholmes', 'Harley Warren', 'Wade', \"Wade Jermyn's\", 'Hatheg', 'Reid', 'Dunwich', 'Abigail', 'Ruth', 'Lavinia Whateley', 'Col', 'Spring Glen', 'Cleis', 'Old Whateley', 'Willy', 'Albertus Magnus', 'Trithemius', 'Hermes Trismegistus', 'Raabe', 'Schneider', 'Wesley Corey', 'Alfred Jermyn', 'Calagurris', 'South Sea', 'Ipswich', 'Jaren', 'Harold Haardrada', 'Oslo', 'Roulets', 'East Greenwich', 'Narragansett Bay', 'Rhoby Harris', 'Elkanah', 'Upham', 'Hawkins', 'Curtis', 'Goldsmith', 'Mwanu', 'America', 'Gabinius', 'Stonehenge', 'Jan Martense', 'Wilcox', 'Resolved Babcock', 'Dagon', 'Mene', 'East', 'Perseus', 'Cassiopeia', 'Cepheus', 'Arthur Jermyn', 'God', 'Peters', 'Roulet', 'New England', 'Africa', 'Asia', 'the South Seas', 'Jew', 'India', 'Matthew Fenner', 'Oonai', 'Gaul', 'Clovis', 'Ann White', \"Ignatius Donnelly's\", 'Charles Fort', 'China', 'Greenland', 'Webb', 'Pope Leo', 'Augustan', 'Müller', 'Congo', \"Y'ha nthlei\", 'Obed Marsh', 'M. Verhaeren', 'Allan Halsey', 'Cydathria', 'Bnazic', 'Aira', 'Cthulhu', 'Libo', 'Job Ives', 'Gnai Kah', 'Señor', 'Spaniard', 'Zeb Whateley', 'George', 'Kanakys', 'Samuel Seaton', 'Ongas', \"Cotton Mather's\", 'Main', 'Seth', 'Sabaoth', 'Dunwich Village', 'Balbutius', 'Davis', 'Danvers', 'Boswell', 'Reason', 'Eric Moreland', 'Green', 'Archer', 'Carrington', 'Zadok Allen', 'Ptolemaism', 'Calvinism', 'Esteban', 'Baron', 'Saxon', 'Lindum', 'Roman Britain', 'Holland', 'Gustaf Johansen', 'Mesopotamia', 'William', 'Elihu Whipple', 'Celephaïs', 'Chesterfield', 'Rochester', 'Ibn Schacabao', 'Beginnin', \"George Corey's\", 'Ten Acre Meadow', 'Greenwich', 'Sphinx', 'Odysseus', 'Asellius', 'Trevor Towers', 'Athok', 'E. Lapham Peabody', 'James Williamson', 'Ohio', 'Father Neptune', 'Sydney', 'Pierre', \"Hangman's Brook\", 'Villon', 'Verlaine', 'Oscar Wilde', 'Drinen', 'Nephren Ka', 'Hadoth', 'Nile', 'Olathoë', 'Zobna', 'Gnophkehs', 'Curtis Whateley', 'Jefferson', 'Whitman', 'Douglas', 'Zadok', 'Sefton', 'Warren', 'Dho', 'Eliot', 'Gregory', 'Vascones', 'Pompelo', 'Cyclopean', 'Toledo', 'Sheet', 'Thalarion', 'Fiji', 'Maria Robbins', 'St. John', 'Maria', 'Lady Jermyn', 'P. Scribonius', 'Rue', 'Lord Northam', 'Goodman Simpson', 'Squire', 'Morgan', 'Brava Portuguese', 'Milwaukee', 'Charles', 'the Middle Ages', 'Adam Smith', 'Percy', 'Edw', 'April nd', 'de Sitter', 'Copp', 'Hellas', 'Yule', 'Zar', 'the City of a', 'Noton', 'Jonathan Gifford', 'Squire Sawyer Whateley', 'Nova Persei', 'Garrett P. Serviss', 'Anderson', 'Edinburgh', 'Burney', 'Malone', 'Marshes', 'Waites', 'Attica', 'Symbolists', 'Stethelos', 'Menes', 'Keziah Mason', 'Kaliri', 'Asaph Sawyer', 'Thurber', \"Wilbur Whateley's\", 'Seth Bishop', 'the Providence River', \"Von Schweinkopf's\", 'Italien', 'Ataulf', 'Placentia', 'Von Schweinkopf', 'Gibbon', 'Boethius', 'Tully', 'the Valley of', 'Mamie', 'Zechariah', 'Pleiades', 'Quick', 'Central Hill', \"St. Mary's\", 'Chris', 'Ai', 'Hayti', 'Parker', 'Tyché', 'Holmes', 'Lowell', 'Longfellow Lie', 'Mount Auburn', 'Congregationalists', 'Arthur Conan Doyle', 'Fuseli', 'John', 'Collins', 'Kingsporter', 'Schmidt', 'Zimmer', 'Marsh', 'France', 'Bob Wig', 'Powder', 'Mather', 'Moorish', 'Cleveland', 'D. Johns Hopkins', 'Donovan', 'Guerrera', 'Cerenerian Sea', 'Paterson', 'Newburyport', 'Arthur Machen', 'the Saouth Sea', 'Silas Bishop', 'Syria', 'Ægyptus', 'Etruria', 'Diana Aricina', 'Lacus Nemorensis', 'Enoch', 'New Hampshire', 'Caude', 'Syracuse', 'Joel Manton', 'El', 'Pete Stowacki', 'Bunsen', 'Hooper', 'Logick', 'Kaliris', 'Hydes', 'South Street', 'Nariel', 'the Middle Ocean', 'Implan', 'Partholan', 'Elmer Frye', 'Robert Jermyn', 'Wade Jermyn', 'Gainesville', 'Nargis Hei', 'Disorder', 'Surrey', 'Nith', 'Kranon', 'Shang', 'Wearied', 'Eric Moreland Clapham Lee', 'St. Eloi', 'David Garrick', 'Messieurs Tho', 'Updike', 'Ronald Hill', 'Walakea', 'Clare Market', 'Levite', 'the Tanarian Hills', 'Mamie Bishop', 'Abijah Hoadley', 'Buzrael', 'Beelzebub', 'Ground', 'Walter Gilman', 'Edgar Allan', 'H.\" The face', 'Etienne', 'Paul', 'Pict', 'Dane', 'Norman', 'Edward Third', 'Northam', 'the Black Man', 'Nahab', \"Aunt Marthy's\", 'Aunt Marthy', 'Pope', 'Twelvemonth', \"Old Bugs'\", 'Tremont', 'Beacon', 'East Indians', 'Bacchanals', 'Whipple', 'Michel Mauvais', 'Carrington Harris', 'Sam Johnson', 'Hiram Gilman', \"Arthur Jermyn's\", 'Selina Frye', 'Randolph Carter', 'Ellery', 'Skai', 'Ilek Vad', 'Tartarus', 'Sona', 'Bishop', 'Brook', 'Crookes', 'Exeter', 'Jermyn House', 'Jacques Roulet', 'Paris', 'Nemed', 'Scythia', 'Salem Gaol', 'Mausolus', 'Essex County', 'Pacific', 'Hsan', 'Joe Minot', 'Bosworth', 'England', 'Falona', 'Father Iwanicki', 'Ann', 'Gentlewoman', 'Kent', 'Victoria Embankment', 'Inquiries', 'Thar', 'Briden', 'Edmund Carter', \"George Birch's\", 'Nir', 'Y.M.C.A.', 'Martenses', 'Hope', 'Wise', 'Pequots', 'Narragansetts', 'Petrus', 'Lombardic', 'New Netherland', 'Hannah Bowen', 'Kingsport Head', 'Cape Ann', 'West Street', 'Barzai the Wise', 'Git', 'Bates', 'Señor el', 'Louis', 'Armands', 'Blue', 'Poseidonis', 'Illinois', 'Orne', 'Anastasia Wolejko', 'George Bennett', 'William Tobey', 'Blandot', 'Salem Zerubbabel', 'Sawyer', 'Knight', 'Eleanor Wing', 'A.M.', 'Sabbaths', 'Gorges', 'Milton', 'Beauclerk', 'Langton', 'J. Reynolds', 'Painter', 'Nugent', 'John Hawkins', 'Anthony Chamier', 'Thomas Olney', 'West Fourteenth Street', 'John Raymond Legrasse', 'Latin', 'Anglo Saxon', 'Neptune', 'Central Asia', 'Sarkis', 'Kadiphonek', 'San Francisco', 'Greenough Lane', 'Angelo Ricci', 'Joe Czanek', 'Manuel Silva', 'California', 'Henri the Comte', 'Gad', 'John Throckmorton', 'Alice', 'Mankind', 'Banof', 'Alos', 'Ireland', 'Ardois Bonnot', 'Stubbs', 'Zerubbabel', \"St. Ibid's\", 'Disruptions', 'Raymond', 'De Langlade', 'Lake Winnebago', 'Lake Mendota', 'the Menominee River', 'Lake Michigan', 'Gallows Hill', 'Peck Valley', 'Haverhill', 'Pole Star', 'Squire Brewster', 'Alhazred', 'Norway', 'Rhinelander', 'Gerrit', 'Europe', 'Bulwer', 'Parks', 'Lydia', 'Young Galpin', 'Basil Elton', 'Egeberg', 'Warren Warren Answer', \"Herbert West's\", 'Augustus', 'Hei Hei', 'Eliot Street', 'Wizard Whateley', \"Keziah Mason's\", 'Maius', 'Henri', 'Oxonian Spanish', 'New Spain', 'Paul Roulet', \"Cha'ncey\", 'Mauvais', 'Passon Clark', 'Narthos', 'Xari', 'Sinara', 'Alfred', 'Gifford', 'Guinea', 'B. M.', 'Romnod', 'Williamson', 'Mynheer Martense', 'Greece', 'William Briden', 'South America', 'Constantinopolis', 'Justinianus', 'Justinus', 'Onesiphorus', 'Karl Trever', 'Gerrit Martense', \"Arthur Machen's\", 'Rough', 'Adams', \"West's\", 'Keziah Brown Jenkin', \"W. Scott Elliot's\", 'Murray', 'Western Europe', 'Randolph', 'Ballylough', 'Stafford', 'Eleazar Durfee', 'Plum Island', 'Glad', 'New Orleans', 'April Gilman', 'Atlantic', 'Lieut', 'Thomas St.', 'R.I.', 'John R. Legrasse', 'Bienville St.', 'La.', 'Yorkshire', 'Edwin', 'Asaph', 'Aiolos', 'Neb', 'Nitokris', 'Green Lane', 'Gallant LEEDS', 'Lineage', 'Maid', 'Wit', \"James Rhoades'\", 'Clark', 'Armington', 'Crawford Tillinghast', \"Harvard wun't\", 'S. Latitude', 'W. Longitude', \"R'lyeh\", 'Mary Czanek', 'Mary', 'West India', 'Belisarius', 'Sargent', 'Arabia', 'Irem', 'the City of Pillars', 'Kadath', \"Paul Choynski's\", \"D'Iberville\", 'La Salle', 'Henry Wheeler', 'Manuxet', 'Laocoön', 'Waldron', 'Mount Maenalus', 'Arcadia', 'Rhoby Dexter', 'Hypnos', 'Garrick', 'Matt', 'Dee', 'Seaman Zimmer', \"Carrington Harris's\", 'East Indian', 'Indo Chinese', \"Esdras Martin's\", 'Malay Pride', 'Azathoth', 'Hammond', 'Neanderthal Man', 'Satan Heh', 'Sally Sawyer', \"Seth Bishop's\", 'Chauncey', 'Addison', 'Swift', 'Friend', 'Killin', 'Ladislas Wolejko', 'Pompelona', 'Unhand', \"Ol' Squar\", \"Randolph Carter's\", 'North End', 'Notre Dame', 'Pavia', 'Desiderius', 'Hiram', 'Jacques Caboche', 'Hans Zimmerman', 'East Providence', 'Houghton', 'Yew', 'Akariel', 'Maumee', 'Devonshire', 'Gregorian Stile', 'Glass', 'Satanism', 'Germany', 'Oxford', 'Delphinus', 'Dutee Harris', \"Sumner's Pond\", 'Italy', 'Classe', 'King Autharis', 'Pete Schultz', 'Wisconsin', 'Darius Peck', 'Paul Choynski', 'Landlord Dombrowski', 'Dexter', 'North Main', 'Canonchet', 'Connecticut', 'Ibn Ghazi', 'Hill', 'Vitiges', 'Ibidus', 'Fenton', 'Arabiscus', 'Cappadocia', 'Luther', 'Sidney S. Rider', 'Thomas W. Bicknell', 'autumn Carter', 'Joseph D. Galvez', 'Fredericksburg', 'Wallace', 'Corona Borealis', 'Oaths', 'Hallowmass', 'Robert Leavitt', 'St. Louis', 'Peabody', 'Benjamin Orne', 'Lefferts Corners', 'Anacreontic', 'George Gammell Angell', 'Emeritus', 'Angarola', 'Rodriguez', 'Waite', 'Thran', 'Kled', 'Richard Upton Pickman', 'Pentelicus', \"Matt Fenner's\", 'Nath Horthath', 'Lathi', 'Jehovah Stubbs', \"Hannah Bixby's\", 'Capwell', 'Helvia', 'Scipio', 'Dorieb', 'Kiel', 'Victory', 'Liverpool', 'States', 'Hoadley', 'Springfield', 'Paradise Lost', 'Good Friday', 'Congregational', 'Hathorne', 'Heh', 'Great Britain', 'Greene', 'Emma of', 'Warren Rice', 'Francis Morgan', 'Brilliancy', 'Discourse', 'Barons', 'Counts', \"Gerrit Martense's\", 'Preserved Smith', 'Chad Hopkins', \"Rhoby Harris's\", 'Claudius Claudianus', 'Theodatus', 'Theodoric', 'Mowry', 'Bethlehem', 'Babylon', 'Memphis', 'Anacreon', 'Mehitabel', 'Seamen Bohm', 'Otaheité', 'Ponape', 'Easter Island', 'Egypt', 'Tsan Chan', 'Crusader', 'Elizabeth', 'Littlewit', 'Æmilianus', 'Bêtenoir', 'Magnus Furius Camillus']\n",
      "\n",
      "MWS ['Raymond', 'Constantinople', 'William', 'Cornelius Agrippa', 'Albertus Magnus', 'Paracelsus', 'Adrian', 'Geneva', 'Scotland', 'Justine', 'Cumberland', 'Greece', 'Perdita', 'Alfred', 'London', 'Bolter', 'Safie', 'Vienna', 'Elizabeth', 'Lord Raymond', 'Windsor', 'Kirwin', 'Drury Lane Theatre', 'Pandemonium', 'England', 'Greek', 'Roman', 'Fletcher', 'Perth', 'Dunkeld', 'David', 'Idris', 'Mount Athos', 'Pale', 'Elizabeth Lavenza', 'Joy', 'Macedonia', 'Calderon de la Barca', 'Asia', 'Oman', 'M. Clerval', 'Transformed', 'Belfast', 'Clerval', 'Evadne', 'Raymond men of', 'Belrive', 'Kishan', 'Rodosto', 'Mont Saleve', 'HALF England', 'Chamounix', 'Earl', 'Mathilda', 'Raymond\" I', 'Walton', 'Italy', 'Tiber', 'Arno', 'Henry', 'Woodville', 'Ingolstadt', 'Aye', 'Makri', 'Bracknel', 'Thou', 'North', 'Baiae', 'Victor', 'Europe', 'Africa', 'America', 'Atlantic', 'Philadelphia', 'Justine Moritz Poor', 'Plutarch', 'Margaret', 'Hamburgh', 'Russia', 'Paris', 'Jura', 'Lazzeroni', 'Montalegre', 'Mont Blanc', 'Ernest', 'Providence', 'Ulswater', 'M. Krempe', 'M. Waldman', 'Felix', 'Timon', 'Don Giovanni', 'Newfoundland', 'Roncesvalles', 'Athens', 'Britain', 'Martha', 'Clara', 'Agatha', 'Janisaries', 'Switzerland', 'Rome', 'Nature', 'Edinburgh', 'Arthur', \"St. Bernard's\", 'France', \"St. Stephen's\", 'Persia', 'India', 'Universal Mother', 'Louis Manoir', 'Papa', 'Krempe', 'De Lacey', 'Diana', 'Homer', 'Shakespeare', 'Pelissier', 'Medean', 'Leghorn', 'Turkey', 'Germany', 'Evelyn', 'Earth', 'Nourjahad', 'Charles I. had', 'Thrace', 'Ernest He', 'Constantine', 'Turk', 'Eleusis', 'Datchet', 'Sabines', 'Drance', 'Wit', 'Englefield Green', 'Eton', 'Whence', 'Oxford', 'Elinor', 'Naples', 'Latona', 'Fairy', 'Little Clara', 'Diotima', 'Athos', 'Sweet Waters', 'Lyons', 'Mont Cenis', 'Sick', 'the North Sea', 'Marmora', 'Portsmouth', 'Lady Protectress', 'Una', 'Love', 'East', 'Morning', 'Richmond', 'Yorkshire', 'Friend', 'Dante', 'Hope', 'Verney', 'Alexander', 'Mahmoud', 'Walton Seek', 'Syria', 'Adonis', 'Raymond Athens', 'Angel', 'Hyde Park', 'Constance', 'Daniel Nugent', 'China', 'Mediterranean', 'Lausanne', \"Lord Byron's\", 'Fourth Canto', 'Childe Harolde', 'Lay', 'Alp', 'Thonon', 'Karazza', 'Andes', 'Lord Bacon', 'Valley', 'Lucerne', 'Earl of', 'Windsor Castle', 'Egypt', 'Muhammadan', 'Esq', 'Semele', 'Juliet', 'Protectorship', 'Muhammad', 'Loch Lomond', 'Stamboul', 'Raymond\"', 'North America', 'Raphael', 'Correggio', 'Claude', 'Morea', 'Ryland', 'Georgio Palli', 'Werter', 'Beaufort', 'Caesar', 'Mexico', 'Peru', 'Allah', \"St. Paul's\", 'Porgi', 'Almaviva', 'Farewell', 'Aegean', 'Lord Protector', 'Protector', 'Hampden', 'Justine Moritz', 'Ireland', 'Coupar', \"St. Andrew's\", 'Austria', 'Isaac Newton', 'Madame Moritz', 'Satan', 'Chapter', 'Urania', 'Sampson', 'Silence', 'Volney', 'Rotterdam', 'Marseilles', 'Eumenides', 'Oedipus', 'Florence', 'Pisa', 'Rhine', 'Holborn Hill', 'Alps', 'Thessaly', 'Hymettus', 'Sun', 'Sweet', 'Trembling', \"Lord Raymond's\", 'Grace', 'Merrival', 'Godlike', 'Adam', 'Wordsworth', 'Lionel Verney', 'Henry Clerval', 'Laudanum', 'Expire', 'Elysium', 'Milan', 'Tilbury Fort', 'Gravesend', 'Woolwich', 'Greenwich', 'Quito', 'Minotaur', 'Mamma', 'Vathek', 'God', 'Petersburgh', 'Lady Idris', 'Villa Lavenza', 'South', 'Plainpalais', 'earth', 'Hungary', 'Secheron', 'Dartford', 'Poor William', 'Milton', 'Pope', 'Cowper', 'Livy', 'Rollin', 'De Foe', 'Browne', 'Macduff', 'Paradise', 'morrow', 'Alphonse Frankenstein', 'Cincinnatus', 'The Vicar of Wakefield', 'Hindostan', 'Abra', 'Liverpool', 'Bristol', 'Manchester', 'Robert Walton Letter', 'Saville', 'Westminster Abbey', 'Stephen', 'Loch Katrine', 'Killarney', 'Amalthea', 'Mithridates', 'Remorse', 'Proteus', 'Piraeus', 'the Black Sea', 'Castle', 'Sorrow', 'Lordship', 'Besought', 'Ispahan', 'Pekin', 'Delhi', 'Plato', 'Berkeley', 'Spencer', 'Guyon', 'Celt', 'Anchises', 'Venus', 'Reason', 'Sibyl', \"Uncle Thomas'\", 'Strasbourg', 'Frankenstein', 'Nathelesse', 'Salt Hill', 'Rosse', 'Myrrha', 'Louisa Biron', 'Little Marlow', 'Uncle', 'Thorough', 'Gulliver', 'Napoleon', 'Borghese', 'Fantasia', 'Greeks', 'Falkland', 'Goring', 'M. Duvillard', 'Spain', 'Truly', 'Archangel', 'Adrian;', 'Virgil', 'Daniel', 'Manoir', 'Havre de Grace', 'Antiparos', 'Saleve', 'Juras', 'Chaldee', 'Cologne', 'Paul', 'Arveiron', 'Nessus', 'the Calamity of Homer', 'Good God', 'Asiatics', \"F Spencer's\", 'Livadia', 'Attica', 'Great Britain', 'Norwich', 'Octavius Caesar', 'Mark Antony', 'St. Albans', 'Ond', 'Elysian Fields', 'Avernus', 'Argyropylo', 'Raymond to the office of Protector', 'Burke', 'Agrippa', 'Miranda', 'Prospero', 'George', 'Montanvert', 'Rosalind', 'Comus', 'Shakspeare', 'Mansfield', 'John Melbourne', 'St. Sophia', 'Mozart', 'Ulysses', 'Malcolm', 'Greenland', 'Luton', 'Luna', 'Servox', 'Reuss', 'New Holland', \"Van Diemen's\", 'Indus', 'Derby', 'Ancona']\n",
      "\n"
     ]
    }
   ],
   "source": [
    "for key, val in ner.items():\n",
    "    print(key, val)\n",
    "    print(\"\")"
   ]
  },
  {
   "cell_type": "code",
   "execution_count": 17,
   "metadata": {
    "collapsed": true
   },
   "outputs": [],
   "source": [
    "# only keep unique persons, locations for each Author"
   ]
  },
  {
   "cell_type": "code",
   "execution_count": 18,
   "metadata": {
    "collapsed": true
   },
   "outputs": [],
   "source": [
    "ner_EAP = []\n",
    "for item in ner['EAP']:\n",
    "    if item not in ner['MWS']+ner['HPL']:\n",
    "        ner_EAP.append(item)"
   ]
  },
  {
   "cell_type": "code",
   "execution_count": 19,
   "metadata": {
    "collapsed": true
   },
   "outputs": [],
   "source": [
    "ner_MWS = []\n",
    "for item in ner['MWS']:\n",
    "    if item not in ner['EAP']+ner['HPL']:\n",
    "        ner_MWS.append(item)"
   ]
  },
  {
   "cell_type": "code",
   "execution_count": 20,
   "metadata": {
    "collapsed": true
   },
   "outputs": [],
   "source": [
    "ner_HPL = []\n",
    "for item in ner['HPL']:\n",
    "    if item not in ner['EAP']+ner['MWS']:\n",
    "        ner_HPL.append(item)"
   ]
  },
  {
   "cell_type": "code",
   "execution_count": 21,
   "metadata": {},
   "outputs": [
    {
     "name": "stdout",
     "output_type": "stream",
     "text": [
      "897 796\n"
     ]
    }
   ],
   "source": [
    "print(len(ner['EAP']), len(ner_EAP))"
   ]
  },
  {
   "cell_type": "code",
   "execution_count": 22,
   "metadata": {},
   "outputs": [
    {
     "name": "stdout",
     "output_type": "stream",
     "text": [
      "402 305\n"
     ]
    }
   ],
   "source": [
    "print(len(ner['MWS']), len(ner_MWS))"
   ]
  },
  {
   "cell_type": "code",
   "execution_count": 23,
   "metadata": {},
   "outputs": [
    {
     "name": "stdout",
     "output_type": "stream",
     "text": [
      "982 898\n"
     ]
    }
   ],
   "source": [
    "print(len(ner['HPL']), len(ner_HPL))"
   ]
  },
  {
   "cell_type": "code",
   "execution_count": 24,
   "metadata": {
    "collapsed": true
   },
   "outputs": [],
   "source": [
    "test_list = ['Epicurus', 'Underduk', 'This string is not in list']"
   ]
  },
  {
   "cell_type": "code",
   "execution_count": 25,
   "metadata": {},
   "outputs": [
    {
     "data": {
      "text/plain": [
       "['Epicurus', 'Underduk']"
      ]
     },
     "execution_count": 25,
     "metadata": {},
     "output_type": "execute_result"
    }
   ],
   "source": [
    "list(set(test_list).intersection(ner_EAP))"
   ]
  },
  {
   "cell_type": "code",
   "execution_count": 26,
   "metadata": {
    "collapsed": true
   },
   "outputs": [],
   "source": [
    "if any(item in test for item in ner_EAP):\n",
    "    print(test)"
   ]
  },
  {
   "cell_type": "markdown",
   "metadata": {},
   "source": [
    "# Testing for author-specific Named Entities in the Test data"
   ]
  },
  {
   "cell_type": "code",
   "execution_count": 27,
   "metadata": {
    "collapsed": true
   },
   "outputs": [],
   "source": [
    "EAP = []\n",
    "HPL = []\n",
    "MWS = []"
   ]
  },
  {
   "cell_type": "code",
   "execution_count": 28,
   "metadata": {
    "collapsed": true
   },
   "outputs": [],
   "source": [
    "# loop over text and associated authors\n",
    "for text in test.text:\n",
    "    \n",
    "    EAP_ner_counter = 0\n",
    "    HPL_ner_counter = 0\n",
    "    MWS_ner_counter = 0\n",
    "    \n",
    "    doc = nlp(text) # spacy pipeline\n",
    "    if doc.ents:    # check for entities\n",
    "        # print(doc.ents)\n",
    "        for ent in doc.ents:\n",
    "            if ent.text in ner_EAP:\n",
    "                # print(\"EAP\")\n",
    "                # print(ent.text)\n",
    "                # print(text)\n",
    "                EAP_ner_counter += 1\n",
    "            elif ent.text in ner_HPL:\n",
    "                # print(\"HPL\")\n",
    "                # print(ent.text)\n",
    "                # print(text)\n",
    "                HPL_ner_counter += 1\n",
    "            elif ent.text in ner_MWS:\n",
    "                # print(\"MWS\")\n",
    "                # print(ent.text)\n",
    "                # print(text)\n",
    "                MWS_ner_counter += 1\n",
    "            else:\n",
    "                # Text contains unknown entities\n",
    "                continue\n",
    "    # print(\"EAP\", EAP_ner_counter)\n",
    "    # print(\"HPL\", HPL_ner_counter)\n",
    "    # print(\"MWS\", MWS_ner_counter)\n",
    "    EAP.append(EAP_ner_counter)\n",
    "    HPL.append(HPL_ner_counter)\n",
    "    MWS.append(MWS_ner_counter)"
   ]
  },
  {
   "cell_type": "code",
   "execution_count": 29,
   "metadata": {
    "collapsed": true
   },
   "outputs": [],
   "source": [
    "ner_columns = [EAP, HPL, MWS]"
   ]
  },
  {
   "cell_type": "code",
   "execution_count": 30,
   "metadata": {
    "collapsed": true
   },
   "outputs": [],
   "source": [
    "ner_df = pd.DataFrame({\"EAP\": EAP, \"HPL\": HPL, \"MWS\": MWS})"
   ]
  },
  {
   "cell_type": "code",
   "execution_count": 31,
   "metadata": {},
   "outputs": [
    {
     "data": {
      "text/html": [
       "<div>\n",
       "<style>\n",
       "    .dataframe thead tr:only-child th {\n",
       "        text-align: right;\n",
       "    }\n",
       "\n",
       "    .dataframe thead th {\n",
       "        text-align: left;\n",
       "    }\n",
       "\n",
       "    .dataframe tbody tr th {\n",
       "        vertical-align: top;\n",
       "    }\n",
       "</style>\n",
       "<table border=\"1\" class=\"dataframe\">\n",
       "  <thead>\n",
       "    <tr style=\"text-align: right;\">\n",
       "      <th></th>\n",
       "      <th>id</th>\n",
       "      <th>text</th>\n",
       "      <th>text_length</th>\n",
       "      <th>EAP</th>\n",
       "      <th>HPL</th>\n",
       "      <th>MWS</th>\n",
       "    </tr>\n",
       "  </thead>\n",
       "  <tbody>\n",
       "    <tr>\n",
       "      <th>0</th>\n",
       "      <td>id02310</td>\n",
       "      <td>Still, as I urged our leaving Ireland with such inquietude and impatience, my father thought it best to yield.</td>\n",
       "      <td>110</td>\n",
       "      <td>0</td>\n",
       "      <td>0</td>\n",
       "      <td>0</td>\n",
       "    </tr>\n",
       "    <tr>\n",
       "      <th>1</th>\n",
       "      <td>id24541</td>\n",
       "      <td>If a fire wanted fanning, it could readily be fanned with a newspaper, and as the government grew weaker, I have no doubt that leather and iron acquired durability in proportion, for, in a very short time, there was not a pair of bellows in all Rotterdam that ever stood in need of a stitch or required the assistance of a hammer.</td>\n",
       "      <td>330</td>\n",
       "      <td>0</td>\n",
       "      <td>0</td>\n",
       "      <td>0</td>\n",
       "    </tr>\n",
       "    <tr>\n",
       "      <th>2</th>\n",
       "      <td>id00134</td>\n",
       "      <td>And when they had broken down the frail door they found only this: two cleanly picked human skeletons on the earthen floor, and a number of singular beetles crawling in the shadowy corners.</td>\n",
       "      <td>189</td>\n",
       "      <td>0</td>\n",
       "      <td>0</td>\n",
       "      <td>0</td>\n",
       "    </tr>\n",
       "    <tr>\n",
       "      <th>3</th>\n",
       "      <td>id27757</td>\n",
       "      <td>While I was thinking how I should possibly manage without them, one actually tumbled out of my head, and, rolling down the steep side of the steeple, lodged in the rain gutter which ran along the eaves of the main building.</td>\n",
       "      <td>223</td>\n",
       "      <td>0</td>\n",
       "      <td>0</td>\n",
       "      <td>0</td>\n",
       "    </tr>\n",
       "    <tr>\n",
       "      <th>4</th>\n",
       "      <td>id04081</td>\n",
       "      <td>I am not sure to what limit his knowledge may extend.</td>\n",
       "      <td>53</td>\n",
       "      <td>0</td>\n",
       "      <td>0</td>\n",
       "      <td>0</td>\n",
       "    </tr>\n",
       "    <tr>\n",
       "      <th>5</th>\n",
       "      <td>id27337</td>\n",
       "      <td>\"The thick and peculiar mist, or smoke, which distinguishes the Indian Summer, and which now hung heavily over all objects, served, no doubt, to deepen the vague impressions which these objects created.</td>\n",
       "      <td>202</td>\n",
       "      <td>0</td>\n",
       "      <td>0</td>\n",
       "      <td>0</td>\n",
       "    </tr>\n",
       "    <tr>\n",
       "      <th>6</th>\n",
       "      <td>id24265</td>\n",
       "      <td>That which is not matter, is not at all unless qualities are things.</td>\n",
       "      <td>68</td>\n",
       "      <td>0</td>\n",
       "      <td>0</td>\n",
       "      <td>0</td>\n",
       "    </tr>\n",
       "    <tr>\n",
       "      <th>7</th>\n",
       "      <td>id25917</td>\n",
       "      <td>I sought for repose although I did not hope for forgetfulness; I knew I should be pursued by dreams, but did not dread the frightful one that I really had.</td>\n",
       "      <td>155</td>\n",
       "      <td>0</td>\n",
       "      <td>0</td>\n",
       "      <td>0</td>\n",
       "    </tr>\n",
       "    <tr>\n",
       "      <th>8</th>\n",
       "      <td>id04951</td>\n",
       "      <td>Upon the fourth day of the assassination, a party of the police came, very unexpectedly, into the house, and proceeded again to make rigorous investigation of the premises.</td>\n",
       "      <td>172</td>\n",
       "      <td>0</td>\n",
       "      <td>0</td>\n",
       "      <td>0</td>\n",
       "    </tr>\n",
       "    <tr>\n",
       "      <th>9</th>\n",
       "      <td>id14549</td>\n",
       "      <td>\"The tone metaphysical is also a good one.</td>\n",
       "      <td>42</td>\n",
       "      <td>0</td>\n",
       "      <td>0</td>\n",
       "      <td>0</td>\n",
       "    </tr>\n",
       "    <tr>\n",
       "      <th>10</th>\n",
       "      <td>id22505</td>\n",
       "      <td>These, the offspring of a later period, stood erect and seemed ready to advance fearlessly into coming time; while those out worn stragglers, blasted and broke, clung to each other, their weak boughs sighing as the wind buffetted them a weather beaten crew.</td>\n",
       "      <td>257</td>\n",
       "      <td>0</td>\n",
       "      <td>0</td>\n",
       "      <td>0</td>\n",
       "    </tr>\n",
       "    <tr>\n",
       "      <th>11</th>\n",
       "      <td>id24002</td>\n",
       "      <td>What kept him from going with her and Brown Jenkin and the other to the throne of Chaos where the thin flutes pipe mindlessly was the fact that he had seen the name \"Azathoth\" in the Necronomicon, and knew it stood for a primal evil too horrible for description.</td>\n",
       "      <td>262</td>\n",
       "      <td>0</td>\n",
       "      <td>2</td>\n",
       "      <td>0</td>\n",
       "    </tr>\n",
       "    <tr>\n",
       "      <th>12</th>\n",
       "      <td>id18982</td>\n",
       "      <td>Persuading the widow that my connexion with her husband's \"technical matters\" was sufficient to entitle me to his manuscript, I bore the document away and began to read it on the London boat.</td>\n",
       "      <td>191</td>\n",
       "      <td>0</td>\n",
       "      <td>0</td>\n",
       "      <td>0</td>\n",
       "    </tr>\n",
       "    <tr>\n",
       "      <th>13</th>\n",
       "      <td>id15181</td>\n",
       "      <td>When I arose trembling, I know not how much later, I staggered into the house and made shocking obeisances before the enshrined amulet of green jade.</td>\n",
       "      <td>149</td>\n",
       "      <td>0</td>\n",
       "      <td>0</td>\n",
       "      <td>0</td>\n",
       "    </tr>\n",
       "    <tr>\n",
       "      <th>14</th>\n",
       "      <td>id21888</td>\n",
       "      <td>And by the shores of the river Zaire there is neither quiet nor silence.</td>\n",
       "      <td>72</td>\n",
       "      <td>1</td>\n",
       "      <td>0</td>\n",
       "      <td>0</td>\n",
       "    </tr>\n",
       "    <tr>\n",
       "      <th>15</th>\n",
       "      <td>id12035</td>\n",
       "      <td>Idris heard of her mother's return with pleasure.</td>\n",
       "      <td>49</td>\n",
       "      <td>0</td>\n",
       "      <td>0</td>\n",
       "      <td>0</td>\n",
       "    </tr>\n",
       "    <tr>\n",
       "      <th>16</th>\n",
       "      <td>id17991</td>\n",
       "      <td>I say this proudly, but with tears in my eyes for the firm proved themselves the basest of ingrates.</td>\n",
       "      <td>100</td>\n",
       "      <td>0</td>\n",
       "      <td>0</td>\n",
       "      <td>0</td>\n",
       "    </tr>\n",
       "    <tr>\n",
       "      <th>17</th>\n",
       "      <td>id10707</td>\n",
       "      <td>But let us glance at the treatise Ah \"Ability or inability to conceive,\" says Mr. Mill, very properly, \"is in no case to be received as a criterion of axiomatic truth.\"</td>\n",
       "      <td>168</td>\n",
       "      <td>1</td>\n",
       "      <td>0</td>\n",
       "      <td>0</td>\n",
       "    </tr>\n",
       "    <tr>\n",
       "      <th>18</th>\n",
       "      <td>id07101</td>\n",
       "      <td>\"What a place is this that you inhabit, my son\" said he, looking mournfully at the barred windows and wretched appearance of the room.</td>\n",
       "      <td>134</td>\n",
       "      <td>0</td>\n",
       "      <td>0</td>\n",
       "      <td>0</td>\n",
       "    </tr>\n",
       "    <tr>\n",
       "      <th>19</th>\n",
       "      <td>id00345</td>\n",
       "      <td>At his nod I took one of the latter and seated myself upon an aged, discoloured gravestone close by the newly uncovered aperture.</td>\n",
       "      <td>129</td>\n",
       "      <td>0</td>\n",
       "      <td>0</td>\n",
       "      <td>0</td>\n",
       "    </tr>\n",
       "    <tr>\n",
       "      <th>20</th>\n",
       "      <td>id05912</td>\n",
       "      <td>No one doubted now that the mystery of this murder would be immediately brought to light.</td>\n",
       "      <td>89</td>\n",
       "      <td>0</td>\n",
       "      <td>0</td>\n",
       "      <td>0</td>\n",
       "    </tr>\n",
       "    <tr>\n",
       "      <th>21</th>\n",
       "      <td>id13443</td>\n",
       "      <td>But although, in one or two instances, arrests were made which promised elucidation, yet nothing was elicited which could implicate the parties suspected; and they were discharged forthwith.</td>\n",
       "      <td>190</td>\n",
       "      <td>0</td>\n",
       "      <td>0</td>\n",
       "      <td>0</td>\n",
       "    </tr>\n",
       "    <tr>\n",
       "      <th>22</th>\n",
       "      <td>id09248</td>\n",
       "      <td>Festivity, and even libertinism, became the order of the day.</td>\n",
       "      <td>61</td>\n",
       "      <td>0</td>\n",
       "      <td>0</td>\n",
       "      <td>0</td>\n",
       "    </tr>\n",
       "    <tr>\n",
       "      <th>23</th>\n",
       "      <td>id17542</td>\n",
       "      <td>For I am Iranon, who was a Prince in Aira.\"</td>\n",
       "      <td>43</td>\n",
       "      <td>0</td>\n",
       "      <td>2</td>\n",
       "      <td>0</td>\n",
       "    </tr>\n",
       "    <tr>\n",
       "      <th>24</th>\n",
       "      <td>id06995</td>\n",
       "      <td>\"Gaze not on the star, dear, generous friend,\" I cried, \"read not love in its trembling rays; look not upon distant worlds; speak not of the mere imagination of a sentiment.</td>\n",
       "      <td>173</td>\n",
       "      <td>0</td>\n",
       "      <td>0</td>\n",
       "      <td>0</td>\n",
       "    </tr>\n",
       "    <tr>\n",
       "      <th>25</th>\n",
       "      <td>id25159</td>\n",
       "      <td>I am serious in asserting that my breath was entirely gone.</td>\n",
       "      <td>59</td>\n",
       "      <td>0</td>\n",
       "      <td>0</td>\n",
       "      <td>0</td>\n",
       "    </tr>\n",
       "    <tr>\n",
       "      <th>26</th>\n",
       "      <td>id25729</td>\n",
       "      <td>The thing will haunt me, for who can say the extermination is complete, and that analogous phenomena do not exist all over the world?</td>\n",
       "      <td>133</td>\n",
       "      <td>0</td>\n",
       "      <td>0</td>\n",
       "      <td>0</td>\n",
       "    </tr>\n",
       "    <tr>\n",
       "      <th>27</th>\n",
       "      <td>id26949</td>\n",
       "      <td>Before each of the party lay a portion of a skull, which was used as a drinking cup.</td>\n",
       "      <td>84</td>\n",
       "      <td>0</td>\n",
       "      <td>0</td>\n",
       "      <td>0</td>\n",
       "    </tr>\n",
       "    <tr>\n",
       "      <th>28</th>\n",
       "      <td>id27191</td>\n",
       "      <td>If she had been bred in that sphere of life to which by inheritance the delicate framework of her mind and person was adapted, she would have been the object almost of adoration, for her virtues were as eminent as her defects.</td>\n",
       "      <td>226</td>\n",
       "      <td>0</td>\n",
       "      <td>0</td>\n",
       "      <td>0</td>\n",
       "    </tr>\n",
       "    <tr>\n",
       "      <th>29</th>\n",
       "      <td>id07668</td>\n",
       "      <td>Or, if this mode of speech offend you, let me say, that my mother, the proud queen, instilled early into me a love of distinction, and all that, if the weakness of my physical nature and my peculiar opinions had not prevented such a design, might have made me long since struggle for the lost inheritance of my race.</td>\n",
       "      <td>316</td>\n",
       "      <td>0</td>\n",
       "      <td>0</td>\n",
       "      <td>0</td>\n",
       "    </tr>\n",
       "    <tr>\n",
       "      <th>...</th>\n",
       "      <td>...</td>\n",
       "      <td>...</td>\n",
       "      <td>...</td>\n",
       "      <td>...</td>\n",
       "      <td>...</td>\n",
       "      <td>...</td>\n",
       "    </tr>\n",
       "    <tr>\n",
       "      <th>8362</th>\n",
       "      <td>id22510</td>\n",
       "      <td>Then again he distracted my thoughts from my sorrow by comparing it with his despair when he lost my mother.</td>\n",
       "      <td>108</td>\n",
       "      <td>0</td>\n",
       "      <td>0</td>\n",
       "      <td>0</td>\n",
       "    </tr>\n",
       "    <tr>\n",
       "      <th>8363</th>\n",
       "      <td>id19204</td>\n",
       "      <td>Upon the whole, whether happily or unhappily, he was thrown back, in very great measure, upon self.</td>\n",
       "      <td>99</td>\n",
       "      <td>0</td>\n",
       "      <td>0</td>\n",
       "      <td>0</td>\n",
       "    </tr>\n",
       "    <tr>\n",
       "      <th>8364</th>\n",
       "      <td>id05758</td>\n",
       "      <td>He was not allowed to finish this speech in tranquillity.</td>\n",
       "      <td>57</td>\n",
       "      <td>0</td>\n",
       "      <td>0</td>\n",
       "      <td>0</td>\n",
       "    </tr>\n",
       "    <tr>\n",
       "      <th>8365</th>\n",
       "      <td>id27063</td>\n",
       "      <td>His looks were wild with terror, and he spoke to me in a voice tremulous, husky, and very low.</td>\n",
       "      <td>94</td>\n",
       "      <td>0</td>\n",
       "      <td>0</td>\n",
       "      <td>0</td>\n",
       "    </tr>\n",
       "    <tr>\n",
       "      <th>8366</th>\n",
       "      <td>id11773</td>\n",
       "      <td>By the quantity of provision which I had consumed, I should guess that I had passed three weeks in this journey; and the continual protraction of hope, returning back upon the heart, often wrung bitter drops of despondency and grief from my eyes.</td>\n",
       "      <td>246</td>\n",
       "      <td>0</td>\n",
       "      <td>0</td>\n",
       "      <td>0</td>\n",
       "    </tr>\n",
       "    <tr>\n",
       "      <th>8367</th>\n",
       "      <td>id11562</td>\n",
       "      <td>I hurled after the scoundrel these vehement words of Demosthenes Andrew O'Phlegethon, you really make haste to fly, and then turned to the darling of my heart, to the one eyed the shaggy haired Diana.</td>\n",
       "      <td>200</td>\n",
       "      <td>0</td>\n",
       "      <td>0</td>\n",
       "      <td>0</td>\n",
       "    </tr>\n",
       "    <tr>\n",
       "      <th>8368</th>\n",
       "      <td>id16208</td>\n",
       "      <td>Notwithstanding the hazardous object of our journey, it was full of romantic interest, as we passed through the vallies, and over the hills, of this divine country.</td>\n",
       "      <td>164</td>\n",
       "      <td>0</td>\n",
       "      <td>0</td>\n",
       "      <td>0</td>\n",
       "    </tr>\n",
       "    <tr>\n",
       "      <th>8369</th>\n",
       "      <td>id04036</td>\n",
       "      <td>I felt the greatest eagerness to hear the promised narrative, partly from curiosity and partly from a strong desire to ameliorate his fate if it were in my power.</td>\n",
       "      <td>162</td>\n",
       "      <td>0</td>\n",
       "      <td>0</td>\n",
       "      <td>0</td>\n",
       "    </tr>\n",
       "    <tr>\n",
       "      <th>8370</th>\n",
       "      <td>id26159</td>\n",
       "      <td>But in the expression of the countenance, which was beaming all over with smiles, there still lurked incomprehensible anomaly that fitful stain of melancholy which will ever be found inseparable from the perfection of the beautiful.</td>\n",
       "      <td>232</td>\n",
       "      <td>0</td>\n",
       "      <td>0</td>\n",
       "      <td>0</td>\n",
       "    </tr>\n",
       "    <tr>\n",
       "      <th>8371</th>\n",
       "      <td>id26777</td>\n",
       "      <td>Its decorations were rich, yet tattered and antique.</td>\n",
       "      <td>52</td>\n",
       "      <td>0</td>\n",
       "      <td>0</td>\n",
       "      <td>0</td>\n",
       "    </tr>\n",
       "    <tr>\n",
       "      <th>8372</th>\n",
       "      <td>id08501</td>\n",
       "      <td>He directed my attention to some object against the wall.</td>\n",
       "      <td>57</td>\n",
       "      <td>0</td>\n",
       "      <td>0</td>\n",
       "      <td>0</td>\n",
       "    </tr>\n",
       "    <tr>\n",
       "      <th>8373</th>\n",
       "      <td>id11216</td>\n",
       "      <td>Hey? Haow'd ye like to hear the haowlin' night arter night from the churches an' Order o' Dagon Hall, an' know what's doin' part o' the haowlin'?</td>\n",
       "      <td>145</td>\n",
       "      <td>0</td>\n",
       "      <td>1</td>\n",
       "      <td>0</td>\n",
       "    </tr>\n",
       "    <tr>\n",
       "      <th>8374</th>\n",
       "      <td>id03410</td>\n",
       "      <td>She was buried not in a vault, but in an ordinary grave in the village of her nativity.</td>\n",
       "      <td>87</td>\n",
       "      <td>0</td>\n",
       "      <td>0</td>\n",
       "      <td>0</td>\n",
       "    </tr>\n",
       "    <tr>\n",
       "      <th>8375</th>\n",
       "      <td>id04537</td>\n",
       "      <td>In company with this sprightly and clever Greek girl, the Countess would relax from her usual state.</td>\n",
       "      <td>100</td>\n",
       "      <td>0</td>\n",
       "      <td>0</td>\n",
       "      <td>0</td>\n",
       "    </tr>\n",
       "    <tr>\n",
       "      <th>8376</th>\n",
       "      <td>id26628</td>\n",
       "      <td>In this unnerved in this pitiable condition I feel that the period will sooner or later arrive when I must abandon life and reason together, in some struggle with the grim phantasm, FEAR.\"</td>\n",
       "      <td>188</td>\n",
       "      <td>0</td>\n",
       "      <td>0</td>\n",
       "      <td>0</td>\n",
       "    </tr>\n",
       "    <tr>\n",
       "      <th>8377</th>\n",
       "      <td>id01586</td>\n",
       "      <td>He was a scoundrel, and I don't blame you for giving him a cast aside coffin, but you always did go too damned far Well enough to skimp on the thing some way, but you knew what a little man old Fenner was.</td>\n",
       "      <td>205</td>\n",
       "      <td>0</td>\n",
       "      <td>0</td>\n",
       "      <td>0</td>\n",
       "    </tr>\n",
       "    <tr>\n",
       "      <th>8378</th>\n",
       "      <td>id13421</td>\n",
       "      <td>But why should I dwell upon the incidents that followed this last overwhelming event?</td>\n",
       "      <td>85</td>\n",
       "      <td>0</td>\n",
       "      <td>0</td>\n",
       "      <td>0</td>\n",
       "    </tr>\n",
       "    <tr>\n",
       "      <th>8379</th>\n",
       "      <td>id26084</td>\n",
       "      <td>In the streets were spears of long grass, and the window panes on either side were either broken or filmily staring.</td>\n",
       "      <td>116</td>\n",
       "      <td>0</td>\n",
       "      <td>0</td>\n",
       "      <td>0</td>\n",
       "    </tr>\n",
       "    <tr>\n",
       "      <th>8380</th>\n",
       "      <td>id05375</td>\n",
       "      <td>When I first sought it, it was the love of virtue, the feelings of happiness and affection with which my whole being overflowed, that I wished to be participated.</td>\n",
       "      <td>162</td>\n",
       "      <td>0</td>\n",
       "      <td>0</td>\n",
       "      <td>0</td>\n",
       "    </tr>\n",
       "    <tr>\n",
       "      <th>8381</th>\n",
       "      <td>id23212</td>\n",
       "      <td>But it is in matters beyond the limits of mere rule that the skill of the analyst is evinced.</td>\n",
       "      <td>93</td>\n",
       "      <td>0</td>\n",
       "      <td>0</td>\n",
       "      <td>0</td>\n",
       "    </tr>\n",
       "    <tr>\n",
       "      <th>8382</th>\n",
       "      <td>id15980</td>\n",
       "      <td>\"I may say an excellently well constructed house.</td>\n",
       "      <td>49</td>\n",
       "      <td>0</td>\n",
       "      <td>0</td>\n",
       "      <td>0</td>\n",
       "    </tr>\n",
       "    <tr>\n",
       "      <th>8383</th>\n",
       "      <td>id11719</td>\n",
       "      <td>Across a covered bridge one sees a small village huddled between the stream and the vertical slope of Round Mountain, and wonders at the cluster of rotting gambrel roofs bespeaking an earlier architectural period than that of the neighbouring region.</td>\n",
       "      <td>250</td>\n",
       "      <td>0</td>\n",
       "      <td>0</td>\n",
       "      <td>0</td>\n",
       "    </tr>\n",
       "    <tr>\n",
       "      <th>8384</th>\n",
       "      <td>id13109</td>\n",
       "      <td>You cannot take up a common newspaper in which you shall not see some allusion to the immortal Thingum Bob.</td>\n",
       "      <td>107</td>\n",
       "      <td>1</td>\n",
       "      <td>0</td>\n",
       "      <td>0</td>\n",
       "    </tr>\n",
       "    <tr>\n",
       "      <th>8385</th>\n",
       "      <td>id07156</td>\n",
       "      <td>Consoling myself with this reflection, I was mentally repeating some passages of the \"Omnipresence of the Deity,\" as is my custom before resigning myself to sleep, when two cats, of a greedy and vituperative turn, entering at a hole in the wall, leaped up with a flourish a la Catalani, and alighting opposite one another on my visage, betook themselves to indecorous contention for the paltry consideration of my nose.</td>\n",
       "      <td>419</td>\n",
       "      <td>0</td>\n",
       "      <td>0</td>\n",
       "      <td>0</td>\n",
       "    </tr>\n",
       "    <tr>\n",
       "      <th>8386</th>\n",
       "      <td>id04893</td>\n",
       "      <td>Yet we laughed and were merry in our proper way which was hysterical; and sang the songs of Anacreon which are madness; and drank deeply although the purple wine reminded us of blood.</td>\n",
       "      <td>183</td>\n",
       "      <td>0</td>\n",
       "      <td>1</td>\n",
       "      <td>0</td>\n",
       "    </tr>\n",
       "    <tr>\n",
       "      <th>8387</th>\n",
       "      <td>id11749</td>\n",
       "      <td>All this is now the fitter for my purpose.</td>\n",
       "      <td>42</td>\n",
       "      <td>0</td>\n",
       "      <td>0</td>\n",
       "      <td>0</td>\n",
       "    </tr>\n",
       "    <tr>\n",
       "      <th>8388</th>\n",
       "      <td>id10526</td>\n",
       "      <td>I fixed myself on a wide solitude.</td>\n",
       "      <td>34</td>\n",
       "      <td>0</td>\n",
       "      <td>0</td>\n",
       "      <td>0</td>\n",
       "    </tr>\n",
       "    <tr>\n",
       "      <th>8389</th>\n",
       "      <td>id13477</td>\n",
       "      <td>It is easily understood that what might improve a closely scrutinized detail, may at the same time injure a general or more distantly observed effect.</td>\n",
       "      <td>150</td>\n",
       "      <td>0</td>\n",
       "      <td>0</td>\n",
       "      <td>0</td>\n",
       "    </tr>\n",
       "    <tr>\n",
       "      <th>8390</th>\n",
       "      <td>id13761</td>\n",
       "      <td>Be this as it may, I now began to feel the inspiration of a burning hope, and at length nurtured in my secret thoughts a stern and desperate resolution that I would submit no longer to be enslaved.</td>\n",
       "      <td>197</td>\n",
       "      <td>0</td>\n",
       "      <td>0</td>\n",
       "      <td>0</td>\n",
       "    </tr>\n",
       "    <tr>\n",
       "      <th>8391</th>\n",
       "      <td>id04282</td>\n",
       "      <td>Long winded, statistical, and drearily genealogical as some of the matter was, there ran through it a continuous thread of brooding, tenacious horror and preternatural malevolence which impressed me even more than it had impressed the good doctor.</td>\n",
       "      <td>247</td>\n",
       "      <td>0</td>\n",
       "      <td>0</td>\n",
       "      <td>0</td>\n",
       "    </tr>\n",
       "  </tbody>\n",
       "</table>\n",
       "<p>8392 rows × 6 columns</p>\n",
       "</div>"
      ],
      "text/plain": [
       "           id  \\\n",
       "0     id02310   \n",
       "1     id24541   \n",
       "2     id00134   \n",
       "3     id27757   \n",
       "4     id04081   \n",
       "5     id27337   \n",
       "6     id24265   \n",
       "7     id25917   \n",
       "8     id04951   \n",
       "9     id14549   \n",
       "10    id22505   \n",
       "11    id24002   \n",
       "12    id18982   \n",
       "13    id15181   \n",
       "14    id21888   \n",
       "15    id12035   \n",
       "16    id17991   \n",
       "17    id10707   \n",
       "18    id07101   \n",
       "19    id00345   \n",
       "20    id05912   \n",
       "21    id13443   \n",
       "22    id09248   \n",
       "23    id17542   \n",
       "24    id06995   \n",
       "25    id25159   \n",
       "26    id25729   \n",
       "27    id26949   \n",
       "28    id27191   \n",
       "29    id07668   \n",
       "...       ...   \n",
       "8362  id22510   \n",
       "8363  id19204   \n",
       "8364  id05758   \n",
       "8365  id27063   \n",
       "8366  id11773   \n",
       "8367  id11562   \n",
       "8368  id16208   \n",
       "8369  id04036   \n",
       "8370  id26159   \n",
       "8371  id26777   \n",
       "8372  id08501   \n",
       "8373  id11216   \n",
       "8374  id03410   \n",
       "8375  id04537   \n",
       "8376  id26628   \n",
       "8377  id01586   \n",
       "8378  id13421   \n",
       "8379  id26084   \n",
       "8380  id05375   \n",
       "8381  id23212   \n",
       "8382  id15980   \n",
       "8383  id11719   \n",
       "8384  id13109   \n",
       "8385  id07156   \n",
       "8386  id04893   \n",
       "8387  id11749   \n",
       "8388  id10526   \n",
       "8389  id13477   \n",
       "8390  id13761   \n",
       "8391  id04282   \n",
       "\n",
       "                                                                                                                                                                                                                                                                                                                                                                                                                                     text  \\\n",
       "0                                                                                                                                                                                                                                                                                                                          Still, as I urged our leaving Ireland with such inquietude and impatience, my father thought it best to yield.   \n",
       "1                                                                                              If a fire wanted fanning, it could readily be fanned with a newspaper, and as the government grew weaker, I have no doubt that leather and iron acquired durability in proportion, for, in a very short time, there was not a pair of bellows in all Rotterdam that ever stood in need of a stitch or required the assistance of a hammer.   \n",
       "2                                                                                                                                                                                                                                           And when they had broken down the frail door they found only this: two cleanly picked human skeletons on the earthen floor, and a number of singular beetles crawling in the shadowy corners.   \n",
       "3                                                                                                                                                                                                         While I was thinking how I should possibly manage without them, one actually tumbled out of my head, and, rolling down the steep side of the steeple, lodged in the rain gutter which ran along the eaves of the main building.   \n",
       "4                                                                                                                                                                                                                                                                                                                                                                                   I am not sure to what limit his knowledge may extend.   \n",
       "5                                                                                                                                                                                                                              \"The thick and peculiar mist, or smoke, which distinguishes the Indian Summer, and which now hung heavily over all objects, served, no doubt, to deepen the vague impressions which these objects created.   \n",
       "6                                                                                                                                                                                                                                                                                                                                                                    That which is not matter, is not at all unless qualities are things.   \n",
       "7                                                                                                                                                                                                                                                                             I sought for repose although I did not hope for forgetfulness; I knew I should be pursued by dreams, but did not dread the frightful one that I really had.   \n",
       "8                                                                                                                                                                                                                                                            Upon the fourth day of the assassination, a party of the police came, very unexpectedly, into the house, and proceeded again to make rigorous investigation of the premises.   \n",
       "9                                                                                                                                                                                                                                                                                                                                                                                              \"The tone metaphysical is also a good one.   \n",
       "10                                                                                                                                                                      These, the offspring of a later period, stood erect and seemed ready to advance fearlessly into coming time; while those out worn stragglers, blasted and broke, clung to each other, their weak boughs sighing as the wind buffetted them a weather beaten crew.   \n",
       "11                                                                                                                                                                 What kept him from going with her and Brown Jenkin and the other to the throne of Chaos where the thin flutes pipe mindlessly was the fact that he had seen the name \"Azathoth\" in the Necronomicon, and knew it stood for a primal evil too horrible for description.   \n",
       "12                                                                                                                                                                                                                                        Persuading the widow that my connexion with her husband's \"technical matters\" was sufficient to entitle me to his manuscript, I bore the document away and began to read it on the London boat.   \n",
       "13                                                                                                                                                                                                                                                                                  When I arose trembling, I know not how much later, I staggered into the house and made shocking obeisances before the enshrined amulet of green jade.   \n",
       "14                                                                                                                                                                                                                                                                                                                                                               And by the shores of the river Zaire there is neither quiet nor silence.   \n",
       "15                                                                                                                                                                                                                                                                                                                                                                                      Idris heard of her mother's return with pleasure.   \n",
       "16                                                                                                                                                                                                                                                                                                                                   I say this proudly, but with tears in my eyes for the firm proved themselves the basest of ingrates.   \n",
       "17                                                                                                                                                                                                                                                               But let us glance at the treatise Ah \"Ability or inability to conceive,\" says Mr. Mill, very properly, \"is in no case to be received as a criterion of axiomatic truth.\"   \n",
       "18                                                                                                                                                                                                                                                                                                 \"What a place is this that you inhabit, my son\" said he, looking mournfully at the barred windows and wretched appearance of the room.   \n",
       "19                                                                                                                                                                                                                                                                                                      At his nod I took one of the latter and seated myself upon an aged, discoloured gravestone close by the newly uncovered aperture.   \n",
       "20                                                                                                                                                                                                                                                                                                                                              No one doubted now that the mystery of this murder would be immediately brought to light.   \n",
       "21                                                                                                                                                                                                                                         But although, in one or two instances, arrests were made which promised elucidation, yet nothing was elicited which could implicate the parties suspected; and they were discharged forthwith.   \n",
       "22                                                                                                                                                                                                                                                                                                                                                                          Festivity, and even libertinism, became the order of the day.   \n",
       "23                                                                                                                                                                                                                                                                                                                                                                                            For I am Iranon, who was a Prince in Aira.\"   \n",
       "24                                                                                                                                                                                                                                                          \"Gaze not on the star, dear, generous friend,\" I cried, \"read not love in its trembling rays; look not upon distant worlds; speak not of the mere imagination of a sentiment.   \n",
       "25                                                                                                                                                                                                                                                                                                                                                                            I am serious in asserting that my breath was entirely gone.   \n",
       "26                                                                                                                                                                                                                                                                                                  The thing will haunt me, for who can say the extermination is complete, and that analogous phenomena do not exist all over the world?   \n",
       "27                                                                                                                                                                                                                                                                                                                                                   Before each of the party lay a portion of a skull, which was used as a drinking cup.   \n",
       "28                                                                                                                                                                                                     If she had been bred in that sphere of life to which by inheritance the delicate framework of her mind and person was adapted, she would have been the object almost of adoration, for her virtues were as eminent as her defects.   \n",
       "29                                                                                                           Or, if this mode of speech offend you, let me say, that my mother, the proud queen, instilled early into me a love of distinction, and all that, if the weakness of my physical nature and my peculiar opinions had not prevented such a design, might have made me long since struggle for the lost inheritance of my race.   \n",
       "...                                                                                                                                                                                                                                                                                                                                                                                                                                   ...   \n",
       "8362                                                                                                                                                                                                                                                                                                                         Then again he distracted my thoughts from my sorrow by comparing it with his despair when he lost my mother.   \n",
       "8363                                                                                                                                                                                                                                                                                                                                  Upon the whole, whether happily or unhappily, he was thrown back, in very great measure, upon self.   \n",
       "8364                                                                                                                                                                                                                                                                                                                                                                            He was not allowed to finish this speech in tranquillity.   \n",
       "8365                                                                                                                                                                                                                                                                                                                                       His looks were wild with terror, and he spoke to me in a voice tremulous, husky, and very low.   \n",
       "8366                                                                                                                                                                               By the quantity of provision which I had consumed, I should guess that I had passed three weeks in this journey; and the continual protraction of hope, returning back upon the heart, often wrung bitter drops of despondency and grief from my eyes.   \n",
       "8367                                                                                                                                                                                                                             I hurled after the scoundrel these vehement words of Demosthenes Andrew O'Phlegethon, you really make haste to fly, and then turned to the darling of my heart, to the one eyed the shaggy haired Diana.   \n",
       "8368                                                                                                                                                                                                                                                                 Notwithstanding the hazardous object of our journey, it was full of romantic interest, as we passed through the vallies, and over the hills, of this divine country.   \n",
       "8369                                                                                                                                                                                                                                                                   I felt the greatest eagerness to hear the promised narrative, partly from curiosity and partly from a strong desire to ameliorate his fate if it were in my power.   \n",
       "8370                                                                                                                                                                                             But in the expression of the countenance, which was beaming all over with smiles, there still lurked incomprehensible anomaly that fitful stain of melancholy which will ever be found inseparable from the perfection of the beautiful.   \n",
       "8371                                                                                                                                                                                                                                                                                                                                                                                 Its decorations were rich, yet tattered and antique.   \n",
       "8372                                                                                                                                                                                                                                                                                                                                                                            He directed my attention to some object against the wall.   \n",
       "8373                                                                                                                                                                                                                                                                                    Hey? Haow'd ye like to hear the haowlin' night arter night from the churches an' Order o' Dagon Hall, an' know what's doin' part o' the haowlin'?   \n",
       "8374                                                                                                                                                                                                                                                                                                                                              She was buried not in a vault, but in an ordinary grave in the village of her nativity.   \n",
       "8375                                                                                                                                                                                                                                                                                                                                 In company with this sprightly and clever Greek girl, the Countess would relax from her usual state.   \n",
       "8376                                                                                                                                                                                                                                         In this unnerved in this pitiable condition I feel that the period will sooner or later arrive when I must abandon life and reason together, in some struggle with the grim phantasm, FEAR.\"   \n",
       "8377                                                                                                                                                                                                                        He was a scoundrel, and I don't blame you for giving him a cast aside coffin, but you always did go too damned far Well enough to skimp on the thing some way, but you knew what a little man old Fenner was.   \n",
       "8378                                                                                                                                                                                                                                                                                                                                                But why should I dwell upon the incidents that followed this last overwhelming event?   \n",
       "8379                                                                                                                                                                                                                                                                                                                 In the streets were spears of long grass, and the window panes on either side were either broken or filmily staring.   \n",
       "8380                                                                                                                                                                                                                                                                   When I first sought it, it was the love of virtue, the feelings of happiness and affection with which my whole being overflowed, that I wished to be participated.   \n",
       "8381                                                                                                                                                                                                                                                                                                                                        But it is in matters beyond the limits of mere rule that the skill of the analyst is evinced.   \n",
       "8382                                                                                                                                                                                                                                                                                                                                                                                    \"I may say an excellently well constructed house.   \n",
       "8383                                                                                                                                                                           Across a covered bridge one sees a small village huddled between the stream and the vertical slope of Round Mountain, and wonders at the cluster of rotting gambrel roofs bespeaking an earlier architectural period than that of the neighbouring region.   \n",
       "8384                                                                                                                                                                                                                                                                                                                          You cannot take up a common newspaper in which you shall not see some allusion to the immortal Thingum Bob.   \n",
       "8385  Consoling myself with this reflection, I was mentally repeating some passages of the \"Omnipresence of the Deity,\" as is my custom before resigning myself to sleep, when two cats, of a greedy and vituperative turn, entering at a hole in the wall, leaped up with a flourish a la Catalani, and alighting opposite one another on my visage, betook themselves to indecorous contention for the paltry consideration of my nose.   \n",
       "8386                                                                                                                                                                                                                                              Yet we laughed and were merry in our proper way which was hysterical; and sang the songs of Anacreon which are madness; and drank deeply although the purple wine reminded us of blood.   \n",
       "8387                                                                                                                                                                                                                                                                                                                                                                                           All this is now the fitter for my purpose.   \n",
       "8388                                                                                                                                                                                                                                                                                                                                                                                                   I fixed myself on a wide solitude.   \n",
       "8389                                                                                                                                                                                                                                                                               It is easily understood that what might improve a closely scrutinized detail, may at the same time injure a general or more distantly observed effect.   \n",
       "8390                                                                                                                                                                                                                                Be this as it may, I now began to feel the inspiration of a burning hope, and at length nurtured in my secret thoughts a stern and desperate resolution that I would submit no longer to be enslaved.   \n",
       "8391                                                                                                                                                                              Long winded, statistical, and drearily genealogical as some of the matter was, there ran through it a continuous thread of brooding, tenacious horror and preternatural malevolence which impressed me even more than it had impressed the good doctor.   \n",
       "\n",
       "      text_length  EAP  HPL  MWS  \n",
       "0             110    0    0    0  \n",
       "1             330    0    0    0  \n",
       "2             189    0    0    0  \n",
       "3             223    0    0    0  \n",
       "4              53    0    0    0  \n",
       "5             202    0    0    0  \n",
       "6              68    0    0    0  \n",
       "7             155    0    0    0  \n",
       "8             172    0    0    0  \n",
       "9              42    0    0    0  \n",
       "10            257    0    0    0  \n",
       "11            262    0    2    0  \n",
       "12            191    0    0    0  \n",
       "13            149    0    0    0  \n",
       "14             72    1    0    0  \n",
       "15             49    0    0    0  \n",
       "16            100    0    0    0  \n",
       "17            168    1    0    0  \n",
       "18            134    0    0    0  \n",
       "19            129    0    0    0  \n",
       "20             89    0    0    0  \n",
       "21            190    0    0    0  \n",
       "22             61    0    0    0  \n",
       "23             43    0    2    0  \n",
       "24            173    0    0    0  \n",
       "25             59    0    0    0  \n",
       "26            133    0    0    0  \n",
       "27             84    0    0    0  \n",
       "28            226    0    0    0  \n",
       "29            316    0    0    0  \n",
       "...           ...  ...  ...  ...  \n",
       "8362          108    0    0    0  \n",
       "8363           99    0    0    0  \n",
       "8364           57    0    0    0  \n",
       "8365           94    0    0    0  \n",
       "8366          246    0    0    0  \n",
       "8367          200    0    0    0  \n",
       "8368          164    0    0    0  \n",
       "8369          162    0    0    0  \n",
       "8370          232    0    0    0  \n",
       "8371           52    0    0    0  \n",
       "8372           57    0    0    0  \n",
       "8373          145    0    1    0  \n",
       "8374           87    0    0    0  \n",
       "8375          100    0    0    0  \n",
       "8376          188    0    0    0  \n",
       "8377          205    0    0    0  \n",
       "8378           85    0    0    0  \n",
       "8379          116    0    0    0  \n",
       "8380          162    0    0    0  \n",
       "8381           93    0    0    0  \n",
       "8382           49    0    0    0  \n",
       "8383          250    0    0    0  \n",
       "8384          107    1    0    0  \n",
       "8385          419    0    0    0  \n",
       "8386          183    0    1    0  \n",
       "8387           42    0    0    0  \n",
       "8388           34    0    0    0  \n",
       "8389          150    0    0    0  \n",
       "8390          197    0    0    0  \n",
       "8391          247    0    0    0  \n",
       "\n",
       "[8392 rows x 6 columns]"
      ]
     },
     "execution_count": 31,
     "metadata": {},
     "output_type": "execute_result"
    }
   ],
   "source": [
    "pd.concat([test, ner_df], axis=1)"
   ]
  },
  {
   "cell_type": "markdown",
   "metadata": {},
   "source": [
    "## Number of author-specific entity mentions in test phrases "
   ]
  },
  {
   "cell_type": "code",
   "execution_count": 32,
   "metadata": {},
   "outputs": [
    {
     "data": {
      "text/plain": [
       "505"
      ]
     },
     "execution_count": 32,
     "metadata": {},
     "output_type": "execute_result"
    }
   ],
   "source": [
    "sum(EAP)"
   ]
  },
  {
   "cell_type": "code",
   "execution_count": 33,
   "metadata": {},
   "outputs": [
    {
     "data": {
      "text/plain": [
       "797"
      ]
     },
     "execution_count": 33,
     "metadata": {},
     "output_type": "execute_result"
    }
   ],
   "source": [
    "sum(HPL)"
   ]
  },
  {
   "cell_type": "code",
   "execution_count": 34,
   "metadata": {},
   "outputs": [
    {
     "data": {
      "text/plain": [
       "467"
      ]
     },
     "execution_count": 34,
     "metadata": {},
     "output_type": "execute_result"
    }
   ],
   "source": [
    "sum(MWS)"
   ]
  },
  {
   "cell_type": "code",
   "execution_count": 39,
   "metadata": {},
   "outputs": [],
   "source": [
    "pd.Series(ner_EAP).to_csv('data/ner_EAP.csv', index=False)\n",
    "pd.Series(ner_HPL).to_csv('data/ner_HPL.csv', index=False)\n",
    "pd.Series(ner_MWS).to_csv('data/ner_MWS.csv', index=False)"
   ]
  },
  {
   "cell_type": "code",
   "execution_count": null,
   "metadata": {
    "collapsed": true
   },
   "outputs": [],
   "source": []
  }
 ],
 "metadata": {
  "kernelspec": {
   "display_name": "Python 3",
   "language": "python",
   "name": "python3"
  },
  "language_info": {
   "codemirror_mode": {
    "name": "ipython",
    "version": 3
   },
   "file_extension": ".py",
   "mimetype": "text/x-python",
   "name": "python",
   "nbconvert_exporter": "python",
   "pygments_lexer": "ipython3",
   "version": "3.5.2"
  }
 },
 "nbformat": 4,
 "nbformat_minor": 2
}
