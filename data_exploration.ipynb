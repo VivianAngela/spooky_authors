{
 "cells": [
  {
   "cell_type": "code",
   "execution_count": 1,
   "metadata": {
    "collapsed": true
   },
   "outputs": [],
   "source": [
    "import pandas as pd\n",
    "pd.options.display.max_colwidth = 5000\n",
    "import matplotlib.pyplot as plt\n",
    "%matplotlib inline\n",
    "import seaborn as sns"
   ]
  },
  {
   "cell_type": "code",
   "execution_count": 2,
   "metadata": {
    "collapsed": true
   },
   "outputs": [],
   "source": [
    "train = pd.read_csv('data/train.csv')\n",
    "test  = pd.read_csv('data/test.csv')"
   ]
  },
  {
   "cell_type": "code",
   "execution_count": 3,
   "metadata": {},
   "outputs": [
    {
     "data": {
      "text/html": [
       "<div>\n",
       "<style>\n",
       "    .dataframe thead tr:only-child th {\n",
       "        text-align: right;\n",
       "    }\n",
       "\n",
       "    .dataframe thead th {\n",
       "        text-align: left;\n",
       "    }\n",
       "\n",
       "    .dataframe tbody tr th {\n",
       "        vertical-align: top;\n",
       "    }\n",
       "</style>\n",
       "<table border=\"1\" class=\"dataframe\">\n",
       "  <thead>\n",
       "    <tr style=\"text-align: right;\">\n",
       "      <th></th>\n",
       "      <th>id</th>\n",
       "      <th>text</th>\n",
       "      <th>author</th>\n",
       "    </tr>\n",
       "  </thead>\n",
       "  <tbody>\n",
       "    <tr>\n",
       "      <th>0</th>\n",
       "      <td>id26305</td>\n",
       "      <td>This process, however, afforded me no means of ascertaining the dimensions of my dungeon; as I might make its circuit, and return to the point whence I set out, without being aware of the fact; so perfectly uniform seemed the wall.</td>\n",
       "      <td>EAP</td>\n",
       "    </tr>\n",
       "    <tr>\n",
       "      <th>1</th>\n",
       "      <td>id17569</td>\n",
       "      <td>It never once occurred to me that the fumbling might be a mere mistake.</td>\n",
       "      <td>HPL</td>\n",
       "    </tr>\n",
       "    <tr>\n",
       "      <th>2</th>\n",
       "      <td>id11008</td>\n",
       "      <td>In his left hand was a gold snuff box, from which, as he capered down the hill, cutting all manner of fantastic steps, he took snuff incessantly with an air of the greatest possible self satisfaction.</td>\n",
       "      <td>EAP</td>\n",
       "    </tr>\n",
       "    <tr>\n",
       "      <th>3</th>\n",
       "      <td>id27763</td>\n",
       "      <td>How lovely is spring As we looked from Windsor Terrace on the sixteen fertile counties spread beneath, speckled by happy cottages and wealthier towns, all looked as in former years, heart cheering and fair.</td>\n",
       "      <td>MWS</td>\n",
       "    </tr>\n",
       "    <tr>\n",
       "      <th>4</th>\n",
       "      <td>id12958</td>\n",
       "      <td>Finding nothing else, not even gold, the Superintendent abandoned his attempts; but a perplexed look occasionally steals over his countenance as he sits thinking at his desk.</td>\n",
       "      <td>HPL</td>\n",
       "    </tr>\n",
       "  </tbody>\n",
       "</table>\n",
       "</div>"
      ],
      "text/plain": [
       "        id  \\\n",
       "0  id26305   \n",
       "1  id17569   \n",
       "2  id11008   \n",
       "3  id27763   \n",
       "4  id12958   \n",
       "\n",
       "                                                                                                                                                                                                                                      text  \\\n",
       "0  This process, however, afforded me no means of ascertaining the dimensions of my dungeon; as I might make its circuit, and return to the point whence I set out, without being aware of the fact; so perfectly uniform seemed the wall.   \n",
       "1                                                                                                                                                                  It never once occurred to me that the fumbling might be a mere mistake.   \n",
       "2                                 In his left hand was a gold snuff box, from which, as he capered down the hill, cutting all manner of fantastic steps, he took snuff incessantly with an air of the greatest possible self satisfaction.   \n",
       "3                           How lovely is spring As we looked from Windsor Terrace on the sixteen fertile counties spread beneath, speckled by happy cottages and wealthier towns, all looked as in former years, heart cheering and fair.   \n",
       "4                                                           Finding nothing else, not even gold, the Superintendent abandoned his attempts; but a perplexed look occasionally steals over his countenance as he sits thinking at his desk.   \n",
       "\n",
       "  author  \n",
       "0    EAP  \n",
       "1    HPL  \n",
       "2    EAP  \n",
       "3    MWS  \n",
       "4    HPL  "
      ]
     },
     "execution_count": 3,
     "metadata": {},
     "output_type": "execute_result"
    }
   ],
   "source": [
    "train.head()"
   ]
  },
  {
   "cell_type": "markdown",
   "metadata": {},
   "source": [
    "# Text length"
   ]
  },
  {
   "cell_type": "code",
   "execution_count": 4,
   "metadata": {
    "collapsed": true
   },
   "outputs": [],
   "source": [
    "# character length of text snippet\n",
    "train['text_length'] = train['text'].apply(len)"
   ]
  },
  {
   "cell_type": "code",
   "execution_count": 5,
   "metadata": {
    "collapsed": true
   },
   "outputs": [],
   "source": [
    "def split_text(x):\n",
    "    return x.split()"
   ]
  },
  {
   "cell_type": "code",
   "execution_count": 6,
   "metadata": {
    "collapsed": true
   },
   "outputs": [],
   "source": [
    "# word count length of text snipped\n",
    "train['word_count'] = train['text'].apply(split_text).apply(len)"
   ]
  },
  {
   "cell_type": "code",
   "execution_count": 7,
   "metadata": {},
   "outputs": [
    {
     "data": {
      "text/html": [
       "<div>\n",
       "<style>\n",
       "    .dataframe thead tr:only-child th {\n",
       "        text-align: right;\n",
       "    }\n",
       "\n",
       "    .dataframe thead th {\n",
       "        text-align: left;\n",
       "    }\n",
       "\n",
       "    .dataframe tbody tr th {\n",
       "        vertical-align: top;\n",
       "    }\n",
       "</style>\n",
       "<table border=\"1\" class=\"dataframe\">\n",
       "  <thead>\n",
       "    <tr style=\"text-align: right;\">\n",
       "      <th></th>\n",
       "      <th>text_length</th>\n",
       "      <th>word_count</th>\n",
       "    </tr>\n",
       "  </thead>\n",
       "  <tbody>\n",
       "    <tr>\n",
       "      <th>count</th>\n",
       "      <td>19579.000000</td>\n",
       "      <td>19579.000000</td>\n",
       "    </tr>\n",
       "    <tr>\n",
       "      <th>mean</th>\n",
       "      <td>149.057408</td>\n",
       "      <td>26.730477</td>\n",
       "    </tr>\n",
       "    <tr>\n",
       "      <th>std</th>\n",
       "      <td>106.800189</td>\n",
       "      <td>19.048353</td>\n",
       "    </tr>\n",
       "    <tr>\n",
       "      <th>min</th>\n",
       "      <td>21.000000</td>\n",
       "      <td>2.000000</td>\n",
       "    </tr>\n",
       "    <tr>\n",
       "      <th>25%</th>\n",
       "      <td>81.000000</td>\n",
       "      <td>15.000000</td>\n",
       "    </tr>\n",
       "    <tr>\n",
       "      <th>50%</th>\n",
       "      <td>128.000000</td>\n",
       "      <td>23.000000</td>\n",
       "    </tr>\n",
       "    <tr>\n",
       "      <th>75%</th>\n",
       "      <td>191.000000</td>\n",
       "      <td>34.000000</td>\n",
       "    </tr>\n",
       "    <tr>\n",
       "      <th>max</th>\n",
       "      <td>4663.000000</td>\n",
       "      <td>861.000000</td>\n",
       "    </tr>\n",
       "  </tbody>\n",
       "</table>\n",
       "</div>"
      ],
      "text/plain": [
       "        text_length    word_count\n",
       "count  19579.000000  19579.000000\n",
       "mean     149.057408     26.730477\n",
       "std      106.800189     19.048353\n",
       "min       21.000000      2.000000\n",
       "25%       81.000000     15.000000\n",
       "50%      128.000000     23.000000\n",
       "75%      191.000000     34.000000\n",
       "max     4663.000000    861.000000"
      ]
     },
     "execution_count": 7,
     "metadata": {},
     "output_type": "execute_result"
    }
   ],
   "source": [
    "train.describe()"
   ]
  },
  {
   "cell_type": "markdown",
   "metadata": {},
   "source": [
    "## Training set\n",
    "\n",
    "- MWS has unusually long text snippets compared to EAP and HPL"
   ]
  },
  {
   "cell_type": "code",
   "execution_count": 8,
   "metadata": {},
   "outputs": [
    {
     "data": {
      "image/png": "[encoded data removed]",
      "text/plain": [
       "<matplotlib.figure.Figure at 0x10b283d30>"
      ]
     },
     "metadata": {},
     "output_type": "display_data"
    }
   ],
   "source": [
    "ax = sns.stripplot(x=\"author\", y=\"word_count\", data=train, jitter=True)"
   ]
  },
  {
   "cell_type": "code",
   "execution_count": 9,
   "metadata": {},
   "outputs": [
    {
     "data": {
      "image/png": "[encoded data removed]",
      "text/plain": [
       "<matplotlib.figure.Figure at 0x1049fe978>"
      ]
     },
     "metadata": {},
     "output_type": "display_data"
    }
   ],
   "source": [
    "ax = sns.violinplot(x='author', y='text_length', data=train)"
   ]
  },
  {
   "cell_type": "code",
   "execution_count": 10,
   "metadata": {
    "collapsed": true
   },
   "outputs": [],
   "source": [
    "test['text_length'] = test['text'].apply(len)"
   ]
  },
  {
   "cell_type": "markdown",
   "metadata": {},
   "source": [
    "## Test set\n",
    "\n",
    "- We don't know the author\n",
    "- There are not as many unusually long text snippets in the training set"
   ]
  },
  {
   "cell_type": "code",
   "execution_count": 11,
   "metadata": {},
   "outputs": [
    {
     "data": {
      "image/png": "[encoded data removed]",
      "text/plain": [
       "<matplotlib.figure.Figure at 0x10dd69b38>"
      ]
     },
     "metadata": {},
     "output_type": "display_data"
    }
   ],
   "source": [
    "ax = sns.stripplot(y='text_length', data=test, jitter=True)"
   ]
  },
  {
   "cell_type": "markdown",
   "metadata": {},
   "source": [
    "# Named Entity Recognition\n",
    "\n",
    "- explore Persons and Places mentioned in the text snippets\n",
    "- TODO check if there is an overlap, otherwise these could be highly informative features"
   ]
  },
  {
   "cell_type": "code",
   "execution_count": 12,
   "metadata": {
    "collapsed": true
   },
   "outputs": [],
   "source": [
    "import spacy"
   ]
  },
  {
   "cell_type": "code",
   "execution_count": 13,
   "metadata": {
    "collapsed": true
   },
   "outputs": [],
   "source": [
    "nlp = spacy.load(\"en_core_web_md\")"
   ]
  },
  {
   "cell_type": "code",
   "execution_count": 14,
   "metadata": {
    "collapsed": true
   },
   "outputs": [],
   "source": [
    "ner = {}"
   ]
  },
  {
   "cell_type": "code",
   "execution_count": 15,
   "metadata": {
    "collapsed": true
   },
   "outputs": [],
   "source": [
    "# loop over text and associated authors\n",
    "for text, author in zip(train.text, train.author):\n",
    "    doc = nlp(text) # spacy pipeline\n",
    "    if doc.ents:    # check for entities\n",
    "        # print(author)\n",
    "        for ent in doc.ents: # for each entity\n",
    "            if ent.label_ in [\"PERSON\", \"GPE\", \"LOC\"]: # focus persons, places\n",
    "                # print(ent.label_, ent.text)\n",
    "                \n",
    "                # populate author dictionary\n",
    "                if author in ner.keys():\n",
    "                    if ent.text not in ner[author]:\n",
    "                        ner[author].append(ent.text)\n",
    "                else:\n",
    "                    ner[author] = [ent.text]"
   ]
  },
  {
   "cell_type": "code",
   "execution_count": 16,
   "metadata": {},
   "outputs": [
    {
     "name": "stdout",
     "output_type": "stream",
     "text": [
      "EAP ['Epicurus', 'California', \"Von Kempelen's\", 'Underduk', 'Ellison', 'Mein Gott', 'Latin', 'Theodore Sinivate', 'Kidd', 'Lofoden', 'Moskoe', 'Pierre Moreau', \"Madame L'Espanaye\", 'Hebrews', 'Athens', 'Epimenides', 'Laertius', 'Alexander', 'John Smith', 'Gazette', 'Thomas Hawk', 'Jupiter', 'Jxhn', 'Perdidit', 'Ferdinand Fitz Fossillus Feltspar', 'Launcelot', 'Cotopaxi', 'Flimen', 'Dupin', 'I. \"Nose and', 'Mark Antony', 'Von Kempelen', 'Valence', 'Marie', 'P.', 'Baron', 'Windenough', 'Paris', 'William Wilson', 'Oxford', 'Keats', 'Oppodeldoc', 'Luchesi', 'Amontillado', 'Sherry', 'Everard Bringhurst', 'Osborne', 'Mason', 'Holland', 'Rotterdam', \"D'Avisson Davidson\", 'Mademoiselle', 'Marston', 'Geneva', 'Eleonora', 'Pompey', 'B.', 'M. St. Eustache', 'M. Beauvais', 'Greece', 'M. Maillardet', 'Rome', 'Eugenie', 'Vell', 'Bobby', 'Edward Stapleton', 'Frederick', 'Helseggen', 'Suky Snobbs', 'Thingum', 'Crab', 'Fortunato', 'Diana', \"Mademoiselle L'Espanaye\", 'Dumas', 'Etienne', 'Gad Fly\" it', 'Aidenn', 'Le Commerciel', 'Una', 'New Holland', 'Bi', 'Pundit', 'morrow', 'Le', 'Duc', 'Smith', 'Christendom', 'Roule', 'Tarr', 'Fether', 'Ebn Zaiat', 'Monsieur Simpson', 'Maelzel', 'Beauvais', 'Wyatt', 'Charleston', 'S. C', 'New York', 'Hardy', 'M. Valdemar', 'Metzengerstein', 'Peter Proffit', 'John A. B. C.?', 'Maillard', 'Addison', 'Thingum Bob', 'Julien', 'Bob', 'Hippocratian', 'Lackobreath', 'Salle', 'Berenice', 'Pascal', 'Turk', 'Chantilly', 'Gruff', 'Simpson', 'Solomon', 'Petit Gaillard', 'Vankirk', 'East', 'Amphitheatre', 'Epidaphne', 'Syria', 'Antiochus Epimanes Antiochus', 'Suky', 'Psyche', 'Fay', 'the Saracen Berlifitzing', 'Thee', 'Parmly', 'Wery', 'V. Yes;', 'Havelius', 'Usher', 'Madame Lalande', 'Vienna', 'Aries Tottle', 'Talbot', 'Ethelred', 'Prefect', 'Archytas', 'Gorgias', 'Grace', 'Frederick Von Metzengerstein', 'Madame L.', 'Vondervotteimittiss', 'Hope', 'Democritus', 'Moses', 'Nopolis', 'Ainsworth', 'North America', 'Le Soleil', 'Greek', 'Rub', 'Madame Deluc', 'Drs', 'Mynheer Hermann', 'St. Eustache', 'Morella', 'Massa Will', 'Le Bon', 'Alcyone', 'Pleiades', 'Maltese', 'America', 'Little', 'Ourang Outang', 'Cimabue', 'Heraclides', 'Count Capricornutti', 'Richmond', 'Virginia', 'M. Maelzel', 'Hogs', 'Logs', 'Marie Rogêt', 'Seine', 'Edward', 'Sluys', 'St. Andrews', 'London', 'Pratt', 'Voissart', 'Berlifitzing', 'India', 'Roman Emperor', 'Heliogabalus', 'Ben Nevis', 'Bessop', \"George Cayley's\", 'Naples', 'Egypt', 'Bransby', 'Slyass', 'Ettrick Shepherd', 'Henson', 'Venice', 'Angel', 'Monsieur Maillard', 'Baron Kempelen', 'Presburg', 'Hungary', 'Libya', 'Zaire', 'Nick', 'Harlaem', 'N.Y.', 'John Randolph', \"Duc De L'Omelette\", 'Rombert', 'L', 'Snap', 'Hans Pfaal', 'Locke', 'Hans Pfaall', 'Earth', 'Le Moniteur', \"L'Etoile\", 'Tarpaulin', 'Marian', 'Vondervotteimittis', 'Shakespeare', 'Templeton', 'Encke', 'Schroeter', 'Lilienthal', 'Kate', 'Lucan', 'West', 'Dick', 'Harry Street', 'Massa', 'Achilles', 'France', 'Mentoni', 'Poisoned', 'Berlin', 'Glad', 'Mudler', 'W.', 'Blackwood', 'Zenobia', 'Snobbs', 'Reason', 'Mademoiselle L.', 'Pole', 'Venus', 'Roderick Usher', 'Atlantic', 'S.C.', 'A.M.', \"Lord Bentinck's\", 'Monck Mason', 'Robert Holland', 'Harrison Ainsworth', 'Jack Sheppard', 'Woolwich', 'Brewster', 'Herschel', \"Madame L'Espanaye's\", 'Nicolino', \"Ninon De L'Enclos\", 'earth', 'Fort Moultrie', 'Hartley', 'Grant', 'Dumbarton', 'Kickapoo', 'Lieutenant G', 'Lombardy', 'Hugh Tarpaulin', 'Abernethy', 'Quitting Talbot', 'Ponte', 'Glendinning', 'Bishop', 'Lafitte', 'Wales', 'Menehoult', 'Clos de Vougeot', 'John', 'Nosology', 'Kickapoos', 'England', 'Mann', 'Napoleon Bonaparte', 'Aurelian', 'Sarmatic', 'Edinburgh', 'Oinos', 'Odenheimer', 'Charles Green', 'Ligeia', 'Smitherton', 'Pierre', 'Madame Eugenie Lalande', 'Excellencies', 'De Kock', \"Ma'm'selle Laplace\", 'Jules Mignaud', 'Rue Deloraine', 'Joyeuse', 'Wilson', 'Otterholm', 'Sandflesen', 'Nantz', 'Madame', 'Froissart', 'Ducrow', 'Elah Gabalah', 'Signor', 'V. Yes no', 'Newton', 'Benares', 'the Holy River', 'Arago', 'Lieutenant Maury', 'Lord Edouard', 'David Brewster', 'Tom Dobson', 'Bobby Tompkins', 'Chevalier', 'M. Camus', 'Louis XIV', 'Monsieur G', 'Lord Cornwallis', 'Baiae', 'Madame Simpson', 'Ariosto Il', 'Nourjahad', 'Fourthly', 'Awe', 'Madame D.', 'Tattle', 'George Cayley', 'George', 'Hermann', 'Madame Rogêt', 'Broadway', 'Paradise', 'Horace', 'Jup', 'LA', 'Marmontel', 'Baconian', 'the Ultima Thule', 'Lasalle', 'Dubble L. Dee', 'Le Mercurie', 'Adolphe Le Bon', 'Moresque', 'Valley', 'Adelaide Curtis', 'Albany', 'KATE', 'Moslemin', 'Mecca', 'Hereupon Legrand', 'Sun', 'Kissam', 'Kempelen', 'Knickerbocker', 'Cape Clear', 'North', 'Ström', 'South', 'Pagan', 'Condor', 'Invisible Wo', 'Sin', 'Damascus', 'Ju Kiao Li', 'Green', 'M.', 'Dieu', 'Montani', 'Talbots', 'Erebus', 'Boston', 'HANS PFAALL', 'Jermyn', 'Kepler', 'John A. B. C. Smith', 'M. Bossieux', 'Milton', 'Recorder Riker', 'John A. B. C.', 'Neapolitans', 'Buffon', 'Hogarth', 'Mare Nubium', 'Mare Tranquillitatis', 'Mare Faecunditatis', 'L.', 'Monos', 'Robert', 'Ravisius Textor', 'Natural Magic', \"Monsieur Jourdain's\", 'Rafaelle', 'Round', 'Ourang Outangs', 'Mary Cecila Rogers', 'Malays', 'Automaton', 'Bluddennuff', 'Divine', 'Antiochia Epidaphne', 'Daphne', 'Teios', 'Cimabué', 'Arpino', 'Carpaccio', 'Argostino of the', 'Caravaggio', 'Albano', 'Titian', 'Rubens', 'Jan Steen', 'Paul Dumas', 'Æschylus', 'Isæus', 'Lysias', 'Theophrastus', 'Apollonius', 'Pindar', 'Homer Junior', 'Humphrey Davy', 'Jovis', 'Phalaris', 'Moneypenny', 'Europe', \"L'Espanaye\", 'Madeline', 'Aeolus', \"Le Commerciel's\", 'Legs', 'Beheld', 'Wilhelm', 'Count Berlifitzing', 'Diodorus', 'Nineveh', 'Latour', 'Markbrünnen', 'Mousseux', 'Chambertin', 'Richbourg', 'St. George', 'Haubrion', 'Leonville', 'Medoc', 'Barac', 'Preignac', 'Grâve', 'Sauterne', 'St. Peray', 'Niagara Falls', 'Monsieur Renelle', 'Pirouette', 'Claude', 'Jonas Ramus', 'Mynheer Superbus Von Underduk', 'Bullethead', 'Ver Vurrgh', 'Amriccan', 'Adam', 'Bossuet', 'Baltimore', 'Windham', 'Allbreath', 'Phiz', 'Rumgudgeon', 'Nassau', 'Thomas Bob', 'Smug', 'Nordland', 'Ocracoke Inlet', 'Rogêt', 'Tom Street', 'Bendis', 'Thrace', 'Bubastis', 'Artemis', 'Jostling King Pest', 'Bedloe', 'Nat Lee', 'Antioch', 'Nature', 'Madame Joyeuse', 'Mercury', 'S.', 'I. \"Pompey', 'Monsieur De Kock', 'Mediterranean', 'Mazurka', 'Landor', 'Great Britain', 'Donner', 'Blitzen', 'South Carolina', 'M. Dumas', 'Nichols', 'Stereotomy', 'Nicholas Klimm', 'Holberg', 'Robert Flud', \"Jean D'Indaginé\", 'De la Chambre', 'the City of', 'Campanella', 'Politian', 'Heraclitus', 'Roanoke Island', 'Cleomenes', 'Persepolis', 'Charlottesville', 'Seabright', 'Isis', 'Mill', 'Kanadaw', 'Baal Zebub', 'Blunderbuzzard \"De Derivationibus', 'Folio', 'Stuffundpuff', 'A. M.', 'P. M.', 'Hogs Logs', 'Sinivate', 'Kickapo', 'Golconda', 'Invention', 'Lewis G. Clarke', 'Penstruthal', 'Malibran', 'Bellini', 'Ritzner', 'Château Jung', 'Leonardo', 'Rubini', 'Florence', 'La Bellissima', 'Bedlo', 'Turgot', 'Price', 'G.', 'WILLIAM LEGRAND', 'Sparta', 'Agathos', 'V. Yes', 'Wellingtons', 'Jeremys', 'Dutch Pagoda', 'Epiphanes', 'Barrière', \"Lord Byron's\", 'Heroded Herod', \"Humphrey Davy'\", 'Cottle', 'Munroe', 'Marchesa', 'Utica', 'the State of New York', 'Hades', 'the United States', 'Stephanie Lalande', 'Genoese', 'Muriton', 'Ermengarde', 'Africa', 'Slang Whang', 'Ashimah', 'Vurrgh', 'Norway', 'Batavia', 'Night', 'Le Blanc', 'Dante', 'Eusebius', 'Arianus', 'Homousios', 'Homouioisios', 'Herodes Atticus', 'Trist', 'Signora Psyche Zenobia', 'Philadelphia', 'Young', 'Belles', 'Lettres', 'Universal', 'Experimental', 'Civilize', 'Pinxit', \"De L'Omelette\", 'JOHANN HERMAN', 'Continent', 'Miss Psyche', 'Chamfort', 'Antares', 'Rhine', 'Bliss', 'Sauerkraut', \"Dirteen o'clock\", 'Madame B', 'Zaire French', 'the Kingdom of Metaphysics', 'Dominic', 'the Anglo Saxon', 'Dresden', 'M. I. F. Freyhere', 'Monsieur Le Blanc', 'Coelius Secundus Curio', \"St. Austin's\", 'Tertullian', 'Brobdignag', 'Timbuctoo', 'the Schiedam Kirschenwasser', 'Thompson', 'Pelion', 'Epidaphne Beasts', 'Cape Horn', 'the Polar Sea', 'P. S. We', 'Preston', 'Madame Pilau', 'Copernicus', 'Equinoctial', 'De Stael', 'Hieronymus', 'Pluto', 'Brunswick', 'Maine', 'Mud Dabbling', 'Yellow', 'Violet', 'Blab', 'Java', 'Croissart', 'Victor Voissart', 'Chiponchipino', 'Muses', 'Bugaboos', 'Juniper', 'Hollands', 'Sieur Hedelin', 'Freyhere', 'Arnheim', 'G.; \"', 'Stapleton', 'Casimir Perier', 'Pedro', 'Kirschenwasser', 'Hebrew', 'Bacon', 'Lord Verulam', 'Monsieur Mignaud', 'Miguel De Cervantes', 'Vanny Buren', 'Query', 'Grandjean', 'Wiggins', 'Ptolemais', 'Ephesus', 'Taba', 'Dick Turpin', \"Daniel O'Connell\", 'Charles', 'Mesmer', 'Porque el', 'Miguel de Cervantes', 'Azrael', 'Sunship', 'Don Stiletto', 'Emmons', 'Tabitha T.', 'Guido', 'Miss Arabella', 'Gothic', \"Und sterb'ich\", 'Schiller', 'Toledo', 'Condorcet', 'Julien Bossuet', 'Trinculo', 'A.M. of the same', 'Mumblethumb', 'J. Goignard', 'Alexandre Etienne', 'Pauline Dubourg', 'Daphnis', 'Cxxl', 'Nxne xf', 'San Marco', 'M. Valz', 'Alma Mater', 'Ponto', 'Babbage', 'the Pacific Islands', 'Day', 'Niagara', 'Law', 'Earl', 'Napoleon Bonaparte Froissart', 'C. Auguste Dupin', 'Rue Dunôt', 'Faubourg St. Germain', 'Monsieur Lalande', 'Moissart', 'Kickapoo Indians', \"M. Valdemar's\", 'M. Ernest Valdemar', 'Issachar Marx', 'Henri Duval', 'Man Friday', 'Man Fred', 'Glover', 'Wilkie', 'Lamartine', 'Barlow', 'Griswold', 'M. Grimm', 'Alpha Lyrae', 'Abbé Gualtier', 'St. Helena', 'Ionia', 'Art', 'Hugh', 'Homer', \"Le Blanc's\", 'Fum Fudge', 'Russia', 'Monsieur Etienne', 'Miller', 'Muses Melete', 'Mneme', 'P. R. E. T. T. Y. B. L. U. E. B. A. T. C. H.', 'Dat', 'Rule', 'Afrasiab', 'Andava', 'Ariosto', 'Cornwallis', 'Monsieur Boullard', 'Rowena', 'King Pest', 'Tim Hurlygurly', 'Somnambula', 'Al', 'Ligeia Ligeia', 'Averni', 'Catalani', 'Coleridge', 'Glanvill', 'Spain', 'Zopyrus', 'Babylon', 'Chapman', \"Bussy D'Ambois\", 'Percival', 'Spallanzani', 'Landaff', 'Alberto Montani', 'Virtu', 'Napoli', 'Le Don', 'Superbus Von Underduk', 'Renelle', 'Providence', 'Rhode Island', 'Jung', 'Concord', 'Demosthenes', 'Channing', 'Hudibras', 'Valdemar', 'Hastings', 'Novalis', \"Peter Wilkins'\", 'Bullet', 'Alex', 'Père Le Brun', 'Barclay', 'Forsyth', 'Polar Gulf', 'Lo', \"Aries Tottle's\", 'Epictetus', 'Assailed', 'Mary Cecilia Rogers', 'John Neal', 'Mademoiselle Moissart', 'Miranda Cognoscenti', \"Madame Deluc's\", 'Madame Moissart', 'Gravitation', 'Hotholm', 'Keildhelm', 'Suarven', 'Buckholm', 'Draper', 'Quizzem', 'Jeremy Bentham', 'Terrible', 'Augustus Bedloe', 'Mademoiselle Voissart', 'Mademoiselle Croissart', 'STUBBS', 'Vaucanson', 'William Godwin', 'Von Underduk', 'Fatquack', 'Snob', 'Esq', 'Chateaubriand', 'Borneo', 'Maisons de Sante', 'Lady Bury', 'the Rue Morgue', 'Humboldt', 'D. U. K.', 'Stale Duck', 'Versailles', 'Froisart', 'Zaffre', 'Francis', 'Frenchwoman', \"Kathleen O'Trump\", 'Tousand', 'Touch', 'Xerxes', 'Crébillon', 'Eugenie Lalande', 'Bremen', 'Mille', 'Decollavimus', 'Brussels', \"Thomas D'Anan\", 'Eccossois', 'Ezekiel', 'Piazetta', 'Junius', 'Robert Jones', 'Washington', 'Ge Henna', 'Edina', 'Flos Aeris', 'Frogpondium', 'Cuvier', 'Cordova', 'Bouffon Le Grand', 'Hollander', 'Avenue', \"Lord Brougham's\", 'Queen Pest', 'V. Hesitating', 'Trotter', 'Hoggishly', 'Archipelago', 'William Bird', 'Madame B.', 'Unhappiness', 'Mennais', 'Dodona', 'Allah', 'Lord Glendinning', 'Apicius A', 'Peru', 'Bantry Bay', 'Archimedean', 'Hock', 'Le Diligence Thursday', 'Fraser', 'Cornelius Wyatt', 'Wolf', 'Newfoundland', 'Dublin', 'Oldeb', 'Calcutta', 'Warren Hastings', 'Quarterly', 'Thomas\" turning', 'Butt', 'Williams', 'Crebillon', 'Seabright Ellison', 'Excellencies Von Underduk', 'Germany', 'Tommy', 'Tommy Hawk', 'Norfolk', \"Monck Mason's\", 'Charlestown', 'Jacques St. Eustache', 'Flatzplatz', 'Mignaud']\n",
      "\n",
      "HPL ['Herbert West', 'Sarnath', 'Mnar', 'Sheehan', 'Innsmouth', 'Wilbur', 'Johnson', 'Nature', 'Gawd', 'Charles Le Sorcier', 'West', 'Galpin', 'Appletonians', 'Tillinghast', 'Boston', 'Harris', 'Satan', 'Lawrence', 'Chicago', 'Devil Reef', 'Mis', 'Corey', 'Rowley', 'Walter', 'Kilderry', 'the North End', 'Erich Zann', 'Johansen', 'Pharaoh', 'Valley', 'Birch', 'Hispanicised', 'Romero', 'Peleg Harris', 'Presbyterian Lane', 'Algol', 'Magnalia', 'Iranon', 'Nithra', 'Ottawa', 'Major', 'Gilman', 'Sidney Sime', 'Clark Ashton Smith', 'Arthur Munroe', 'Castro', \"Wizard Whateley's\", 'Broad', 'Washington', 'Lafayette', 'Bolton', 'Masonic Hall', 'Brown Jenkin', 'Carter', 'Terrible Old Man', 'Halsey', 'Hartwell', 'Thurai', 'Lerion', 'Kalos', 'Musides', 'Arkham', 'Nodens', 'Olney', 'Ossian', 'Tempest Mountain', 'Paine', 'Joe', 'Kuranes', 'Black Winged Ones', 'Pickman', 'Yog Sothoth', 'Zokkar', 'Tyrant', 'Barcelona', 'Bennett', 'Tobey', 'Maple Hill', 'Cone Mountain', 'Trembling', 'Dombrowski', 'Choynski', 'Desrochers', 'Mazurewicz', 'Malkowski', 'Peter Slader', 'South', 'Deneb', 'Vega', 'Altair', 'Fomalhaut', 'Frye', 'Elmer', 'Barnard', 'Dacia', 'New York', 'Thraa', 'Ilarnek', 'Kadatheron', 'Ooth Nargai', 'Kingsport', 'Armitage', 'Zann', 'Slater', 'Dutee', 'Mercy', 'Godfrey', 'King', 'Salem', 'Sally', 'Lavinny', \"Asaph Sawyer's\", 'Street', 'Whateley', 'Joseph Glanvill', 'Lyons', 'Abdul Alhazred', 'Eli Liddeason', 'Rehoboth', 'Mehitabel Pierce', 'Hannah', 'Publick', 'Lavinia', 'William Channing Webb', 'Princeton University', 'Joe Mazurewicz', 'Tegea', 'Cambridge', 'Whilst Barzai', 'Minot', 'Babson', 'Juan Romero', 'Christopher', 'Burke', 'Manner', 'Whateleys', 'Puritan', 'Massachusetts', 'King Kynaratholis', 'Artemis', 'Latona', 'Demeter', 'Persephone', 'Plouton', 'William Harris', 'the Gilman House', 'Cathuria', 'Narg', 'Hatheg Kla', 'Barzai', 'Ulthar', 'Atal', 'L. Cælius Rufus', 'Tarraco', 'Schultz', 'Trever', 'Albany', 'Denys Barry', 'Lomar', 'Aldebaran', 'Esquimaux', 'Asiatic', 'Levantine', 'Necronomicon', 'Theseus', 'Ricci', 'Czanek', 'Silva', 'Eb Holt', 'Scripter', 'Midianites', 'Tartary', 'Michel', 'Zebulon', 'Aylesbury', 'Miskatonic', 'Mercy Dexter', 'Aunt Martha', 'Benijah', 'Rome', 'Ravenna', 'Athens', 'Frank Elwood', 'Herrero', 'Etienne Roulet', 'Virginia', \"St. Paul's\", 'Manton', \"Jan Martense's\", 'Barry', 'Tilton', 'Sona Nyl', 'Alfred Trever', 'Appleton', 'Nis', 'Argo Navis', 'Louder', 'Sentinel Hill', \"St. John's\", 'Klenze', 'Keziah', 'De Bry', 'Mount Aran', 'Geoffrey Hyde', 'Acropolis', 'London', 'Gray', \"New England's\", 'Corinth', 'Parthenon', 'Osborn', 'Flanders', 'Clapham Lee', 'Martense', 'Muñoz', 'Galens', 'Athib', 'Serannian', 'Anzique', 'Karthian', 'East Side', 'Archer Harris', 'Zuro', 'Aurora', 'Taran Ish', 'Joe Slater', 'Wal', 'Phebe Harris', 'Obed', 'Kanaky', 'Elwood', 'Bokrug', 'Petrovitch', 'Liberty Café', 'Belial', \"Olaus Wormius'\", 'Spain', 'Chapman', 'Meadow Hill', 'Teloth', 'Jermyn', 'Iä Iä', 'Angell', 'Emma', 'Auckland', 'Verses', 'Williams', 'Rice', 'Wilbur Whateley', 'Favour', 'Sam Hutchins', 'Fred Farr', 'Earl Sawyer', 'Legrasse', 'Vercellius', 'Rhode Island', 'New Jersey', 'Phebe Hetfield', 'Providence', 'Matt Eliot', 'Mason', 'Juan', 'Canton', 'Naraxa', 'Maurice', 'Sansu', 'Pnakotic Manuscripts', 'Wheeler', 'Nyarlathotep', 'Ibid', 'Barnabas', 'Jermyns', 'Arthur', 'Jack', 'Elam', 'Dagon Hall', 'Robert', 'Nevil', 'Philip Jermyn', 'Brightholmes', 'Harley Warren', 'Wade', \"Wade Jermyn's\", 'Hatheg', 'Reid', 'Dunwich', 'Abigail', 'Ruth', 'Lavinia Whateley', 'Col', 'Spring Glen', 'Cleis', 'Old Whateley', 'Willy', 'Albertus Magnus', 'Trithemius', 'Hermes Trismegistus', 'Raabe', 'Schneider', 'Wesley Corey', 'Alfred Jermyn', 'Calagurris', 'South Sea', 'Ipswich', 'Jaren', 'Harold Haardrada', 'Oslo', 'Roulets', 'East Greenwich', 'Narragansett Bay', 'Rhoby Harris', 'Elkanah', 'Upham', 'Hawkins', 'Curtis', 'Goldsmith', 'Mwanu', 'America', 'Gabinius', 'Stonehenge', 'Jan Martense', 'Wilcox', 'Resolved Babcock', 'Dagon', 'Mene', 'East', 'Perseus', 'Cassiopeia', 'Cepheus', 'Arthur Jermyn', 'God', 'Peters', 'Roulet', 'New England', 'Africa', 'Asia', 'the South Seas', 'Jew', 'India', 'Matthew Fenner', 'Oonai', 'Gaul', 'Clovis', 'Ann White', \"Ignatius Donnelly's\", 'Charles Fort', 'China', 'Greenland', 'Webb', 'Pope Leo', 'Augustan', 'Müller', 'Congo', \"Y'ha nthlei\", 'Obed Marsh', 'M. Verhaeren', 'Allan Halsey', 'Cydathria', 'Bnazic', 'Aira', 'Cthulhu', 'Libo', 'Job Ives', 'Gnai Kah', 'Señor', 'Spaniard', 'Zeb Whateley', 'George', 'Kanakys', 'Samuel Seaton', 'Ongas', \"Cotton Mather's\", 'Main', 'Seth', 'Sabaoth', 'Dunwich Village', 'Balbutius', 'Davis', 'Danvers', 'Boswell', 'Reason', 'Eric Moreland', 'Green', 'Archer', 'Carrington', 'Zadok Allen', 'Ptolemaism', 'Calvinism', 'Esteban', 'Baron', 'Saxon', 'Lindum', 'Roman Britain', 'Holland', 'Gustaf Johansen', 'Mesopotamia', 'William', 'Elihu Whipple', 'Celephaïs', 'Chesterfield', 'Rochester', 'Ibn Schacabao', 'Beginnin', \"George Corey's\", 'Ten Acre Meadow', 'Greenwich', 'Sphinx', 'Odysseus', 'Asellius', 'Trevor Towers', 'Athok', 'E. Lapham Peabody', 'James Williamson', 'Ohio', 'Father Neptune', 'Sydney', 'Pierre', \"Hangman's Brook\", 'Villon', 'Verlaine', 'Oscar Wilde', 'Drinen', 'Nephren Ka', 'Hadoth', 'Nile', 'Olathoë', 'Zobna', 'Gnophkehs', 'Curtis Whateley', 'Jefferson', 'Whitman', 'Douglas', 'Zadok', 'Sefton', 'Warren', 'Dho', 'Eliot', 'Gregory', 'Vascones', 'Pompelo', 'Cyclopean', 'Toledo', 'Sheet', 'Thalarion', 'Fiji', 'Maria Robbins', 'St. John', 'Maria', 'Lady Jermyn', 'P. Scribonius', 'Rue', 'Lord Northam', 'Goodman Simpson', 'Squire', 'Morgan', 'Brava Portuguese', 'Milwaukee', 'Charles', 'the Middle Ages', 'Adam Smith', 'Percy', 'Edw', 'April nd', 'de Sitter', 'Copp', 'Hellas', 'Yule', 'Zar', 'the City of a', 'Noton', 'Jonathan Gifford', 'Squire Sawyer Whateley', 'Nova Persei', 'Garrett P. Serviss', 'Anderson', 'Edinburgh', 'Burney', 'Malone', 'Marshes', 'Waites', 'Attica', 'Symbolists', 'Stethelos', 'Menes', 'Keziah Mason', 'Kaliri', 'Asaph Sawyer', 'Thurber', \"Wilbur Whateley's\", 'Seth Bishop', 'the Providence River', \"Von Schweinkopf's\", 'Italien', 'Ataulf', 'Placentia', 'Von Schweinkopf', 'Gibbon', 'Boethius', 'Tully', 'the Valley of', 'Mamie', 'Zechariah', 'Pleiades', 'Quick', 'Central Hill', \"St. Mary's\", 'Chris', 'Ai', 'Hayti', 'Parker', 'Tyché', 'Holmes', 'Lowell', 'Longfellow Lie', 'Mount Auburn', 'Congregationalists', 'Arthur Conan Doyle', 'Fuseli', 'John', 'Collins', 'Kingsporter', 'Schmidt', 'Zimmer', 'Marsh', 'France', 'Bob Wig', 'Powder', 'Mather', 'Moorish', 'Cleveland', 'D. Johns Hopkins', 'Donovan', 'Guerrera', 'Cerenerian Sea', 'Paterson', 'Newburyport', 'Arthur Machen', 'the Saouth Sea', 'Silas Bishop', 'Syria', 'Ægyptus', 'Etruria', 'Diana Aricina', 'Lacus Nemorensis', 'Enoch', 'New Hampshire', 'Caude', 'Syracuse', 'Joel Manton', 'El', 'Pete Stowacki', 'Bunsen', 'Hooper', 'Logick', 'Kaliris', 'Hydes', 'South Street', 'Nariel', 'the Middle Ocean', 'Implan', 'Partholan', 'Elmer Frye', 'Robert Jermyn', 'Wade Jermyn', 'Gainesville', 'Nargis Hei', 'Disorder', 'Surrey', 'Nith', 'Kranon', 'Shang', 'Wearied', 'Eric Moreland Clapham Lee', 'St. Eloi', 'David Garrick', 'Messieurs Tho', 'Updike', 'Ronald Hill', 'Walakea', 'Clare Market', 'Levite', 'the Tanarian Hills', 'Mamie Bishop', 'Abijah Hoadley', 'Buzrael', 'Beelzebub', 'Ground', 'Walter Gilman', 'Edgar Allan', 'H.\" The face', 'Etienne', 'Paul', 'Pict', 'Dane', 'Norman', 'Edward Third', 'Northam', 'the Black Man', 'Nahab', \"Aunt Marthy's\", 'Aunt Marthy', 'Pope', 'Twelvemonth', \"Old Bugs'\", 'Tremont', 'Beacon', 'East Indians', 'Bacchanals', 'Whipple', 'Michel Mauvais', 'Carrington Harris', 'Sam Johnson', 'Hiram Gilman', \"Arthur Jermyn's\", 'Selina Frye', 'Randolph Carter', 'Ellery', 'Skai', 'Ilek Vad', 'Tartarus', 'Sona', 'Bishop', 'Brook', 'Crookes', 'Exeter', 'Jermyn House', 'Jacques Roulet', 'Paris', 'Nemed', 'Scythia', 'Salem Gaol', 'Mausolus', 'Essex County', 'Pacific', 'Hsan', 'Joe Minot', 'Bosworth', 'England', 'Falona', 'Father Iwanicki', 'Ann', 'Gentlewoman', 'Kent', 'Victoria Embankment', 'Inquiries', 'Thar', 'Briden', 'Edmund Carter', \"George Birch's\", 'Nir', 'Y.M.C.A.', 'Martenses', 'Hope', 'Wise', 'Pequots', 'Narragansetts', 'Petrus', 'Lombardic', 'New Netherland', 'Hannah Bowen', 'Kingsport Head', 'Cape Ann', 'West Street', 'Barzai the Wise', 'Git', 'Bates', 'Señor el', 'Louis', 'Armands', 'Blue', 'Poseidonis', 'Illinois', 'Orne', 'Anastasia Wolejko', 'George Bennett', 'William Tobey', 'Blandot', 'Salem Zerubbabel', 'Sawyer', 'Knight', 'Eleanor Wing', 'A.M.', 'Sabbaths', 'Gorges', 'Milton', 'Beauclerk', 'Langton', 'J. Reynolds', 'Painter', 'Nugent', 'John Hawkins', 'Anthony Chamier', 'Thomas Olney', 'West Fourteenth Street', 'John Raymond Legrasse', 'Latin', 'Anglo Saxon', 'Neptune', 'Central Asia', 'Sarkis', 'Kadiphonek', 'San Francisco', 'Greenough Lane', 'Angelo Ricci', 'Joe Czanek', 'Manuel Silva', 'California', 'Henri the Comte', 'Gad', 'John Throckmorton', 'Alice', 'Mankind', 'Banof', 'Alos', 'Ireland', 'Ardois Bonnot', 'Stubbs', 'Zerubbabel', \"St. Ibid's\", 'Disruptions', 'Raymond', 'De Langlade', 'Lake Winnebago', 'Lake Mendota', 'the Menominee River', 'Lake Michigan', 'Gallows Hill', 'Peck Valley', 'Haverhill', 'Pole Star', 'Squire Brewster', 'Alhazred', 'Norway', 'Rhinelander', 'Gerrit', 'Europe', 'Bulwer', 'Parks', 'Lydia', 'Young Galpin', 'Basil Elton', 'Egeberg', 'Warren Warren Answer', \"Herbert West's\", 'Augustus', 'Hei Hei', 'Eliot Street', 'Wizard Whateley', \"Keziah Mason's\", 'Maius', 'Henri', 'Oxonian Spanish', 'New Spain', 'Paul Roulet', \"Cha'ncey\", 'Mauvais', 'Passon Clark', 'Narthos', 'Xari', 'Sinara', 'Alfred', 'Gifford', 'Guinea', 'B. M.', 'Romnod', 'Williamson', 'Mynheer Martense', 'Greece', 'William Briden', 'South America', 'Constantinopolis', 'Justinianus', 'Justinus', 'Onesiphorus', 'Karl Trever', 'Gerrit Martense', \"Arthur Machen's\", 'Rough', 'Adams', \"West's\", 'Keziah Brown Jenkin', \"W. Scott Elliot's\", 'Murray', 'Western Europe', 'Randolph', 'Ballylough', 'Stafford', 'Eleazar Durfee', 'Plum Island', 'Glad', 'New Orleans', 'April Gilman', 'Atlantic', 'Lieut', 'Thomas St.', 'R.I.', 'John R. Legrasse', 'Bienville St.', 'La.', 'Yorkshire', 'Edwin', 'Asaph', 'Aiolos', 'Neb', 'Nitokris', 'Green Lane', 'Gallant LEEDS', 'Lineage', 'Maid', 'Wit', \"James Rhoades'\", 'Clark', 'Armington', 'Crawford Tillinghast', \"Harvard wun't\", 'S. Latitude', 'W. Longitude', \"R'lyeh\", 'Mary Czanek', 'Mary', 'West India', 'Belisarius', 'Sargent', 'Arabia', 'Irem', 'the City of Pillars', 'Kadath', \"Paul Choynski's\", \"D'Iberville\", 'La Salle', 'Henry Wheeler', 'Manuxet', 'Laocoön', 'Waldron', 'Mount Maenalus', 'Arcadia', 'Rhoby Dexter', 'Hypnos', 'Garrick', 'Matt', 'Dee', 'Seaman Zimmer', \"Carrington Harris's\", 'East Indian', 'Indo Chinese', \"Esdras Martin's\", 'Malay Pride', 'Azathoth', 'Hammond', 'Neanderthal Man', 'Satan Heh', 'Sally Sawyer', \"Seth Bishop's\", 'Chauncey', 'Addison', 'Swift', 'Friend', 'Killin', 'Ladislas Wolejko', 'Pompelona', 'Unhand', \"Ol' Squar\", \"Randolph Carter's\", 'North End', 'Notre Dame', 'Pavia', 'Desiderius', 'Hiram', 'Jacques Caboche', 'Hans Zimmerman', 'East Providence', 'Houghton', 'Yew', 'Akariel', 'Maumee', 'Devonshire', 'Gregorian Stile', 'Glass', 'Satanism', 'Germany', 'Oxford', 'Delphinus', 'Dutee Harris', \"Sumner's Pond\", 'Italy', 'Classe', 'King Autharis', 'Pete Schultz', 'Wisconsin', 'Darius Peck', 'Paul Choynski', 'Landlord Dombrowski', 'Dexter', 'North Main', 'Canonchet', 'Connecticut', 'Ibn Ghazi', 'Hill', 'Vitiges', 'Ibidus', 'Fenton', 'Arabiscus', 'Cappadocia', 'Luther', 'Sidney S. Rider', 'Thomas W. Bicknell', 'autumn Carter', 'Joseph D. Galvez', 'Fredericksburg', 'Wallace', 'Corona Borealis', 'Oaths', 'Hallowmass', 'Robert Leavitt', 'St. Louis', 'Peabody', 'Benjamin Orne', 'Lefferts Corners', 'Anacreontic', 'George Gammell Angell', 'Emeritus', 'Angarola', 'Rodriguez', 'Waite', 'Thran', 'Kled', 'Richard Upton Pickman', 'Pentelicus', \"Matt Fenner's\", 'Nath Horthath', 'Lathi', 'Jehovah Stubbs', \"Hannah Bixby's\", 'Capwell', 'Helvia', 'Scipio', 'Dorieb', 'Kiel', 'Victory', 'Liverpool', 'States', 'Hoadley', 'Springfield', 'Paradise Lost', 'Good Friday', 'Congregational', 'Hathorne', 'Heh', 'Great Britain', 'Greene', 'Emma of', 'Warren Rice', 'Francis Morgan', 'Brilliancy', 'Discourse', 'Barons', 'Counts', \"Gerrit Martense's\", 'Preserved Smith', 'Chad Hopkins', \"Rhoby Harris's\", 'Claudius Claudianus', 'Theodatus', 'Theodoric', 'Mowry', 'Bethlehem', 'Babylon', 'Memphis', 'Anacreon', 'Mehitabel', 'Seamen Bohm', 'Otaheité', 'Ponape', 'Easter Island', 'Egypt', 'Tsan Chan', 'Crusader', 'Elizabeth', 'Littlewit', 'Æmilianus', 'Bêtenoir', 'Magnus Furius Camillus']\n",
      "\n",
      "MWS ['Raymond', 'Constantinople', 'William', 'Cornelius Agrippa', 'Albertus Magnus', 'Paracelsus', 'Adrian', 'Geneva', 'Scotland', 'Justine', 'Cumberland', 'Greece', 'Perdita', 'Alfred', 'London', 'Bolter', 'Safie', 'Vienna', 'Elizabeth', 'Lord Raymond', 'Windsor', 'Kirwin', 'Drury Lane Theatre', 'Pandemonium', 'England', 'Greek', 'Roman', 'Fletcher', 'Perth', 'Dunkeld', 'David', 'Idris', 'Mount Athos', 'Pale', 'Elizabeth Lavenza', 'Joy', 'Macedonia', 'Calderon de la Barca', 'Asia', 'Oman', 'M. Clerval', 'Transformed', 'Belfast', 'Clerval', 'Evadne', 'Raymond men of', 'Belrive', 'Kishan', 'Rodosto', 'Mont Saleve', 'HALF England', 'Chamounix', 'Earl', 'Mathilda', 'Raymond\" I', 'Walton', 'Italy', 'Tiber', 'Arno', 'Henry', 'Woodville', 'Ingolstadt', 'Aye', 'Makri', 'Bracknel', 'Thou', 'North', 'Baiae', 'Victor', 'Europe', 'Africa', 'America', 'Atlantic', 'Philadelphia', 'Justine Moritz Poor', 'Plutarch', 'Margaret', 'Hamburgh', 'Russia', 'Paris', 'Jura', 'Lazzeroni', 'Montalegre', 'Mont Blanc', 'Ernest', 'Providence', 'Ulswater', 'M. Krempe', 'M. Waldman', 'Felix', 'Timon', 'Don Giovanni', 'Newfoundland', 'Roncesvalles', 'Athens', 'Britain', 'Martha', 'Clara', 'Agatha', 'Janisaries', 'Switzerland', 'Rome', 'Nature', 'Edinburgh', 'Arthur', \"St. Bernard's\", 'France', \"St. Stephen's\", 'Persia', 'India', 'Universal Mother', 'Louis Manoir', 'Papa', 'Krempe', 'De Lacey', 'Diana', 'Homer', 'Shakespeare', 'Pelissier', 'Medean', 'Leghorn', 'Turkey', 'Germany', 'Evelyn', 'Earth', 'Nourjahad', 'Charles I. had', 'Thrace', 'Ernest He', 'Constantine', 'Turk', 'Eleusis', 'Datchet', 'Sabines', 'Drance', 'Wit', 'Englefield Green', 'Eton', 'Whence', 'Oxford', 'Elinor', 'Naples', 'Latona', 'Fairy', 'Little Clara', 'Diotima', 'Athos', 'Sweet Waters', 'Lyons', 'Mont Cenis', 'Sick', 'the North Sea', 'Marmora', 'Portsmouth', 'Lady Protectress', 'Una', 'Love', 'East', 'Morning', 'Richmond', 'Yorkshire', 'Friend', 'Dante', 'Hope', 'Verney', 'Alexander', 'Mahmoud', 'Walton Seek', 'Syria', 'Adonis', 'Raymond Athens', 'Angel', 'Hyde Park', 'Constance', 'Daniel Nugent', 'China', 'Mediterranean', 'Lausanne', \"Lord Byron's\", 'Fourth Canto', 'Childe Harolde', 'Lay', 'Alp', 'Thonon', 'Karazza', 'Andes', 'Lord Bacon', 'Valley', 'Lucerne', 'Earl of', 'Windsor Castle', 'Egypt', 'Muhammadan', 'Esq', 'Semele', 'Juliet', 'Protectorship', 'Muhammad', 'Loch Lomond', 'Stamboul', 'Raymond\"', 'North America', 'Raphael', 'Correggio', 'Claude', 'Morea', 'Ryland', 'Georgio Palli', 'Werter', 'Beaufort', 'Caesar', 'Mexico', 'Peru', 'Allah', \"St. Paul's\", 'Porgi', 'Almaviva', 'Farewell', 'Aegean', 'Lord Protector', 'Protector', 'Hampden', 'Justine Moritz', 'Ireland', 'Coupar', \"St. Andrew's\", 'Austria', 'Isaac Newton', 'Madame Moritz', 'Satan', 'Chapter', 'Urania', 'Sampson', 'Silence', 'Volney', 'Rotterdam', 'Marseilles', 'Eumenides', 'Oedipus', 'Florence', 'Pisa', 'Rhine', 'Holborn Hill', 'Alps', 'Thessaly', 'Hymettus', 'Sun', 'Sweet', 'Trembling', \"Lord Raymond's\", 'Grace', 'Merrival', 'Godlike', 'Adam', 'Wordsworth', 'Lionel Verney', 'Henry Clerval', 'Laudanum', 'Expire', 'Elysium', 'Milan', 'Tilbury Fort', 'Gravesend', 'Woolwich', 'Greenwich', 'Quito', 'Minotaur', 'Mamma', 'Vathek', 'God', 'Petersburgh', 'Lady Idris', 'Villa Lavenza', 'South', 'Plainpalais', 'earth', 'Hungary', 'Secheron', 'Dartford', 'Poor William', 'Milton', 'Pope', 'Cowper', 'Livy', 'Rollin', 'De Foe', 'Browne', 'Macduff', 'Paradise', 'morrow', 'Alphonse Frankenstein', 'Cincinnatus', 'The Vicar of Wakefield', 'Hindostan', 'Abra', 'Liverpool', 'Bristol', 'Manchester', 'Robert Walton Letter', 'Saville', 'Westminster Abbey', 'Stephen', 'Loch Katrine', 'Killarney', 'Amalthea', 'Mithridates', 'Remorse', 'Proteus', 'Piraeus', 'the Black Sea', 'Castle', 'Sorrow', 'Lordship', 'Besought', 'Ispahan', 'Pekin', 'Delhi', 'Plato', 'Berkeley', 'Spencer', 'Guyon', 'Celt', 'Anchises', 'Venus', 'Reason', 'Sibyl', \"Uncle Thomas'\", 'Strasbourg', 'Frankenstein', 'Nathelesse', 'Salt Hill', 'Rosse', 'Myrrha', 'Louisa Biron', 'Little Marlow', 'Uncle', 'Thorough', 'Gulliver', 'Napoleon', 'Borghese', 'Fantasia', 'Greeks', 'Falkland', 'Goring', 'M. Duvillard', 'Spain', 'Truly', 'Archangel', 'Adrian;', 'Virgil', 'Daniel', 'Manoir', 'Havre de Grace', 'Antiparos', 'Saleve', 'Juras', 'Chaldee', 'Cologne', 'Paul', 'Arveiron', 'Nessus', 'the Calamity of Homer', 'Good God', 'Asiatics', \"F Spencer's\", 'Livadia', 'Attica', 'Great Britain', 'Norwich', 'Octavius Caesar', 'Mark Antony', 'St. Albans', 'Ond', 'Elysian Fields', 'Avernus', 'Argyropylo', 'Raymond to the office of Protector', 'Burke', 'Agrippa', 'Miranda', 'Prospero', 'George', 'Montanvert', 'Rosalind', 'Comus', 'Shakspeare', 'Mansfield', 'John Melbourne', 'St. Sophia', 'Mozart', 'Ulysses', 'Malcolm', 'Greenland', 'Luton', 'Luna', 'Servox', 'Reuss', 'New Holland', \"Van Diemen's\", 'Indus', 'Derby', 'Ancona']\n",
      "\n"
     ]
    }
   ],
   "source": [
    "for key, val in ner.items():\n",
    "    print(key, val)\n",
    "    print(\"\")"
   ]
  },
  {
   "cell_type": "code",
   "execution_count": null,
   "metadata": {
    "collapsed": true
   },
   "outputs": [],
   "source": [
    "# TODO only keep unique persons, locations for each Author"
   ]
  }
 ],
 "metadata": {
  "kernelspec": {
   "display_name": "Python 3",
   "language": "python",
   "name": "python3"
  },
  "language_info": {
   "codemirror_mode": {
    "name": "ipython",
    "version": 3
   },
   "file_extension": ".py",
   "mimetype": "text/x-python",
   "name": "python",
   "nbconvert_exporter": "python",
   "pygments_lexer": "ipython3",
   "version": "3.5.2"
  }
 },
 "nbformat": 4,
 "nbformat_minor": 2
}
